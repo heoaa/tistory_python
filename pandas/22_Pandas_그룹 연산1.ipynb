{
 "cells": [
  {
   "cell_type": "markdown",
   "id": "7a5d148f",
   "metadata": {},
   "source": [
    "## 데이터 집계\n",
    "* 갭마인더 메소드로 평균값 구하기"
   ]
  },
  {
   "cell_type": "code",
   "execution_count": 1,
   "id": "b9397b8b",
   "metadata": {},
   "outputs": [],
   "source": [
    "import pandas as pd\n",
    "df = pd.read_csv('./gapminder.tsv', sep = '\\t')"
   ]
  },
  {
   "cell_type": "code",
   "execution_count": 9,
   "id": "b6f95c9c",
   "metadata": {
    "scrolled": true
   },
   "outputs": [
    {
     "data": {
      "text/plain": [
       "year\n",
       "1952    49.057620\n",
       "1957    51.507401\n",
       "1962    53.609249\n",
       "1967    55.678290\n",
       "1972    57.647386\n",
       "1977    59.570157\n",
       "1982    61.533197\n",
       "1987    63.212613\n",
       "1992    64.160338\n",
       "1997    65.014676\n",
       "2002    65.694923\n",
       "2007    67.007423\n",
       "Name: lifeExp, dtype: float64"
      ]
     },
     "execution_count": 9,
     "metadata": {},
     "output_type": "execute_result"
    }
   ],
   "source": [
    "# year 열 기준으로 그룹화한 다음 lifeExp 열의 평균 구하기\n",
    "avg_life_exp_by_year = df.groupby('year')['lifeExp'].mean()\n",
    "avg_life_exp_by_year"
   ]
  },
  {
   "cell_type": "markdown",
   "id": "3e0a60c2",
   "metadata": {},
   "source": [
    "* groupby 메서드이 분할/반영/결합 과정 확인"
   ]
  },
  {
   "cell_type": "code",
   "execution_count": 4,
   "id": "117aa76c",
   "metadata": {},
   "outputs": [
    {
     "name": "stdout",
     "output_type": "stream",
     "text": [
      "[1952 1957 1962 1967 1972 1977 1982 1987 1992 1997 2002 2007]\n"
     ]
    }
   ],
   "source": [
    "# 분할 작업\n",
    "years = df['year'].unique()    # df.year.unique() 동일\n",
    "print(years)"
   ]
  },
  {
   "cell_type": "code",
   "execution_count": 5,
   "id": "4c9c0fd5",
   "metadata": {},
   "outputs": [
    {
     "name": "stdout",
     "output_type": "stream",
     "text": [
      "[(1952, 49.05761971830987), (1957, 51.507401126760534), (1962, 53.60924901408449), (1967, 55.67828957746479), (1972, 57.647386478873244), (1977, 59.57015746478873), (1982, 61.53319718309858), (1987, 63.21261267605636), (1992, 64.16033802816901), (1997, 65.01467605633805), (2002, 65.69492253521126), (2007, 67.00742253521126)]\n"
     ]
    }
   ],
   "source": [
    "# 반영 작업\n",
    "year_means = []\n",
    "for y in years :\n",
    "    m = df.loc[df.year == y, :].lifeExp.mean()\n",
    "    year_means.append((y,m))\n",
    "    \n",
    "print(year_means)"
   ]
  },
  {
   "cell_type": "code",
   "execution_count": 6,
   "id": "557d199c",
   "metadata": {},
   "outputs": [
    {
     "data": {
      "text/html": [
       "<div>\n",
       "<style scoped>\n",
       "    .dataframe tbody tr th:only-of-type {\n",
       "        vertical-align: middle;\n",
       "    }\n",
       "\n",
       "    .dataframe tbody tr th {\n",
       "        vertical-align: top;\n",
       "    }\n",
       "\n",
       "    .dataframe thead th {\n",
       "        text-align: right;\n",
       "    }\n",
       "</style>\n",
       "<table border=\"1\" class=\"dataframe\">\n",
       "  <thead>\n",
       "    <tr style=\"text-align: right;\">\n",
       "      <th></th>\n",
       "      <th>year</th>\n",
       "      <th></th>\n",
       "    </tr>\n",
       "  </thead>\n",
       "  <tbody>\n",
       "    <tr>\n",
       "      <th>0</th>\n",
       "      <td>1952</td>\n",
       "      <td>49.057620</td>\n",
       "    </tr>\n",
       "    <tr>\n",
       "      <th>1</th>\n",
       "      <td>1957</td>\n",
       "      <td>51.507401</td>\n",
       "    </tr>\n",
       "    <tr>\n",
       "      <th>2</th>\n",
       "      <td>1962</td>\n",
       "      <td>53.609249</td>\n",
       "    </tr>\n",
       "    <tr>\n",
       "      <th>3</th>\n",
       "      <td>1967</td>\n",
       "      <td>55.678290</td>\n",
       "    </tr>\n",
       "    <tr>\n",
       "      <th>4</th>\n",
       "      <td>1972</td>\n",
       "      <td>57.647386</td>\n",
       "    </tr>\n",
       "    <tr>\n",
       "      <th>5</th>\n",
       "      <td>1977</td>\n",
       "      <td>59.570157</td>\n",
       "    </tr>\n",
       "    <tr>\n",
       "      <th>6</th>\n",
       "      <td>1982</td>\n",
       "      <td>61.533197</td>\n",
       "    </tr>\n",
       "    <tr>\n",
       "      <th>7</th>\n",
       "      <td>1987</td>\n",
       "      <td>63.212613</td>\n",
       "    </tr>\n",
       "    <tr>\n",
       "      <th>8</th>\n",
       "      <td>1992</td>\n",
       "      <td>64.160338</td>\n",
       "    </tr>\n",
       "    <tr>\n",
       "      <th>9</th>\n",
       "      <td>1997</td>\n",
       "      <td>65.014676</td>\n",
       "    </tr>\n",
       "    <tr>\n",
       "      <th>10</th>\n",
       "      <td>2002</td>\n",
       "      <td>65.694923</td>\n",
       "    </tr>\n",
       "    <tr>\n",
       "      <th>11</th>\n",
       "      <td>2007</td>\n",
       "      <td>67.007423</td>\n",
       "    </tr>\n",
       "  </tbody>\n",
       "</table>\n",
       "</div>"
      ],
      "text/plain": [
       "    year           \n",
       "0   1952  49.057620\n",
       "1   1957  51.507401\n",
       "2   1962  53.609249\n",
       "3   1967  55.678290\n",
       "4   1972  57.647386\n",
       "5   1977  59.570157\n",
       "6   1982  61.533197\n",
       "7   1987  63.212613\n",
       "8   1992  64.160338\n",
       "9   1997  65.014676\n",
       "10  2002  65.694923\n",
       "11  2007  67.007423"
      ]
     },
     "execution_count": 6,
     "metadata": {},
     "output_type": "execute_result"
    }
   ],
   "source": [
    "# 결합 작업\n",
    "df2 = pd.DataFrame({\n",
    "    'year' : [y for y,m in year_means],\n",
    "    '' : [m for y,m in year_means]\n",
    "})\n",
    "\n",
    "df2"
   ]
  },
  {
   "cell_type": "markdown",
   "id": "f4d6d4ae",
   "metadata": {},
   "source": [
    "* 사용자 함수 적용 agg() : 입력받은 열의 평균값을 구하는 사용자 함수(apply()와 유사)"
   ]
  },
  {
   "cell_type": "code",
   "execution_count": 10,
   "id": "da632e64",
   "metadata": {},
   "outputs": [],
   "source": [
    "def my_mean(values) :\n",
    "    n = len(values)\n",
    "    sum = 0\n",
    "    for value in values :\n",
    "        sum += value\n",
    "    return sum / n"
   ]
  },
  {
   "cell_type": "code",
   "execution_count": 15,
   "id": "8a37dcd5",
   "metadata": {},
   "outputs": [
    {
     "data": {
      "text/plain": [
       "year\n",
       "1952    49.057620\n",
       "1957    51.507401\n",
       "1962    53.609249\n",
       "1967    55.678290\n",
       "1972    57.647386\n",
       "1977    59.570157\n",
       "1982    61.533197\n",
       "1987    63.212613\n",
       "1992    64.160338\n",
       "1997    65.014676\n",
       "2002    65.694923\n",
       "2007    67.007423\n",
       "Name: lifeExp, dtype: float64"
      ]
     },
     "execution_count": 15,
     "metadata": {},
     "output_type": "execute_result"
    }
   ],
   "source": [
    "agg_my_mean = df.groupby('year').lifeExp.agg(my_mean)\n",
    "agg_my_mean"
   ]
  },
  {
   "cell_type": "markdown",
   "id": "a51b50c9",
   "metadata": {},
   "source": [
    "* 2개 인자 사용"
   ]
  },
  {
   "cell_type": "code",
   "execution_count": 16,
   "id": "799622fc",
   "metadata": {},
   "outputs": [],
   "source": [
    "# 연도별 평균 수명에서 전체 평균 수명 차이를 구하는 사용자 함수\n",
    "def my_mean_diff(values, diff_value) :\n",
    "    n = len(values)\n",
    "    sum = 0\n",
    "    for value in values :\n",
    "        sum += value\n",
    "    mean = sum / n\n",
    "    return mean - diff_value"
   ]
  },
  {
   "cell_type": "code",
   "execution_count": 17,
   "id": "5dcb2c92",
   "metadata": {},
   "outputs": [
    {
     "data": {
      "text/plain": [
       "59.47443936619714"
      ]
     },
     "execution_count": 17,
     "metadata": {},
     "output_type": "execute_result"
    }
   ],
   "source": [
    "# 전체 평균 수명\n",
    "global_mean = df.lifeExp.mean()\n",
    "global_mean"
   ]
  },
  {
   "cell_type": "code",
   "execution_count": 19,
   "id": "1ff3b20f",
   "metadata": {},
   "outputs": [
    {
     "data": {
      "text/plain": [
       "year\n",
       "1952   -10.416820\n",
       "1957    -7.967038\n",
       "1962    -5.865190\n",
       "1967    -3.796150\n",
       "1972    -1.827053\n",
       "1977     0.095718\n",
       "1982     2.058758\n",
       "1987     3.738173\n",
       "1992     4.685899\n",
       "1997     5.540237\n",
       "2002     6.220483\n",
       "2007     7.532983\n",
       "Name: lifeExp, dtype: float64"
      ]
     },
     "execution_count": 19,
     "metadata": {},
     "output_type": "execute_result"
    }
   ],
   "source": [
    "# agg() 적용\n",
    "agg_mean_diff = df.groupby('year').lifeExp.agg(my_mean_diff, diff_value = global_mean)\n",
    "agg_mean_diff"
   ]
  },
  {
   "cell_type": "markdown",
   "id": "d4e2d842",
   "metadata": {},
   "source": [
    "### 여러 개의 집계 메소드 한번에 적용(리스트)"
   ]
  },
  {
   "cell_type": "code",
   "execution_count": 22,
   "id": "f9668f90",
   "metadata": {},
   "outputs": [
    {
     "data": {
      "text/html": [
       "<div>\n",
       "<style scoped>\n",
       "    .dataframe tbody tr th:only-of-type {\n",
       "        vertical-align: middle;\n",
       "    }\n",
       "\n",
       "    .dataframe tbody tr th {\n",
       "        vertical-align: top;\n",
       "    }\n",
       "\n",
       "    .dataframe thead th {\n",
       "        text-align: right;\n",
       "    }\n",
       "</style>\n",
       "<table border=\"1\" class=\"dataframe\">\n",
       "  <thead>\n",
       "    <tr style=\"text-align: right;\">\n",
       "      <th></th>\n",
       "      <th>count_nonzero</th>\n",
       "      <th>mean</th>\n",
       "      <th>std</th>\n",
       "    </tr>\n",
       "    <tr>\n",
       "      <th>year</th>\n",
       "      <th></th>\n",
       "      <th></th>\n",
       "      <th></th>\n",
       "    </tr>\n",
       "  </thead>\n",
       "  <tbody>\n",
       "    <tr>\n",
       "      <th>1952</th>\n",
       "      <td>142</td>\n",
       "      <td>49.057620</td>\n",
       "      <td>12.225956</td>\n",
       "    </tr>\n",
       "    <tr>\n",
       "      <th>1957</th>\n",
       "      <td>142</td>\n",
       "      <td>51.507401</td>\n",
       "      <td>12.231286</td>\n",
       "    </tr>\n",
       "    <tr>\n",
       "      <th>1962</th>\n",
       "      <td>142</td>\n",
       "      <td>53.609249</td>\n",
       "      <td>12.097245</td>\n",
       "    </tr>\n",
       "    <tr>\n",
       "      <th>1967</th>\n",
       "      <td>142</td>\n",
       "      <td>55.678290</td>\n",
       "      <td>11.718858</td>\n",
       "    </tr>\n",
       "    <tr>\n",
       "      <th>1972</th>\n",
       "      <td>142</td>\n",
       "      <td>57.647386</td>\n",
       "      <td>11.381953</td>\n",
       "    </tr>\n",
       "    <tr>\n",
       "      <th>1977</th>\n",
       "      <td>142</td>\n",
       "      <td>59.570157</td>\n",
       "      <td>11.227229</td>\n",
       "    </tr>\n",
       "    <tr>\n",
       "      <th>1982</th>\n",
       "      <td>142</td>\n",
       "      <td>61.533197</td>\n",
       "      <td>10.770618</td>\n",
       "    </tr>\n",
       "    <tr>\n",
       "      <th>1987</th>\n",
       "      <td>142</td>\n",
       "      <td>63.212613</td>\n",
       "      <td>10.556285</td>\n",
       "    </tr>\n",
       "    <tr>\n",
       "      <th>1992</th>\n",
       "      <td>142</td>\n",
       "      <td>64.160338</td>\n",
       "      <td>11.227380</td>\n",
       "    </tr>\n",
       "    <tr>\n",
       "      <th>1997</th>\n",
       "      <td>142</td>\n",
       "      <td>65.014676</td>\n",
       "      <td>11.559439</td>\n",
       "    </tr>\n",
       "    <tr>\n",
       "      <th>2002</th>\n",
       "      <td>142</td>\n",
       "      <td>65.694923</td>\n",
       "      <td>12.279823</td>\n",
       "    </tr>\n",
       "    <tr>\n",
       "      <th>2007</th>\n",
       "      <td>142</td>\n",
       "      <td>67.007423</td>\n",
       "      <td>12.073021</td>\n",
       "    </tr>\n",
       "  </tbody>\n",
       "</table>\n",
       "</div>"
      ],
      "text/plain": [
       "      count_nonzero       mean        std\n",
       "year                                     \n",
       "1952            142  49.057620  12.225956\n",
       "1957            142  51.507401  12.231286\n",
       "1962            142  53.609249  12.097245\n",
       "1967            142  55.678290  11.718858\n",
       "1972            142  57.647386  11.381953\n",
       "1977            142  59.570157  11.227229\n",
       "1982            142  61.533197  10.770618\n",
       "1987            142  63.212613  10.556285\n",
       "1992            142  64.160338  11.227380\n",
       "1997            142  65.014676  11.559439\n",
       "2002            142  65.694923  12.279823\n",
       "2007            142  67.007423  12.073021"
      ]
     },
     "execution_count": 22,
     "metadata": {},
     "output_type": "execute_result"
    }
   ],
   "source": [
    "import numpy as np\n",
    "gdf = df.groupby('year').lifeExp.agg([np.count_nonzero, np.mean, np.std])\n",
    "gdf"
   ]
  },
  {
   "cell_type": "code",
   "execution_count": 23,
   "id": "a1808d4c",
   "metadata": {},
   "outputs": [
    {
     "data": {
      "text/html": [
       "<div>\n",
       "<style scoped>\n",
       "    .dataframe tbody tr th:only-of-type {\n",
       "        vertical-align: middle;\n",
       "    }\n",
       "\n",
       "    .dataframe tbody tr th {\n",
       "        vertical-align: top;\n",
       "    }\n",
       "\n",
       "    .dataframe thead th {\n",
       "        text-align: right;\n",
       "    }\n",
       "</style>\n",
       "<table border=\"1\" class=\"dataframe\">\n",
       "  <thead>\n",
       "    <tr style=\"text-align: right;\">\n",
       "      <th></th>\n",
       "      <th>lifeExp</th>\n",
       "      <th>pop</th>\n",
       "      <th>gdpPercap</th>\n",
       "    </tr>\n",
       "    <tr>\n",
       "      <th>year</th>\n",
       "      <th></th>\n",
       "      <th></th>\n",
       "      <th></th>\n",
       "    </tr>\n",
       "  </thead>\n",
       "  <tbody>\n",
       "    <tr>\n",
       "      <th>1952</th>\n",
       "      <td>49.057620</td>\n",
       "      <td>3943953.0</td>\n",
       "      <td>1968.528344</td>\n",
       "    </tr>\n",
       "    <tr>\n",
       "      <th>1957</th>\n",
       "      <td>51.507401</td>\n",
       "      <td>4282942.0</td>\n",
       "      <td>2173.220291</td>\n",
       "    </tr>\n",
       "    <tr>\n",
       "      <th>1962</th>\n",
       "      <td>53.609249</td>\n",
       "      <td>4686039.5</td>\n",
       "      <td>2335.439533</td>\n",
       "    </tr>\n",
       "    <tr>\n",
       "      <th>1967</th>\n",
       "      <td>55.678290</td>\n",
       "      <td>5170175.5</td>\n",
       "      <td>2678.334740</td>\n",
       "    </tr>\n",
       "    <tr>\n",
       "      <th>1972</th>\n",
       "      <td>57.647386</td>\n",
       "      <td>5877996.5</td>\n",
       "      <td>3339.129407</td>\n",
       "    </tr>\n",
       "    <tr>\n",
       "      <th>1977</th>\n",
       "      <td>59.570157</td>\n",
       "      <td>6404036.5</td>\n",
       "      <td>3798.609244</td>\n",
       "    </tr>\n",
       "    <tr>\n",
       "      <th>1982</th>\n",
       "      <td>61.533197</td>\n",
       "      <td>7007320.0</td>\n",
       "      <td>4216.228428</td>\n",
       "    </tr>\n",
       "    <tr>\n",
       "      <th>1987</th>\n",
       "      <td>63.212613</td>\n",
       "      <td>7774861.5</td>\n",
       "      <td>4280.300366</td>\n",
       "    </tr>\n",
       "    <tr>\n",
       "      <th>1992</th>\n",
       "      <td>64.160338</td>\n",
       "      <td>8688686.5</td>\n",
       "      <td>4386.085502</td>\n",
       "    </tr>\n",
       "    <tr>\n",
       "      <th>1997</th>\n",
       "      <td>65.014676</td>\n",
       "      <td>9735063.5</td>\n",
       "      <td>4781.825478</td>\n",
       "    </tr>\n",
       "    <tr>\n",
       "      <th>2002</th>\n",
       "      <td>65.694923</td>\n",
       "      <td>10372918.5</td>\n",
       "      <td>5319.804524</td>\n",
       "    </tr>\n",
       "    <tr>\n",
       "      <th>2007</th>\n",
       "      <td>67.007423</td>\n",
       "      <td>10517531.0</td>\n",
       "      <td>6124.371108</td>\n",
       "    </tr>\n",
       "  </tbody>\n",
       "</table>\n",
       "</div>"
      ],
      "text/plain": [
       "        lifeExp         pop    gdpPercap\n",
       "year                                    \n",
       "1952  49.057620   3943953.0  1968.528344\n",
       "1957  51.507401   4282942.0  2173.220291\n",
       "1962  53.609249   4686039.5  2335.439533\n",
       "1967  55.678290   5170175.5  2678.334740\n",
       "1972  57.647386   5877996.5  3339.129407\n",
       "1977  59.570157   6404036.5  3798.609244\n",
       "1982  61.533197   7007320.0  4216.228428\n",
       "1987  63.212613   7774861.5  4280.300366\n",
       "1992  64.160338   8688686.5  4386.085502\n",
       "1997  65.014676   9735063.5  4781.825478\n",
       "2002  65.694923  10372918.5  5319.804524\n",
       "2007  67.007423  10517531.0  6124.371108"
      ]
     },
     "execution_count": 23,
     "metadata": {},
     "output_type": "execute_result"
    }
   ],
   "source": [
    "# 여러 개의 집계 메소드를 여러 개의 열에 적용\n",
    "gdf_dict = df.groupby('year').agg(\n",
    "{'lifeExp' : 'mean', 'pop' :'median', 'gdpPercap':'median'})\n",
    "gdf_dict"
   ]
  },
  {
   "cell_type": "markdown",
   "id": "64169cd6",
   "metadata": {},
   "source": [
    "## 데이터 변환"
   ]
  },
  {
   "cell_type": "markdown",
   "id": "5512ec1b",
   "metadata": {},
   "source": [
    "* agg() : year 기준으로 묶어서 통계값을 반환\n",
    "* transform() : 통계컬럼을 이용하여 다시 각각의 요소들로 반환"
   ]
  },
  {
   "cell_type": "code",
   "execution_count": 24,
   "id": "7b6fc925",
   "metadata": {},
   "outputs": [],
   "source": [
    "# 표준점수 계산 사용자 함수\n",
    "def my_zscore(x) :\n",
    "    return (x - x.mean()) / x.std()"
   ]
  },
  {
   "cell_type": "code",
   "execution_count": 26,
   "id": "81b45b12",
   "metadata": {},
   "outputs": [
    {
     "name": "stdout",
     "output_type": "stream",
     "text": [
      "0      -1.656854\n",
      "1      -1.731249\n",
      "2      -1.786543\n",
      "3      -1.848157\n",
      "4      -1.894173\n",
      "          ...   \n",
      "1699   -0.081621\n",
      "1700   -0.336974\n",
      "1701   -1.574962\n",
      "1702   -2.093346\n",
      "1703   -1.948180\n",
      "Name: lifeExp, Length: 1704, dtype: float64\n"
     ]
    }
   ],
   "source": [
    "# 각 연도별 lifeExp 열의 표준점수 계산\n",
    "trans_z = df.groupby('year').lifeExp.transform(my_zscore)\n",
    "print(trans_z)"
   ]
  },
  {
   "cell_type": "markdown",
   "id": "e81d7946",
   "metadata": {},
   "source": [
    "### 누락값을 평균값으로 처리하기"
   ]
  },
  {
   "cell_type": "code",
   "execution_count": 27,
   "id": "8087a788",
   "metadata": {},
   "outputs": [
    {
     "data": {
      "text/html": [
       "<div>\n",
       "<style scoped>\n",
       "    .dataframe tbody tr th:only-of-type {\n",
       "        vertical-align: middle;\n",
       "    }\n",
       "\n",
       "    .dataframe tbody tr th {\n",
       "        vertical-align: top;\n",
       "    }\n",
       "\n",
       "    .dataframe thead th {\n",
       "        text-align: right;\n",
       "    }\n",
       "</style>\n",
       "<table border=\"1\" class=\"dataframe\">\n",
       "  <thead>\n",
       "    <tr style=\"text-align: right;\">\n",
       "      <th></th>\n",
       "      <th>total_bill</th>\n",
       "      <th>tip</th>\n",
       "      <th>sex</th>\n",
       "      <th>smoker</th>\n",
       "      <th>day</th>\n",
       "      <th>time</th>\n",
       "      <th>size</th>\n",
       "    </tr>\n",
       "  </thead>\n",
       "  <tbody>\n",
       "    <tr>\n",
       "      <th>187</th>\n",
       "      <td>30.46</td>\n",
       "      <td>2.00</td>\n",
       "      <td>Male</td>\n",
       "      <td>Yes</td>\n",
       "      <td>Sun</td>\n",
       "      <td>Dinner</td>\n",
       "      <td>5</td>\n",
       "    </tr>\n",
       "    <tr>\n",
       "      <th>179</th>\n",
       "      <td>34.63</td>\n",
       "      <td>3.55</td>\n",
       "      <td>Male</td>\n",
       "      <td>Yes</td>\n",
       "      <td>Sun</td>\n",
       "      <td>Dinner</td>\n",
       "      <td>2</td>\n",
       "    </tr>\n",
       "    <tr>\n",
       "      <th>31</th>\n",
       "      <td>18.35</td>\n",
       "      <td>2.50</td>\n",
       "      <td>Male</td>\n",
       "      <td>No</td>\n",
       "      <td>Sat</td>\n",
       "      <td>Dinner</td>\n",
       "      <td>4</td>\n",
       "    </tr>\n",
       "    <tr>\n",
       "      <th>52</th>\n",
       "      <td>34.81</td>\n",
       "      <td>5.20</td>\n",
       "      <td>Female</td>\n",
       "      <td>No</td>\n",
       "      <td>Sun</td>\n",
       "      <td>Dinner</td>\n",
       "      <td>4</td>\n",
       "    </tr>\n",
       "    <tr>\n",
       "      <th>71</th>\n",
       "      <td>17.07</td>\n",
       "      <td>3.00</td>\n",
       "      <td>Female</td>\n",
       "      <td>No</td>\n",
       "      <td>Sat</td>\n",
       "      <td>Dinner</td>\n",
       "      <td>3</td>\n",
       "    </tr>\n",
       "    <tr>\n",
       "      <th>6</th>\n",
       "      <td>8.77</td>\n",
       "      <td>2.00</td>\n",
       "      <td>Male</td>\n",
       "      <td>No</td>\n",
       "      <td>Sun</td>\n",
       "      <td>Dinner</td>\n",
       "      <td>2</td>\n",
       "    </tr>\n",
       "    <tr>\n",
       "      <th>95</th>\n",
       "      <td>40.17</td>\n",
       "      <td>4.73</td>\n",
       "      <td>Male</td>\n",
       "      <td>Yes</td>\n",
       "      <td>Fri</td>\n",
       "      <td>Dinner</td>\n",
       "      <td>4</td>\n",
       "    </tr>\n",
       "    <tr>\n",
       "      <th>131</th>\n",
       "      <td>20.27</td>\n",
       "      <td>2.83</td>\n",
       "      <td>Female</td>\n",
       "      <td>No</td>\n",
       "      <td>Thur</td>\n",
       "      <td>Lunch</td>\n",
       "      <td>2</td>\n",
       "    </tr>\n",
       "    <tr>\n",
       "      <th>157</th>\n",
       "      <td>25.00</td>\n",
       "      <td>3.75</td>\n",
       "      <td>Female</td>\n",
       "      <td>No</td>\n",
       "      <td>Sun</td>\n",
       "      <td>Dinner</td>\n",
       "      <td>4</td>\n",
       "    </tr>\n",
       "    <tr>\n",
       "      <th>5</th>\n",
       "      <td>25.29</td>\n",
       "      <td>4.71</td>\n",
       "      <td>Male</td>\n",
       "      <td>No</td>\n",
       "      <td>Sun</td>\n",
       "      <td>Dinner</td>\n",
       "      <td>4</td>\n",
       "    </tr>\n",
       "  </tbody>\n",
       "</table>\n",
       "</div>"
      ],
      "text/plain": [
       "     total_bill   tip     sex smoker   day    time  size\n",
       "187       30.46  2.00    Male    Yes   Sun  Dinner     5\n",
       "179       34.63  3.55    Male    Yes   Sun  Dinner     2\n",
       "31        18.35  2.50    Male     No   Sat  Dinner     4\n",
       "52        34.81  5.20  Female     No   Sun  Dinner     4\n",
       "71        17.07  3.00  Female     No   Sat  Dinner     3\n",
       "6          8.77  2.00    Male     No   Sun  Dinner     2\n",
       "95        40.17  4.73    Male    Yes   Fri  Dinner     4\n",
       "131       20.27  2.83  Female     No  Thur   Lunch     2\n",
       "157       25.00  3.75  Female     No   Sun  Dinner     4\n",
       "5         25.29  4.71    Male     No   Sun  Dinner     4"
      ]
     },
     "execution_count": 27,
     "metadata": {},
     "output_type": "execute_result"
    }
   ],
   "source": [
    "import seaborn as sns\n",
    "import numpy as np\n",
    "\n",
    "np.random.seed(1234)\n",
    "tips_10 = sns.load_dataset('tips').sample(10)\n",
    "tips_10"
   ]
  },
  {
   "cell_type": "code",
   "execution_count": 28,
   "id": "0c212850",
   "metadata": {},
   "outputs": [
    {
     "data": {
      "text/html": [
       "<div>\n",
       "<style scoped>\n",
       "    .dataframe tbody tr th:only-of-type {\n",
       "        vertical-align: middle;\n",
       "    }\n",
       "\n",
       "    .dataframe tbody tr th {\n",
       "        vertical-align: top;\n",
       "    }\n",
       "\n",
       "    .dataframe thead th {\n",
       "        text-align: right;\n",
       "    }\n",
       "</style>\n",
       "<table border=\"1\" class=\"dataframe\">\n",
       "  <thead>\n",
       "    <tr style=\"text-align: right;\">\n",
       "      <th></th>\n",
       "      <th>total_bill</th>\n",
       "      <th>tip</th>\n",
       "      <th>sex</th>\n",
       "      <th>smoker</th>\n",
       "      <th>day</th>\n",
       "      <th>time</th>\n",
       "      <th>size</th>\n",
       "    </tr>\n",
       "  </thead>\n",
       "  <tbody>\n",
       "    <tr>\n",
       "      <th>187</th>\n",
       "      <td>30.46</td>\n",
       "      <td>2.00</td>\n",
       "      <td>Male</td>\n",
       "      <td>Yes</td>\n",
       "      <td>Sun</td>\n",
       "      <td>Dinner</td>\n",
       "      <td>5</td>\n",
       "    </tr>\n",
       "    <tr>\n",
       "      <th>179</th>\n",
       "      <td>34.63</td>\n",
       "      <td>3.55</td>\n",
       "      <td>Male</td>\n",
       "      <td>Yes</td>\n",
       "      <td>Sun</td>\n",
       "      <td>Dinner</td>\n",
       "      <td>2</td>\n",
       "    </tr>\n",
       "    <tr>\n",
       "      <th>31</th>\n",
       "      <td>NaN</td>\n",
       "      <td>2.50</td>\n",
       "      <td>Male</td>\n",
       "      <td>No</td>\n",
       "      <td>Sat</td>\n",
       "      <td>Dinner</td>\n",
       "      <td>4</td>\n",
       "    </tr>\n",
       "    <tr>\n",
       "      <th>52</th>\n",
       "      <td>NaN</td>\n",
       "      <td>5.20</td>\n",
       "      <td>Female</td>\n",
       "      <td>No</td>\n",
       "      <td>Sun</td>\n",
       "      <td>Dinner</td>\n",
       "      <td>4</td>\n",
       "    </tr>\n",
       "    <tr>\n",
       "      <th>71</th>\n",
       "      <td>NaN</td>\n",
       "      <td>3.00</td>\n",
       "      <td>Female</td>\n",
       "      <td>No</td>\n",
       "      <td>Sat</td>\n",
       "      <td>Dinner</td>\n",
       "      <td>3</td>\n",
       "    </tr>\n",
       "    <tr>\n",
       "      <th>6</th>\n",
       "      <td>8.77</td>\n",
       "      <td>2.00</td>\n",
       "      <td>Male</td>\n",
       "      <td>No</td>\n",
       "      <td>Sun</td>\n",
       "      <td>Dinner</td>\n",
       "      <td>2</td>\n",
       "    </tr>\n",
       "    <tr>\n",
       "      <th>95</th>\n",
       "      <td>40.17</td>\n",
       "      <td>4.73</td>\n",
       "      <td>Male</td>\n",
       "      <td>Yes</td>\n",
       "      <td>Fri</td>\n",
       "      <td>Dinner</td>\n",
       "      <td>4</td>\n",
       "    </tr>\n",
       "    <tr>\n",
       "      <th>131</th>\n",
       "      <td>20.27</td>\n",
       "      <td>2.83</td>\n",
       "      <td>Female</td>\n",
       "      <td>No</td>\n",
       "      <td>Thur</td>\n",
       "      <td>Lunch</td>\n",
       "      <td>2</td>\n",
       "    </tr>\n",
       "    <tr>\n",
       "      <th>157</th>\n",
       "      <td>25.00</td>\n",
       "      <td>3.75</td>\n",
       "      <td>Female</td>\n",
       "      <td>No</td>\n",
       "      <td>Sun</td>\n",
       "      <td>Dinner</td>\n",
       "      <td>4</td>\n",
       "    </tr>\n",
       "    <tr>\n",
       "      <th>5</th>\n",
       "      <td>NaN</td>\n",
       "      <td>4.71</td>\n",
       "      <td>Male</td>\n",
       "      <td>No</td>\n",
       "      <td>Sun</td>\n",
       "      <td>Dinner</td>\n",
       "      <td>4</td>\n",
       "    </tr>\n",
       "  </tbody>\n",
       "</table>\n",
       "</div>"
      ],
      "text/plain": [
       "     total_bill   tip     sex smoker   day    time  size\n",
       "187       30.46  2.00    Male    Yes   Sun  Dinner     5\n",
       "179       34.63  3.55    Male    Yes   Sun  Dinner     2\n",
       "31          NaN  2.50    Male     No   Sat  Dinner     4\n",
       "52          NaN  5.20  Female     No   Sun  Dinner     4\n",
       "71          NaN  3.00  Female     No   Sat  Dinner     3\n",
       "6          8.77  2.00    Male     No   Sun  Dinner     2\n",
       "95        40.17  4.73    Male    Yes   Fri  Dinner     4\n",
       "131       20.27  2.83  Female     No  Thur   Lunch     2\n",
       "157       25.00  3.75  Female     No   Sun  Dinner     4\n",
       "5           NaN  4.71    Male     No   Sun  Dinner     4"
      ]
     },
     "execution_count": 28,
     "metadata": {},
     "output_type": "execute_result"
    }
   ],
   "source": [
    "# total_bill 열의 값 4개를 임의로 선택하여 누락값으로 바꾸기\n",
    "tips_10.loc[np.random.permutation(tips_10.index)[:4],'total_bill'] = np.NaN\n",
    "tips_10"
   ]
  },
  {
   "cell_type": "code",
   "execution_count": 37,
   "id": "8aa2e042",
   "metadata": {},
   "outputs": [
    {
     "data": {
      "text/html": [
       "<div>\n",
       "<style scoped>\n",
       "    .dataframe tbody tr th:only-of-type {\n",
       "        vertical-align: middle;\n",
       "    }\n",
       "\n",
       "    .dataframe tbody tr th {\n",
       "        vertical-align: top;\n",
       "    }\n",
       "\n",
       "    .dataframe thead th {\n",
       "        text-align: right;\n",
       "    }\n",
       "</style>\n",
       "<table border=\"1\" class=\"dataframe\">\n",
       "  <thead>\n",
       "    <tr style=\"text-align: right;\">\n",
       "      <th></th>\n",
       "      <th>total_bill</th>\n",
       "      <th>tip</th>\n",
       "      <th>sex</th>\n",
       "      <th>smoker</th>\n",
       "      <th>day</th>\n",
       "      <th>time</th>\n",
       "      <th>size</th>\n",
       "      <th>fill_total_bill</th>\n",
       "    </tr>\n",
       "  </thead>\n",
       "  <tbody>\n",
       "    <tr>\n",
       "      <th>187</th>\n",
       "      <td>30.46</td>\n",
       "      <td>2.00</td>\n",
       "      <td>Male</td>\n",
       "      <td>Yes</td>\n",
       "      <td>Sun</td>\n",
       "      <td>Dinner</td>\n",
       "      <td>5</td>\n",
       "      <td>30.46</td>\n",
       "    </tr>\n",
       "    <tr>\n",
       "      <th>179</th>\n",
       "      <td>34.63</td>\n",
       "      <td>3.55</td>\n",
       "      <td>Male</td>\n",
       "      <td>Yes</td>\n",
       "      <td>Sun</td>\n",
       "      <td>Dinner</td>\n",
       "      <td>2</td>\n",
       "      <td>34.63</td>\n",
       "    </tr>\n",
       "    <tr>\n",
       "      <th>31</th>\n",
       "      <td>NaN</td>\n",
       "      <td>2.50</td>\n",
       "      <td>Male</td>\n",
       "      <td>No</td>\n",
       "      <td>Sat</td>\n",
       "      <td>Dinner</td>\n",
       "      <td>4</td>\n",
       "      <td>18.01</td>\n",
       "    </tr>\n",
       "    <tr>\n",
       "      <th>52</th>\n",
       "      <td>NaN</td>\n",
       "      <td>5.20</td>\n",
       "      <td>Female</td>\n",
       "      <td>No</td>\n",
       "      <td>Sun</td>\n",
       "      <td>Dinner</td>\n",
       "      <td>4</td>\n",
       "      <td>18.01</td>\n",
       "    </tr>\n",
       "    <tr>\n",
       "      <th>71</th>\n",
       "      <td>NaN</td>\n",
       "      <td>3.00</td>\n",
       "      <td>Female</td>\n",
       "      <td>No</td>\n",
       "      <td>Sat</td>\n",
       "      <td>Dinner</td>\n",
       "      <td>3</td>\n",
       "      <td>18.01</td>\n",
       "    </tr>\n",
       "    <tr>\n",
       "      <th>6</th>\n",
       "      <td>8.77</td>\n",
       "      <td>2.00</td>\n",
       "      <td>Male</td>\n",
       "      <td>No</td>\n",
       "      <td>Sun</td>\n",
       "      <td>Dinner</td>\n",
       "      <td>2</td>\n",
       "      <td>8.77</td>\n",
       "    </tr>\n",
       "    <tr>\n",
       "      <th>95</th>\n",
       "      <td>40.17</td>\n",
       "      <td>4.73</td>\n",
       "      <td>Male</td>\n",
       "      <td>Yes</td>\n",
       "      <td>Fri</td>\n",
       "      <td>Dinner</td>\n",
       "      <td>4</td>\n",
       "      <td>40.17</td>\n",
       "    </tr>\n",
       "    <tr>\n",
       "      <th>131</th>\n",
       "      <td>20.27</td>\n",
       "      <td>2.83</td>\n",
       "      <td>Female</td>\n",
       "      <td>No</td>\n",
       "      <td>Thur</td>\n",
       "      <td>Lunch</td>\n",
       "      <td>2</td>\n",
       "      <td>20.27</td>\n",
       "    </tr>\n",
       "    <tr>\n",
       "      <th>157</th>\n",
       "      <td>25.00</td>\n",
       "      <td>3.75</td>\n",
       "      <td>Female</td>\n",
       "      <td>No</td>\n",
       "      <td>Sun</td>\n",
       "      <td>Dinner</td>\n",
       "      <td>4</td>\n",
       "      <td>25.00</td>\n",
       "    </tr>\n",
       "    <tr>\n",
       "      <th>5</th>\n",
       "      <td>NaN</td>\n",
       "      <td>4.71</td>\n",
       "      <td>Male</td>\n",
       "      <td>No</td>\n",
       "      <td>Sun</td>\n",
       "      <td>Dinner</td>\n",
       "      <td>4</td>\n",
       "      <td>18.01</td>\n",
       "    </tr>\n",
       "  </tbody>\n",
       "</table>\n",
       "</div>"
      ],
      "text/plain": [
       "     total_bill   tip     sex smoker   day    time  size  fill_total_bill\n",
       "187       30.46  2.00    Male    Yes   Sun  Dinner     5            30.46\n",
       "179       34.63  3.55    Male    Yes   Sun  Dinner     2            34.63\n",
       "31          NaN  2.50    Male     No   Sat  Dinner     4            18.01\n",
       "52          NaN  5.20  Female     No   Sun  Dinner     4            18.01\n",
       "71          NaN  3.00  Female     No   Sat  Dinner     3            18.01\n",
       "6          8.77  2.00    Male     No   Sun  Dinner     2             8.77\n",
       "95        40.17  4.73    Male    Yes   Fri  Dinner     4            40.17\n",
       "131       20.27  2.83  Female     No  Thur   Lunch     2            20.27\n",
       "157       25.00  3.75  Female     No   Sun  Dinner     4            25.00\n",
       "5           NaN  4.71    Male     No   Sun  Dinner     4            18.01"
      ]
     },
     "execution_count": 37,
     "metadata": {},
     "output_type": "execute_result"
    }
   ],
   "source": [
    "# 흡연자와 비흡연자 평균을 따로 계산\n",
    "def fill_na_mean(x) :\n",
    "    avg = x.mean()\n",
    "    return x.fillna(avg)\n",
    "\n",
    "tb_grp_mean = tips_10.groupby('smoker').total_bill.transform(fill_na_mean)\n",
    "tips_10['fill_total_bill'] = round(tb_grp_mean, 2)\n",
    "tips_10"
   ]
  },
  {
   "cell_type": "markdown",
   "id": "e44fb559",
   "metadata": {},
   "source": [
    "#### 숫자로만 구성된 데이터프레임 ( apply, agg, tramsform )"
   ]
  },
  {
   "cell_type": "code",
   "execution_count": 38,
   "id": "5de16aa3",
   "metadata": {},
   "outputs": [
    {
     "name": "stdout",
     "output_type": "stream",
     "text": [
      "    a   b\n",
      "0  10  20\n",
      "1  20  30\n",
      "2  30  40\n"
     ]
    }
   ],
   "source": [
    "def plus(x) :\n",
    "    return x + 2\n",
    "\n",
    "import pandas as pd\n",
    "df = pd.DataFrame({'a':[10,20,30], 'b':[20,30,40]})\n",
    "print(df)"
   ]
  },
  {
   "cell_type": "code",
   "execution_count": 39,
   "id": "77331dce",
   "metadata": {},
   "outputs": [
    {
     "name": "stdout",
     "output_type": "stream",
     "text": [
      "    a   b\n",
      "0  12  22\n",
      "1  22  32\n",
      "2  32  42\n",
      "    a   b\n",
      "0  12  22\n",
      "1  22  32\n",
      "2  32  42\n",
      "    a   b\n",
      "0  12  22\n",
      "1  22  32\n",
      "2  32  42\n"
     ]
    }
   ],
   "source": [
    "print(df.apply(plus))\n",
    "print(df.agg(plus))\n",
    "print(df.transform(plus))"
   ]
  },
  {
   "cell_type": "code",
   "execution_count": 40,
   "id": "1f204ba3",
   "metadata": {
    "scrolled": true
   },
   "outputs": [
    {
     "name": "stdout",
     "output_type": "stream",
     "text": [
      "0    12\n",
      "1    22\n",
      "2    32\n",
      "Name: a, dtype: int64\n",
      "0    12\n",
      "1    22\n",
      "2    32\n",
      "Name: a, dtype: int64\n",
      "0    12\n",
      "1    22\n",
      "2    32\n",
      "Name: a, dtype: int64\n"
     ]
    }
   ],
   "source": [
    "print(df.a.apply(plus))\n",
    "print(df.a.agg(plus))\n",
    "print(df.a.transform(plus))"
   ]
  },
  {
   "cell_type": "markdown",
   "id": "4d114da1",
   "metadata": {},
   "source": [
    "* 적용시킬 사용자 함수 내에서 집계 함수 사용"
   ]
  },
  {
   "cell_type": "code",
   "execution_count": 47,
   "id": "b60be19f",
   "metadata": {},
   "outputs": [],
   "source": [
    "def mean(x) :\n",
    "    return x.mean()"
   ]
  },
  {
   "cell_type": "code",
   "execution_count": 48,
   "id": "0a8243ad",
   "metadata": {},
   "outputs": [
    {
     "name": "stdout",
     "output_type": "stream",
     "text": [
      "a    20.0\n",
      "b    30.0\n",
      "dtype: float64\n",
      "a    20.0\n",
      "b    30.0\n",
      "dtype: float64\n"
     ]
    }
   ],
   "source": [
    "print(df.apply(mean))\n",
    "print(df.agg(mean))\n",
    "# print(df.transform(mean))  # error"
   ]
  },
  {
   "cell_type": "code",
   "execution_count": 52,
   "id": "b0ae7868",
   "metadata": {},
   "outputs": [
    {
     "data": {
      "text/plain": [
       "0    10\n",
       "1    20\n",
       "2    30\n",
       "Name: a, dtype: int64"
      ]
     },
     "execution_count": 52,
     "metadata": {},
     "output_type": "execute_result"
    }
   ],
   "source": [
    "df.a"
   ]
  },
  {
   "cell_type": "code",
   "execution_count": 49,
   "id": "c1f4b45a",
   "metadata": {},
   "outputs": [
    {
     "name": "stdout",
     "output_type": "stream",
     "text": [
      "20.0\n"
     ]
    }
   ],
   "source": [
    "# print(df.a.apply(mean))      # error\n",
    "print(df.a.agg(mean)) \n",
    "# print(df.a.transform(mean))  # error\n",
    "# 최소 2개 이상의 데이터가 있어야 집계 가능"
   ]
  },
  {
   "cell_type": "markdown",
   "id": "97ffb935",
   "metadata": {},
   "source": [
    "* 숫자 데이터열과 문자데이터열이 함께 이쓴 데이터프레임"
   ]
  },
  {
   "cell_type": "code",
   "execution_count": 53,
   "id": "37806983",
   "metadata": {},
   "outputs": [
    {
     "data": {
      "text/html": [
       "<div>\n",
       "<style scoped>\n",
       "    .dataframe tbody tr th:only-of-type {\n",
       "        vertical-align: middle;\n",
       "    }\n",
       "\n",
       "    .dataframe tbody tr th {\n",
       "        vertical-align: top;\n",
       "    }\n",
       "\n",
       "    .dataframe thead th {\n",
       "        text-align: right;\n",
       "    }\n",
       "</style>\n",
       "<table border=\"1\" class=\"dataframe\">\n",
       "  <thead>\n",
       "    <tr style=\"text-align: right;\">\n",
       "      <th></th>\n",
       "      <th>a</th>\n",
       "      <th>b</th>\n",
       "      <th>c</th>\n",
       "      <th>d</th>\n",
       "    </tr>\n",
       "  </thead>\n",
       "  <tbody>\n",
       "    <tr>\n",
       "      <th>0</th>\n",
       "      <td>10</td>\n",
       "      <td>20</td>\n",
       "      <td>서울</td>\n",
       "      <td>Female</td>\n",
       "    </tr>\n",
       "    <tr>\n",
       "      <th>1</th>\n",
       "      <td>20</td>\n",
       "      <td>30</td>\n",
       "      <td>대전</td>\n",
       "      <td>Male</td>\n",
       "    </tr>\n",
       "    <tr>\n",
       "      <th>2</th>\n",
       "      <td>30</td>\n",
       "      <td>40</td>\n",
       "      <td>부산</td>\n",
       "      <td>Male</td>\n",
       "    </tr>\n",
       "    <tr>\n",
       "      <th>3</th>\n",
       "      <td>40</td>\n",
       "      <td>50</td>\n",
       "      <td>제주</td>\n",
       "      <td>Female</td>\n",
       "    </tr>\n",
       "  </tbody>\n",
       "</table>\n",
       "</div>"
      ],
      "text/plain": [
       "    a   b   c       d\n",
       "0  10  20  서울  Female\n",
       "1  20  30  대전    Male\n",
       "2  30  40  부산    Male\n",
       "3  40  50  제주  Female"
      ]
     },
     "execution_count": 53,
     "metadata": {},
     "output_type": "execute_result"
    }
   ],
   "source": [
    "df2 = pd.DataFrame({\n",
    "    'a' : [10,20,30,40],\n",
    "    'b' : [20,30,40,50],\n",
    "    'c' : ['서울','대전','부산','제주'],\n",
    "    'd' : ['Female','Male','Male','Female'],\n",
    "})\n",
    "\n",
    "df2"
   ]
  },
  {
   "cell_type": "code",
   "execution_count": 58,
   "id": "a36bbf7c",
   "metadata": {},
   "outputs": [],
   "source": [
    "# 숫자 데이터와 문자데이터가 있는 경우 집계 불가능, 열 분리해서 진행해야함\n",
    "# print(df2.apply(mean))\n",
    "# print(df2.agg(mean))\n",
    "# print(df2.transform(mean))\n",
    "# print(df2.apply(plus))\n",
    "# print(df2.agg(plus))\n",
    "# print(df2.transform(plus))"
   ]
  },
  {
   "cell_type": "markdown",
   "id": "0ff8a560",
   "metadata": {},
   "source": [
    "* 그룹화한 데이터"
   ]
  },
  {
   "cell_type": "code",
   "execution_count": 62,
   "id": "ed5f1a93",
   "metadata": {},
   "outputs": [],
   "source": [
    "df2_grp = df2.groupby('c')\n",
    "\n",
    "# print(df2_grp.apply(plus))\n",
    "# print(df2_grp.agg(mean))\n",
    "# print(df2_grp.transform(mean))"
   ]
  }
 ],
 "metadata": {
  "kernelspec": {
   "display_name": "Python 3 (ipykernel)",
   "language": "python",
   "name": "python3"
  },
  "language_info": {
   "codemirror_mode": {
    "name": "ipython",
    "version": 3
   },
   "file_extension": ".py",
   "mimetype": "text/x-python",
   "name": "python",
   "nbconvert_exporter": "python",
   "pygments_lexer": "ipython3",
   "version": "3.9.12"
  }
 },
 "nbformat": 4,
 "nbformat_minor": 5
}
