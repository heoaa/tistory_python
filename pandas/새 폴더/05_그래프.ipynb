{
 "cells": [
  {
   "cell_type": "markdown",
   "id": "d75450d1",
   "metadata": {},
   "source": [
    "#### 그래프 한글폰트 적용 (1)"
   ]
  },
  {
   "cell_type": "code",
   "execution_count": null,
   "id": "c5f51ec9",
   "metadata": {},
   "outputs": [],
   "source": [
    "%matplotlib inline\n",
    "import matplotlib.pyplot as plt\n",
    "from matplotlib import font_manager, rc\n",
    "import platform\n",
    "\n",
    "if platform.system() == 'Windows' :\n",
    "    path = 'C:/Windows/Fonts/malgun.ttf'\n",
    "    font_name = font_manager.FontProperties(fname = path).get_name()\n",
    "    rc('font', family = font_name)\n",
    "elif platform.system() == 'Darwin' :\n",
    "    rc('font', family = 'AppleGothic')\n",
    "else :\n",
    "    print('Check your OS System..')"
   ]
  },
  {
   "cell_type": "markdown",
   "id": "cafe5b29",
   "metadata": {},
   "source": [
    "#### 그래프 한글폰트 적용 (2)"
   ]
  },
  {
   "cell_type": "code",
   "execution_count": null,
   "id": "edaa4eaf",
   "metadata": {},
   "outputs": [],
   "source": [
    "%matplotlib inline\n",
    "import matplotlib.pyplot as plt\n",
    "from matplotlib import font_manager, rc\n",
    "font_path = 'C:/Windows/Fonts/malgun.ttf'\n",
    "font = font_manager.FontProperties(fname=font_path).get_name()\n",
    "rc('font', family=font)"
   ]
  },
  {
   "cell_type": "markdown",
   "id": "f40f8afa",
   "metadata": {},
   "source": [
    "#### 1) 기본 그래프 작성"
   ]
  },
  {
   "cell_type": "code",
   "execution_count": null,
   "id": "d1ae689a",
   "metadata": {},
   "outputs": [],
   "source": [
    "# 기준년월별 관광객 변화 추이\n",
    "plt.plot(df_filter['기준년월'], df_filter['관광'])\n",
    "plt.show()"
   ]
  },
  {
   "cell_type": "markdown",
   "id": "c00e30b4",
   "metadata": {},
   "source": [
    "#### 2) 세부 틀 작성"
   ]
  },
  {
   "cell_type": "code",
   "execution_count": null,
   "id": "89a1ce6d",
   "metadata": {},
   "outputs": [],
   "source": [
    "# 그래프 사이즈 조정\n",
    "plt.figure(figsize = (12,4))\n",
    "\n",
    "# 데이터 넣기\n",
    "plt.plot(df_filter['기준년월'], df_filter['관광'])\n",
    "\n",
    "# 그래프 제목 넣기\n",
    "plt.title('중국 국적의 년월별 관광객 추이')\n",
    "\n",
    "# x축(기준년월), y축(관광객수) 라벨 지정\n",
    "plt.xlabel('기준년월')\n",
    "plt.ylabel('관광객수')\n",
    "\n",
    "# x축 눈금 값(축 범위) 설정\n",
    "plt.xticks(['2010-01','2011-01','2012-01','2013-01','2014-01',\n",
    "            '2015-01','2016-01','2017-01','2018-01','2019-01'])\n",
    "\n",
    "\n",
    "plt.show()\n",
    "\n",
    "\n",
    "# 패턴*을 파악하여 특이점(이슈)이 있는지 확인"
   ]
  }
 ],
 "metadata": {
  "kernelspec": {
   "display_name": "Python 3 (ipykernel)",
   "language": "python",
   "name": "python3"
  },
  "language_info": {
   "codemirror_mode": {
    "name": "ipython",
    "version": 3
   },
   "file_extension": ".py",
   "mimetype": "text/x-python",
   "name": "python",
   "nbconvert_exporter": "python",
   "pygments_lexer": "ipython3",
   "version": "3.9.12"
  }
 },
 "nbformat": 4,
 "nbformat_minor": 5
}
