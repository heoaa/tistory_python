{
 "cells": [
  {
   "cell_type": "code",
   "execution_count": 10,
   "id": "f9012a53",
   "metadata": {},
   "outputs": [
    {
     "data": {
      "text/plain": [
       "4"
      ]
     },
     "execution_count": 10,
     "metadata": {},
     "output_type": "execute_result"
    }
   ],
   "source": [
    "# 제곱 사용자 함수\n",
    "def my_sq(x) :\n",
    "    return x ** 2\n",
    "\n",
    "my_sq(2)"
   ]
  },
  {
   "cell_type": "code",
   "execution_count": 11,
   "id": "446842b7",
   "metadata": {},
   "outputs": [
    {
     "data": {
      "text/plain": [
       "16"
      ]
     },
     "execution_count": 11,
     "metadata": {},
     "output_type": "execute_result"
    }
   ],
   "source": [
    "# n제곱 사용자 함수\n",
    "def my_exp(x, n) :\n",
    "    return x ** n\n",
    "\n",
    "my_exp(2, 4)"
   ]
  },
  {
   "cell_type": "markdown",
   "id": "23a8c0ff",
   "metadata": {},
   "source": [
    "### 판다스 apply 함수"
   ]
  },
  {
   "cell_type": "code",
   "execution_count": 1,
   "id": "969cef93",
   "metadata": {},
   "outputs": [],
   "source": [
    "import pandas as pd"
   ]
  },
  {
   "cell_type": "code",
   "execution_count": 9,
   "id": "415478c3",
   "metadata": {},
   "outputs": [
    {
     "name": "stdout",
     "output_type": "stream",
     "text": [
      "    a   b\n",
      "0  10  20\n",
      "1  20  30\n",
      "2  30  40\n"
     ]
    }
   ],
   "source": [
    "df = pd.DataFrame({'a':[10,20,30], 'b':[20,30,40]})\n",
    "print(df)"
   ]
  },
  {
   "cell_type": "markdown",
   "id": "83dd6ee3",
   "metadata": {},
   "source": [
    "* 시리즈에 apply 메소드 사용"
   ]
  },
  {
   "cell_type": "code",
   "execution_count": 12,
   "id": "d6d03354",
   "metadata": {},
   "outputs": [
    {
     "name": "stdout",
     "output_type": "stream",
     "text": [
      "0    100\n",
      "1    400\n",
      "2    900\n",
      "Name: a, dtype: int64\n"
     ]
    }
   ],
   "source": [
    "#  제곱함수 적용\n",
    "sq = df['a'].apply(my_sq)\n",
    "print(sq)"
   ]
  },
  {
   "cell_type": "code",
   "execution_count": 16,
   "id": "2a2fb826",
   "metadata": {},
   "outputs": [
    {
     "data": {
      "text/plain": [
       "0    100\n",
       "1    400\n",
       "2    900\n",
       "Name: a, dtype: int64"
      ]
     },
     "execution_count": 16,
     "metadata": {},
     "output_type": "execute_result"
    }
   ],
   "source": [
    "# my_sq = x ** 2\n",
    "df['a'].apply(lambda x : x ** 2)"
   ]
  },
  {
   "cell_type": "code",
   "execution_count": 20,
   "id": "ac9ad7ae",
   "metadata": {},
   "outputs": [
    {
     "name": "stdout",
     "output_type": "stream",
     "text": [
      "0    100\n",
      "1    400\n",
      "2    900\n",
      "Name: a, dtype: int64\n"
     ]
    }
   ],
   "source": [
    "exp = df['a'].apply(my_exp, n=2)\n",
    "print(exp)"
   ]
  },
  {
   "cell_type": "code",
   "execution_count": 22,
   "id": "e7b6271b",
   "metadata": {},
   "outputs": [
    {
     "data": {
      "text/plain": [
       "0    100\n",
       "1    400\n",
       "2    900\n",
       "Name: a, dtype: int64"
      ]
     },
     "execution_count": 22,
     "metadata": {},
     "output_type": "execute_result"
    }
   ],
   "source": [
    "# my_exp = x ** n\n",
    "df['a'].apply(lambda x, n: x ** n, n=2)"
   ]
  },
  {
   "cell_type": "code",
   "execution_count": 24,
   "id": "eada44f7",
   "metadata": {},
   "outputs": [
    {
     "name": "stdout",
     "output_type": "stream",
     "text": [
      "0    10\n",
      "1    20\n",
      "2    30\n",
      "Name: a, dtype: int64\n",
      "0    20\n",
      "1    30\n",
      "2    40\n",
      "Name: b, dtype: int64\n",
      "a    None\n",
      "b    None\n",
      "dtype: object \n",
      "\n",
      "a    10\n",
      "b    20\n",
      "Name: 0, dtype: int64\n",
      "a    20\n",
      "b    30\n",
      "Name: 1, dtype: int64\n",
      "a    30\n",
      "b    40\n",
      "Name: 2, dtype: int64\n",
      "0    None\n",
      "1    None\n",
      "2    None\n",
      "dtype: object\n"
     ]
    }
   ],
   "source": [
    "def print_me(x) :\n",
    "    print(x)\n",
    "    \n",
    "print(df.apply(print_me, axis=0), '\\n')   # 열방향\n",
    "print(df.apply(print_me, axis=1))   # 행방향"
   ]
  },
  {
   "cell_type": "code",
   "execution_count": 32,
   "id": "12e03336",
   "metadata": {},
   "outputs": [
    {
     "name": "stdout",
     "output_type": "stream",
     "text": [
      "0    10\n",
      "1    20\n",
      "2    30\n",
      "Name: a, dtype: int64\n",
      "0    20\n",
      "1    30\n",
      "2    40\n",
      "Name: b, dtype: int64\n",
      "a    None\n",
      "b    None\n",
      "dtype: object \n",
      "\n",
      "a    10\n",
      "b    20\n",
      "Name: 0, dtype: int64\n",
      "a    20\n",
      "b    30\n",
      "Name: 1, dtype: int64\n",
      "a    30\n",
      "b    40\n",
      "Name: 2, dtype: int64\n",
      "0    None\n",
      "1    None\n",
      "2    None\n",
      "dtype: object\n"
     ]
    }
   ],
   "source": [
    "print(df.apply(lambda x : print(x), axis = 0), '\\n')\n",
    "print(df.apply(lambda x : print(x), axis = 1))"
   ]
  },
  {
   "cell_type": "code",
   "execution_count": 34,
   "id": "ffac984e",
   "metadata": {},
   "outputs": [
    {
     "data": {
      "text/html": [
       "<div>\n",
       "<style scoped>\n",
       "    .dataframe tbody tr th:only-of-type {\n",
       "        vertical-align: middle;\n",
       "    }\n",
       "\n",
       "    .dataframe tbody tr th {\n",
       "        vertical-align: top;\n",
       "    }\n",
       "\n",
       "    .dataframe thead th {\n",
       "        text-align: right;\n",
       "    }\n",
       "</style>\n",
       "<table border=\"1\" class=\"dataframe\">\n",
       "  <thead>\n",
       "    <tr style=\"text-align: right;\">\n",
       "      <th></th>\n",
       "      <th>a</th>\n",
       "      <th>b</th>\n",
       "      <th>a+b</th>\n",
       "    </tr>\n",
       "  </thead>\n",
       "  <tbody>\n",
       "    <tr>\n",
       "      <th>0</th>\n",
       "      <td>10</td>\n",
       "      <td>20</td>\n",
       "      <td>30</td>\n",
       "    </tr>\n",
       "    <tr>\n",
       "      <th>1</th>\n",
       "      <td>20</td>\n",
       "      <td>30</td>\n",
       "      <td>50</td>\n",
       "    </tr>\n",
       "    <tr>\n",
       "      <th>2</th>\n",
       "      <td>30</td>\n",
       "      <td>40</td>\n",
       "      <td>70</td>\n",
       "    </tr>\n",
       "  </tbody>\n",
       "</table>\n",
       "</div>"
      ],
      "text/plain": [
       "    a   b  a+b\n",
       "0  10  20   30\n",
       "1  20  30   50\n",
       "2  30  40   70"
      ]
     },
     "execution_count": 34,
     "metadata": {},
     "output_type": "execute_result"
    }
   ],
   "source": [
    "df['a+b'] = df.apply(lambda x : x['a'] + x['b'], axis = 1)\n",
    "df"
   ]
  },
  {
   "cell_type": "markdown",
   "id": "c1531bf2",
   "metadata": {},
   "source": [
    "* 데이터프레임에 apply 메서드 사용"
   ]
  },
  {
   "cell_type": "code",
   "execution_count": 35,
   "id": "d7d64ee7",
   "metadata": {},
   "outputs": [
    {
     "name": "stdout",
     "output_type": "stream",
     "text": [
      "           a          b        a+b\n",
      "0   4.333333   7.666667  11.000000\n",
      "1   7.666667  11.000000  17.666667\n",
      "2  11.000000  14.333333  24.333333\n"
     ]
    }
   ],
   "source": [
    "def avg_3(x,y,z):\n",
    "    return (x + y + z) / 3\n",
    "\n",
    "print(df.apply(avg_3, y=1, z=2))"
   ]
  },
  {
   "cell_type": "code",
   "execution_count": 36,
   "id": "f7b5ec5c",
   "metadata": {},
   "outputs": [
    {
     "name": "stdout",
     "output_type": "stream",
     "text": [
      "a      20.0\n",
      "b      30.0\n",
      "a+b    50.0\n",
      "dtype: float64\n"
     ]
    }
   ],
   "source": [
    "def avg_3_apply(col) :\n",
    "    x = col[0]\n",
    "    y = col[1]\n",
    "    z = col[2]\n",
    "    return (x + y + z) / 3\n",
    "\n",
    "print(df.apply(avg_3_apply))"
   ]
  },
  {
   "cell_type": "markdown",
   "id": "34f6aae6",
   "metadata": {},
   "source": [
    "### 데이터프레임 누락값 처리 후 apply 메소드 사용"
   ]
  },
  {
   "cell_type": "code",
   "execution_count": 37,
   "id": "92b1df63",
   "metadata": {},
   "outputs": [
    {
     "name": "stdout",
     "output_type": "stream",
     "text": [
      "<class 'pandas.core.frame.DataFrame'>\n",
      "RangeIndex: 891 entries, 0 to 890\n",
      "Data columns (total 15 columns):\n",
      " #   Column       Non-Null Count  Dtype   \n",
      "---  ------       --------------  -----   \n",
      " 0   survived     891 non-null    int64   \n",
      " 1   pclass       891 non-null    int64   \n",
      " 2   sex          891 non-null    object  \n",
      " 3   age          714 non-null    float64 \n",
      " 4   sibsp        891 non-null    int64   \n",
      " 5   parch        891 non-null    int64   \n",
      " 6   fare         891 non-null    float64 \n",
      " 7   embarked     889 non-null    object  \n",
      " 8   class        891 non-null    category\n",
      " 9   who          891 non-null    object  \n",
      " 10  adult_male   891 non-null    bool    \n",
      " 11  deck         203 non-null    category\n",
      " 12  embark_town  889 non-null    object  \n",
      " 13  alive        891 non-null    object  \n",
      " 14  alone        891 non-null    bool    \n",
      "dtypes: bool(2), category(2), float64(2), int64(4), object(5)\n",
      "memory usage: 80.7+ KB\n"
     ]
    }
   ],
   "source": [
    "import seaborn as sns\n",
    "\n",
    "titanic = sns.load_dataset('titanic')\n",
    "titanic.info()"
   ]
  },
  {
   "cell_type": "code",
   "execution_count": 38,
   "id": "21354f9c",
   "metadata": {},
   "outputs": [
    {
     "data": {
      "text/plain": [
       "survived         0\n",
       "pclass           0\n",
       "sex              0\n",
       "age            177\n",
       "sibsp            0\n",
       "parch            0\n",
       "fare             0\n",
       "embarked         2\n",
       "class            0\n",
       "who              0\n",
       "adult_male       0\n",
       "deck           688\n",
       "embark_town      2\n",
       "alive            0\n",
       "alone            0\n",
       "dtype: int64"
      ]
     },
     "execution_count": 38,
     "metadata": {},
     "output_type": "execute_result"
    }
   ],
   "source": [
    "import numpy as np\n",
    "\n",
    "def count_missing(vec) :\n",
    "    null_vec = pd.isnull(vec)\n",
    "    null_count = np.sum(null_vec)\n",
    "    return null_count\n",
    "\n",
    "cmis_col = titanic.apply(count_missing)\n",
    "cmis_col"
   ]
  },
  {
   "cell_type": "code",
   "execution_count": 41,
   "id": "f56fc49e",
   "metadata": {
    "scrolled": true
   },
   "outputs": [
    {
     "data": {
      "text/plain": [
       "survived        0.00\n",
       "pclass          0.00\n",
       "sex             0.00\n",
       "age            19.87\n",
       "sibsp           0.00\n",
       "parch           0.00\n",
       "fare            0.00\n",
       "embarked        0.22\n",
       "class           0.00\n",
       "who             0.00\n",
       "adult_male      0.00\n",
       "deck           77.22\n",
       "embark_town     0.22\n",
       "alive           0.00\n",
       "alone           0.00\n",
       "dtype: float64"
      ]
     },
     "execution_count": 41,
     "metadata": {},
     "output_type": "execute_result"
    }
   ],
   "source": [
    "# 누락값 비율 계산\n",
    "def prop_missing(vec) :\n",
    "    num = count_missing(vec)\n",
    "    dem = vec.size\n",
    "    return round((num / dem)*100, 2)\n",
    "\n",
    "pmis_col = titanic.apply(prop_missing)\n",
    "pmis_col"
   ]
  },
  {
   "cell_type": "markdown",
   "id": "c71101d3",
   "metadata": {},
   "source": [
    "* 각 행의 누락값 개수를 확인하여 데이터 추가"
   ]
  },
  {
   "cell_type": "code",
   "execution_count": 43,
   "id": "000e4478",
   "metadata": {},
   "outputs": [
    {
     "data": {
      "text/html": [
       "<div>\n",
       "<style scoped>\n",
       "    .dataframe tbody tr th:only-of-type {\n",
       "        vertical-align: middle;\n",
       "    }\n",
       "\n",
       "    .dataframe tbody tr th {\n",
       "        vertical-align: top;\n",
       "    }\n",
       "\n",
       "    .dataframe thead th {\n",
       "        text-align: right;\n",
       "    }\n",
       "</style>\n",
       "<table border=\"1\" class=\"dataframe\">\n",
       "  <thead>\n",
       "    <tr style=\"text-align: right;\">\n",
       "      <th></th>\n",
       "      <th>survived</th>\n",
       "      <th>pclass</th>\n",
       "      <th>sex</th>\n",
       "      <th>age</th>\n",
       "      <th>sibsp</th>\n",
       "      <th>parch</th>\n",
       "      <th>fare</th>\n",
       "      <th>embarked</th>\n",
       "      <th>class</th>\n",
       "      <th>who</th>\n",
       "      <th>adult_male</th>\n",
       "      <th>num_missing</th>\n",
       "    </tr>\n",
       "  </thead>\n",
       "  <tbody>\n",
       "    <tr>\n",
       "      <th>0</th>\n",
       "      <td>0</td>\n",
       "      <td>3</td>\n",
       "      <td>male</td>\n",
       "      <td>22.0</td>\n",
       "      <td>1</td>\n",
       "      <td>0</td>\n",
       "      <td>7.2500</td>\n",
       "      <td>S</td>\n",
       "      <td>Third</td>\n",
       "      <td>man</td>\n",
       "      <td>True</td>\n",
       "      <td>1</td>\n",
       "    </tr>\n",
       "    <tr>\n",
       "      <th>1</th>\n",
       "      <td>1</td>\n",
       "      <td>1</td>\n",
       "      <td>female</td>\n",
       "      <td>38.0</td>\n",
       "      <td>1</td>\n",
       "      <td>0</td>\n",
       "      <td>71.2833</td>\n",
       "      <td>C</td>\n",
       "      <td>First</td>\n",
       "      <td>woman</td>\n",
       "      <td>False</td>\n",
       "      <td>0</td>\n",
       "    </tr>\n",
       "    <tr>\n",
       "      <th>2</th>\n",
       "      <td>1</td>\n",
       "      <td>3</td>\n",
       "      <td>female</td>\n",
       "      <td>26.0</td>\n",
       "      <td>0</td>\n",
       "      <td>0</td>\n",
       "      <td>7.9250</td>\n",
       "      <td>S</td>\n",
       "      <td>Third</td>\n",
       "      <td>woman</td>\n",
       "      <td>False</td>\n",
       "      <td>1</td>\n",
       "    </tr>\n",
       "    <tr>\n",
       "      <th>3</th>\n",
       "      <td>1</td>\n",
       "      <td>1</td>\n",
       "      <td>female</td>\n",
       "      <td>35.0</td>\n",
       "      <td>1</td>\n",
       "      <td>0</td>\n",
       "      <td>53.1000</td>\n",
       "      <td>S</td>\n",
       "      <td>First</td>\n",
       "      <td>woman</td>\n",
       "      <td>False</td>\n",
       "      <td>0</td>\n",
       "    </tr>\n",
       "    <tr>\n",
       "      <th>4</th>\n",
       "      <td>0</td>\n",
       "      <td>3</td>\n",
       "      <td>male</td>\n",
       "      <td>35.0</td>\n",
       "      <td>0</td>\n",
       "      <td>0</td>\n",
       "      <td>8.0500</td>\n",
       "      <td>S</td>\n",
       "      <td>Third</td>\n",
       "      <td>man</td>\n",
       "      <td>True</td>\n",
       "      <td>1</td>\n",
       "    </tr>\n",
       "  </tbody>\n",
       "</table>\n",
       "</div>"
      ],
      "text/plain": [
       "   survived  pclass     sex   age  sibsp  parch     fare embarked  class  \\\n",
       "0         0       3    male  22.0      1      0   7.2500        S  Third   \n",
       "1         1       1  female  38.0      1      0  71.2833        C  First   \n",
       "2         1       3  female  26.0      0      0   7.9250        S  Third   \n",
       "3         1       1  female  35.0      1      0  53.1000        S  First   \n",
       "4         0       3    male  35.0      0      0   8.0500        S  Third   \n",
       "\n",
       "     who  adult_male  num_missing  \n",
       "0    man        True            1  \n",
       "1  woman       False            0  \n",
       "2  woman       False            1  \n",
       "3  woman       False            0  \n",
       "4    man        True            1  "
      ]
     },
     "execution_count": 43,
     "metadata": {},
     "output_type": "execute_result"
    }
   ],
   "source": [
    "# apply 메소드 행 방향으로 적용\n",
    "titanic['num_missing'] = titanic.apply(count_missing, axis = 1)\n",
    "titanic.iloc[:5, list(range(11))+[-1]]"
   ]
  }
 ],
 "metadata": {
  "kernelspec": {
   "display_name": "Python 3 (ipykernel)",
   "language": "python",
   "name": "python3"
  },
  "language_info": {
   "codemirror_mode": {
    "name": "ipython",
    "version": 3
   },
   "file_extension": ".py",
   "mimetype": "text/x-python",
   "name": "python",
   "nbconvert_exporter": "python",
   "pygments_lexer": "ipython3",
   "version": "3.9.12"
  }
 },
 "nbformat": 4,
 "nbformat_minor": 5
}
