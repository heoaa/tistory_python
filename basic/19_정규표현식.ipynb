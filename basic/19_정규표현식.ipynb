{
 "cells": [
  {
   "cell_type": "code",
   "execution_count": 1,
   "id": "8d97a9cf",
   "metadata": {},
   "outputs": [],
   "source": [
    "import re"
   ]
  },
  {
   "cell_type": "markdown",
   "id": "7ff91ed7",
   "metadata": {},
   "source": [
    "### 문자열 판단\n",
    "* 문자열에 특정 문자열(패턴)이 포함되어 있는지 판단\n",
    "* re.match('패턴', '문자열')"
   ]
  },
  {
   "cell_type": "code",
   "execution_count": 2,
   "id": "0b476cd2",
   "metadata": {},
   "outputs": [
    {
     "data": {
      "text/plain": [
       "<re.Match object; span=(0, 5), match='Hello'>"
      ]
     },
     "execution_count": 2,
     "metadata": {},
     "output_type": "execute_result"
    }
   ],
   "source": [
    "# span=(0, 5) : 0부터 5까지가 매치와 맞음\n",
    "re.match('Hello','Hello, world!')"
   ]
  },
  {
   "cell_type": "code",
   "execution_count": 4,
   "id": "7208a6d7",
   "metadata": {},
   "outputs": [],
   "source": [
    "# 문자열 중간부터 같다고 매치되지 않음, 단어 첫글자 부터 동일해야 함\n",
    "re.match('ello','Hello, world!')\n",
    "re.match('hello','Hello, world!')   # 대소문자 구분"
   ]
  },
  {
   "cell_type": "code",
   "execution_count": 6,
   "id": "08474020",
   "metadata": {},
   "outputs": [
    {
     "name": "stdout",
     "output_type": "stream",
     "text": [
      "<re.Match object; span=(0, 5), match='Hello'>\n",
      "None\n"
     ]
    }
   ],
   "source": [
    "# 객체를 반환하므로 반환되지 않는 경우 None\n",
    "a = re.match('Hello','Hello, world!')\n",
    "b = re.match('ello','Hello, world!')\n",
    "print(a)\n",
    "print(b)"
   ]
  },
  {
   "cell_type": "code",
   "execution_count": 3,
   "id": "95130f6d",
   "metadata": {},
   "outputs": [],
   "source": [
    "# 매치되는 문자열이 없으므로 아무것도 반환되지 않음(오류발생x)\n",
    "re.match('Python','Hello, world!')"
   ]
  },
  {
   "cell_type": "markdown",
   "id": "4767042d",
   "metadata": {},
   "source": [
    "### 문자열 위치 판단\n",
    "* 특정 문자열이 맨 앞(또는 맨 뒤)에 오는지 판단\n",
    "* re.search('패턴', '문자열')"
   ]
  },
  {
   "cell_type": "code",
   "execution_count": 10,
   "id": "1cca6750",
   "metadata": {},
   "outputs": [
    {
     "data": {
      "text/plain": [
       "<re.Match object; span=(0, 5), match='Hello'>"
      ]
     },
     "execution_count": 10,
     "metadata": {},
     "output_type": "execute_result"
    }
   ],
   "source": [
    "# ^문자열 : 문자열이 맨 앞에 오는지 판단\n",
    "re.search('^Hello','Hello, world!')"
   ]
  },
  {
   "cell_type": "code",
   "execution_count": 11,
   "id": "a57beb30",
   "metadata": {},
   "outputs": [
    {
     "name": "stdout",
     "output_type": "stream",
     "text": [
      "None\n",
      "<re.Match object; span=(0, 3), match='Hel'>\n"
     ]
    }
   ],
   "source": [
    "# 시작되는 문자열 판단이므로 앞쪽의 글자를 지우면 반환되지 않음\n",
    "print(re.search('^llo','Hello, world!'))\n",
    "print(re.search('^Hel','Hello, world!')) "
   ]
  },
  {
   "cell_type": "code",
   "execution_count": 8,
   "id": "8c2270d6",
   "metadata": {},
   "outputs": [
    {
     "data": {
      "text/plain": [
       "<re.Match object; span=(7, 13), match='world!'>"
      ]
     },
     "execution_count": 8,
     "metadata": {},
     "output_type": "execute_result"
    }
   ],
   "source": [
    "# 문자열$ : 문자열이 맨 뒤에 오는지 판단\n",
    "re.search('world!$','Hello, world!')"
   ]
  },
  {
   "cell_type": "code",
   "execution_count": 13,
   "id": "33c91c0b",
   "metadata": {},
   "outputs": [
    {
     "name": "stdout",
     "output_type": "stream",
     "text": [
      "<re.Match object; span=(9, 13), match='rld!'>\n",
      "None\n"
     ]
    }
   ],
   "source": [
    "# 끝나는 문자열의 판단이므로 뒤쪽의 글자를 지우면 반환되지 않음\n",
    "print(re.search('rld!$','Hello, world!'))\n",
    "print(re.search('worl$','Hello, world!'))"
   ]
  },
  {
   "cell_type": "markdown",
   "id": "a4598984",
   "metadata": {},
   "source": [
    "### 지정 문자열 포함 확인"
   ]
  },
  {
   "cell_type": "code",
   "execution_count": 14,
   "id": "368c208d",
   "metadata": {},
   "outputs": [
    {
     "data": {
      "text/plain": [
       "<re.Match object; span=(0, 5), match='hello'>"
      ]
     },
     "execution_count": 14,
     "metadata": {},
     "output_type": "execute_result"
    }
   ],
   "source": [
    "# | 는 or 개념\n",
    "re.match('hello|world', 'hello') "
   ]
  },
  {
   "cell_type": "markdown",
   "id": "d996f0fb",
   "metadata": {},
   "source": [
    "### 범위 판단\n",
    "* 범위 지정 : [ ] (대괄호 사용)"
   ]
  },
  {
   "cell_type": "code",
   "execution_count": 15,
   "id": "49383a3c",
   "metadata": {},
   "outputs": [
    {
     "data": {
      "text/plain": [
       "<re.Match object; span=(0, 1), match='h'>"
      ]
     },
     "execution_count": 15,
     "metadata": {},
     "output_type": "execute_result"
    }
   ],
   "source": [
    "# 범위 지정\n",
    "# 숫자 [0-9]\n",
    "# 알파벳 소문자 [a-z]\n",
    "# 알파벳 대문자 [A-Z]\n",
    "re.match('[a-z]', 'hello, world!')"
   ]
  },
  {
   "cell_type": "code",
   "execution_count": 18,
   "id": "4c5abb7a",
   "metadata": {
    "scrolled": true
   },
   "outputs": [
    {
     "name": "stdout",
     "output_type": "stream",
     "text": [
      "<re.Match object; span=(0, 2), match='0e'>\n",
      "<re.Match object; span=(0, 1), match='0'>\n",
      "<re.Match object; span=(0, 1), match='h'>\n"
     ]
    }
   ],
   "source": [
    "print(re.match('[0-9][a-z]', '0ello, world!')) # 숫자+문자가 붙어있는 문자열 \n",
    "print(re.match('[0-9a-z]', '0ello, world!'))   # 숫자가 있는 경우 숫자 우선\n",
    "print(re.match('[0-9a-z]', 'hello, world!'))   # 숫자가 없는 경우 문자"
   ]
  },
  {
   "cell_type": "markdown",
   "id": "d7120a98",
   "metadata": {},
   "source": [
    "* [  ]*  : 범위 내 문자(숫자)가 0개 이상 있는지\n",
    "* [  ]+  : 범위 내 문자(숫자)가 1개 이상 있는지"
   ]
  },
  {
   "cell_type": "code",
   "execution_count": 25,
   "id": "fa0e0c9b",
   "metadata": {},
   "outputs": [
    {
     "name": "stdout",
     "output_type": "stream",
     "text": [
      "<re.Match object; span=(0, 4), match='1234'>\n",
      "<re.Match object; span=(0, 0), match=''>\n",
      "<re.Match object; span=(0, 4), match='1234'>\n",
      "None\n"
     ]
    }
   ],
   "source": [
    "print(re.match('[0-9]*', '1234'))   # 0-9의 숫자가 0개 이상 있으므로 매칭됨\n",
    "print(re.match('[0-9]*', 'abcd'))\n",
    "\n",
    "print(re.match('[0-9]+', '1234'))   # 0-9의 숫자가 1개 이상 있으므로 매칭됨\n",
    "print(re.match('[0-9]+', 'abcd'))"
   ]
  },
  {
   "cell_type": "code",
   "execution_count": 22,
   "id": "16d67082",
   "metadata": {},
   "outputs": [
    {
     "name": "stdout",
     "output_type": "stream",
     "text": [
      "<re.Match object; span=(0, 2), match='12'>\n",
      "<re.Match object; span=(0, 2), match='12'>\n"
     ]
    }
   ],
   "source": [
    "print(re.match('[0-9]*', '12ab34cd'))\n",
    "print(re.match('[0-9]+', '12ab34cd'))"
   ]
  },
  {
   "cell_type": "markdown",
   "id": "69e8e01e",
   "metadata": {},
   "source": [
    "* *와 + 활용"
   ]
  },
  {
   "cell_type": "code",
   "execution_count": 29,
   "id": "0615541e",
   "metadata": {},
   "outputs": [
    {
     "name": "stdout",
     "output_type": "stream",
     "text": [
      "<re.Match object; span=(0, 1), match='b'>\n",
      "<re.Match object; span=(0, 3), match='aab'>\n",
      "None\n",
      "<re.Match object; span=(0, 3), match='aab'>\n",
      "None\n"
     ]
    }
   ],
   "source": [
    "print(re.match('a*b', 'b'))  # a가 0개 이상있고 b가 있는 경우 매칭됨\n",
    "print(re.match('a*b', 'aab'))\n",
    "\n",
    "print(re.match('a+b', 'b'))  # a가 1개 이상있고 b가 있는 경우 매칭됨\n",
    "print(re.match('a+b', 'aab'))\n",
    "print(re.match('a+b', 'acbbcd'))"
   ]
  },
  {
   "cell_type": "markdown",
   "id": "7f2fd794",
   "metadata": {},
   "source": [
    "* search도 가능하나 match와 차이점 주목\n",
    "* !! search의 경우 문자열 중간에 있어도 매칭됨"
   ]
  },
  {
   "cell_type": "code",
   "execution_count": 28,
   "id": "5064fc30",
   "metadata": {},
   "outputs": [
    {
     "name": "stdout",
     "output_type": "stream",
     "text": [
      "<re.Match object; span=(1, 2), match='b'>\n",
      "<re.Match object; span=(1, 4), match='aab'>\n",
      "None\n",
      "<re.Match object; span=(0, 3), match='aab'>\n"
     ]
    }
   ],
   "source": [
    "print(re.search('a*b', 'cb'))  # a가 0개 이상있고 b가 있는 경우 매칭됨\n",
    "print(re.search('a*b', 'caab'))\n",
    "\n",
    "print(re.search('a+b', 'b'))  # a가 1개 이상있고 b가 있는 경우 매칭됨\n",
    "print(re.search('a+b', 'aab'))"
   ]
  },
  {
   "cell_type": "markdown",
   "id": "f96c22e9",
   "metadata": {},
   "source": [
    "### 문자가 0개 또는 1개인지 판단\n",
    "* 문자?(또는 [범위]?) : 해당 위치에 문자(또는 범위)가 0개 또는 1개인지 판단"
   ]
  },
  {
   "cell_type": "code",
   "execution_count": 31,
   "id": "a5084d19",
   "metadata": {},
   "outputs": [
    {
     "name": "stdout",
     "output_type": "stream",
     "text": [
      "<re.Match object; span=(0, 3), match='abd'>\n",
      "<re.Match object; span=(0, 4), match='ab3d'>\n"
     ]
    }
   ],
   "source": [
    "print(re.match('abc?d','abd'))   # c? 위치에 0개 있으므로 매칭됨\n",
    "print(re.match('ab[0-9]?d','ab3d'))   # [0-9]? 위치에 1개 있으므로 매칭됨"
   ]
  },
  {
   "cell_type": "code",
   "execution_count": 33,
   "id": "2867ffe7",
   "metadata": {},
   "outputs": [
    {
     "name": "stdout",
     "output_type": "stream",
     "text": [
      "<re.Match object; span=(0, 4), match='abxd'>\n",
      "None\n"
     ]
    }
   ],
   "source": [
    "print(re.match('ab.d', 'abxd'))   # . 위치에 아무 문자가 1개 있는지 판단\n",
    "print(re.match('ab.d', 'abd'))    # . 의 경우 0개는 반환되지 않음"
   ]
  },
  {
   "cell_type": "markdown",
   "id": "c9667f4c",
   "metadata": {},
   "source": [
    "### 문자 개수 판단\n",
    "* 문자{개수}\n",
    "* (문자열){개수}"
   ]
  },
  {
   "cell_type": "code",
   "execution_count": 36,
   "id": "816cf961",
   "metadata": {},
   "outputs": [
    {
     "name": "stdout",
     "output_type": "stream",
     "text": [
      "<re.Match object; span=(0, 3), match='hhh'>\n",
      "None\n",
      "<re.Match object; span=(0, 15), match='hellohellohello'>\n",
      "<re.Match object; span=(0, 15), match='hellohellohello'>\n"
     ]
    }
   ],
   "source": [
    "print(re.match('h{3}', 'hhhello'))\n",
    "print(re.match('h{3}', 'hhello'))\n",
    "print(re.match('(hello){3}', 'hellohellohelloworld'))\n",
    "print(re.match('(hello){3}', 'hellohellohellohelloworld'))"
   ]
  },
  {
   "cell_type": "code",
   "execution_count": 39,
   "id": "8fc7f294",
   "metadata": {},
   "outputs": [
    {
     "name": "stdout",
     "output_type": "stream",
     "text": [
      "번호 입력(010-0000-0000 형식으로 작성) : 010-2880-8444\n"
     ]
    },
    {
     "data": {
      "text/plain": [
       "<re.Match object; span=(0, 13), match='010-2880-8444'>"
      ]
     },
     "execution_count": 39,
     "metadata": {},
     "output_type": "execute_result"
    }
   ],
   "source": [
    "a=input('번호 입력(010-0000-0000 형식으로 작성) : ')\n",
    "re.match('[0-1]{3}-[0-9]{4}-[0-9]{4}', a)"
   ]
  },
  {
   "cell_type": "code",
   "execution_count": 40,
   "id": "769cbbe5",
   "metadata": {},
   "outputs": [
    {
     "name": "stdout",
     "output_type": "stream",
     "text": [
      "<re.Match object; span=(0, 11), match='02-100-1000'>\n",
      "None\n"
     ]
    }
   ],
   "source": [
    "# {시작개수, 끝개수} 범위 사이의 개수가 있는 경우 매칭\n",
    "print(re.match('[0-9]{2,3}-[0-9]{3,4}-[0-9]{4}', '02-100-1000'))\n",
    "print(re.match('[0-9]{2,3}-[0-9]{3,4}-[0-9]{4}', '02-10-1000'))"
   ]
  },
  {
   "cell_type": "markdown",
   "id": "c0c160c7",
   "metadata": {},
   "source": [
    "### 숫자, 영문 조합 문자 판단"
   ]
  },
  {
   "cell_type": "code",
   "execution_count": 42,
   "id": "b60dee5d",
   "metadata": {},
   "outputs": [
    {
     "name": "stdout",
     "output_type": "stream",
     "text": [
      "<re.Match object; span=(0, 9), match='Hello1234'>\n",
      "<re.Match object; span=(0, 9), match='heLLo1234'>\n",
      "<re.Match object; span=(0, 9), match='Hello1234'>\n"
     ]
    }
   ],
   "source": [
    "# 하나의 대괄호 [ ] 안에서는 위치 상관 없음\n",
    "print(re.match('[a-zA-Z0-9]+', 'Hello1234'))\n",
    "print(re.match('[a-zA-Z0-9]+', 'heLLo1234'))\n",
    "print(re.match('[0-9a-zA-Z]+', 'Hello1234'))"
   ]
  },
  {
   "cell_type": "code",
   "execution_count": 43,
   "id": "29edd40f",
   "metadata": {},
   "outputs": [],
   "source": [
    "re.match('[A-Z0-9]+', 'hello')   # 대소문자는 구분됨"
   ]
  },
  {
   "cell_type": "code",
   "execution_count": 46,
   "id": "2c08bdba",
   "metadata": {},
   "outputs": [
    {
     "name": "stdout",
     "output_type": "stream",
     "text": [
      "<re.Match object; span=(0, 3), match='홍길동'>\n",
      "<re.Match object; span=(0, 3), match='홍길동'>\n",
      "<re.Match object; span=(0, 6), match='홍길동ㄱㄴㅏ'>\n"
     ]
    }
   ],
   "source": [
    "# 가-힣 : 모든 한글 포함(자음, 모음, 밭침이 합쳐진 글자)\n",
    "print(re.match('[가-힣]+', '홍길동'))\n",
    "\n",
    "# 자음, 모음 개별로 쓰는 경우 따로 범위 작성 필요\n",
    "print(re.match('[가-힣]+', '홍길동ㄱㄴ'))\n",
    "print(re.match('[가-힣ㄱ-ㅎㅏ-ㅣ]+', '홍길동ㄱㄴㅏ'))  "
   ]
  },
  {
   "cell_type": "markdown",
   "id": "b83ef917",
   "metadata": {},
   "source": [
    "### 특정 범위에 해당하지 않는 경우 판단\n",
    "* [^범위] : 범위 앞에 ^를 붙이면 해당 범위 제외"
   ]
  },
  {
   "cell_type": "code",
   "execution_count": 47,
   "id": "2f144e0f",
   "metadata": {},
   "outputs": [
    {
     "name": "stdout",
     "output_type": "stream",
     "text": [
      "None\n",
      "<re.Match object; span=(0, 5), match='hello'>\n"
     ]
    }
   ],
   "source": [
    "print(re.match('[^A-Z]+', 'Hello'))   # 대문자 제외하고 1개 이상 있는지 판단\n",
    "print(re.match('[^A-Z]+', 'hello'))"
   ]
  },
  {
   "cell_type": "markdown",
   "id": "362fc97e",
   "metadata": {},
   "source": [
    "* ^[범위] : 해당 범위로  시작하는지 판단"
   ]
  },
  {
   "cell_type": "code",
   "execution_count": 48,
   "id": "9b8629cb",
   "metadata": {},
   "outputs": [
    {
     "name": "stdout",
     "output_type": "stream",
     "text": [
      "<re.Match object; span=(0, 1), match='H'>\n",
      "<re.Match object; span=(0, 1), match='H'>\n"
     ]
    }
   ],
   "source": [
    "print(re.match('^[A-Z]+', 'Hello'))\n",
    "print(re.search('^[A-Z]+', 'Hello'))"
   ]
  },
  {
   "cell_type": "markdown",
   "id": "ac785811",
   "metadata": {},
   "source": [
    "* [범위]$ : 해당 범위로 끝나는지 판단"
   ]
  },
  {
   "cell_type": "code",
   "execution_count": 49,
   "id": "81dee237",
   "metadata": {},
   "outputs": [
    {
     "data": {
      "text/plain": [
       "<re.Match object; span=(5, 9), match='1234'>"
      ]
     },
     "execution_count": 49,
     "metadata": {},
     "output_type": "execute_result"
    }
   ],
   "source": [
    "re.search('[0-9]+$', 'Hello1234')"
   ]
  },
  {
   "cell_type": "markdown",
   "id": "3c16a32a",
   "metadata": {},
   "source": [
    "### 특수문자 판단"
   ]
  },
  {
   "cell_type": "code",
   "execution_count": 50,
   "id": "d8236157",
   "metadata": {},
   "outputs": [
    {
     "data": {
      "text/plain": [
       "<re.Match object; span=(2, 4), match='**'>"
      ]
     },
     "execution_count": 50,
     "metadata": {},
     "output_type": "execute_result"
    }
   ],
   "source": [
    "re.search('\\*+', '1 ** 2')    # *이 들어있는지 판단"
   ]
  },
  {
   "cell_type": "code",
   "execution_count": 51,
   "id": "ef853369",
   "metadata": {},
   "outputs": [
    {
     "data": {
      "text/plain": [
       "<re.Match object; span=(0, 11), match='$(document)'>"
      ]
     },
     "execution_count": 51,
     "metadata": {},
     "output_type": "execute_result"
    }
   ],
   "source": [
    "# $, (, )와 문자, 숫자가 들어있는지 판단\n",
    "re.match('[$()a-zA-Z0-9]+', '$(document)')"
   ]
  },
  {
   "cell_type": "code",
   "execution_count": 52,
   "id": "7b6503c0",
   "metadata": {},
   "outputs": [
    {
     "data": {
      "text/plain": [
       "<re.Match object; span=(0, 4), match='1234'>"
      ]
     },
     "execution_count": 52,
     "metadata": {},
     "output_type": "execute_result"
    }
   ],
   "source": [
    "re.match('\\d+', '1234')"
   ]
  },
  {
   "cell_type": "code",
   "execution_count": 53,
   "id": "68221e35",
   "metadata": {},
   "outputs": [
    {
     "data": {
      "text/plain": [
       "<re.Match object; span=(0, 3), match='(:)'>"
      ]
     },
     "execution_count": 53,
     "metadata": {},
     "output_type": "execute_result"
    }
   ],
   "source": [
    "re.match('\\W+', '(:)') "
   ]
  },
  {
   "cell_type": "markdown",
   "id": "b2372f93",
   "metadata": {},
   "source": [
    "### 공백 처리"
   ]
  },
  {
   "cell_type": "code",
   "execution_count": 54,
   "id": "291a0d88",
   "metadata": {},
   "outputs": [
    {
     "data": {
      "text/plain": [
       "<re.Match object; span=(0, 10), match='Hello 1234'>"
      ]
     },
     "execution_count": 54,
     "metadata": {},
     "output_type": "execute_result"
    }
   ],
   "source": [
    "re.match('[a-zA-Z0-9 ]+', 'Hello 1234')   # ' '로 공백 표현"
   ]
  },
  {
   "cell_type": "code",
   "execution_count": 55,
   "id": "285ad028",
   "metadata": {},
   "outputs": [
    {
     "data": {
      "text/plain": [
       "<re.Match object; span=(0, 10), match='Hello 1234'>"
      ]
     },
     "execution_count": 55,
     "metadata": {},
     "output_type": "execute_result"
    }
   ],
   "source": [
    "re.match('[a-zA-Z0-9\\s]+', 'Hello 1234')  # \\s로 공백 표현"
   ]
  },
  {
   "cell_type": "code",
   "execution_count": null,
   "id": "6376ba4f",
   "metadata": {},
   "outputs": [],
   "source": []
  },
  {
   "cell_type": "code",
   "execution_count": 56,
   "id": "5779c4e7",
   "metadata": {},
   "outputs": [
    {
     "data": {
      "text/plain": [
       "<re.Match object; span=(0, 4), match='1234'>"
      ]
     },
     "execution_count": 56,
     "metadata": {},
     "output_type": "execute_result"
    }
   ],
   "source": [
    "p = re.compile('[0-9]+')   # 정규표현식 패턴을 객체로 만듦\n",
    "p.match('1234')            # 정규표현식 패턴 객체에서 match 메서드 사용"
   ]
  },
  {
   "cell_type": "code",
   "execution_count": 57,
   "id": "b921fd90",
   "metadata": {},
   "outputs": [],
   "source": [
    "p.search('hello')          # 정규표현식 패턴 객체에서 search 메서드 사용"
   ]
  },
  {
   "cell_type": "markdown",
   "id": "10d6f0f5",
   "metadata": {},
   "source": [
    "### 패턴에 매칭되는 모든 문자열 가져오기"
   ]
  },
  {
   "cell_type": "code",
   "execution_count": 59,
   "id": "f29ac845",
   "metadata": {},
   "outputs": [
    {
     "data": {
      "text/plain": [
       "['1', '2', '4', '7', '8']"
      ]
     },
     "execution_count": 59,
     "metadata": {},
     "output_type": "execute_result"
    }
   ],
   "source": [
    "re.findall('[0-9]+', '1 2 Fizz 4 Buzz Fizz 7 8')"
   ]
  },
  {
   "cell_type": "code",
   "execution_count": null,
   "id": "3a370b63",
   "metadata": {},
   "outputs": [],
   "source": []
  },
  {
   "cell_type": "markdown",
   "id": "47076693",
   "metadata": {},
   "source": [
    "### 문자열 바꾸기\n",
    "* re.sub('패턴', '바꿀문자열', '문자열', 바꿀횟수)"
   ]
  },
  {
   "cell_type": "code",
   "execution_count": 60,
   "id": "659f17d1",
   "metadata": {},
   "outputs": [
    {
     "data": {
      "text/plain": [
       "'fruit box fruit tree'"
      ]
     },
     "execution_count": 60,
     "metadata": {},
     "output_type": "execute_result"
    }
   ],
   "source": [
    "# apple 또는 orange를 fruit로 바꿈\n",
    "re.sub('apple|orange', 'fruit', 'apple box orange tree')    "
   ]
  },
  {
   "cell_type": "code",
   "execution_count": 65,
   "id": "5117d12d",
   "metadata": {},
   "outputs": [
    {
     "data": {
      "text/plain": [
       "'n n Fizz n Buzz Fizz n n'"
      ]
     },
     "execution_count": 65,
     "metadata": {},
     "output_type": "execute_result"
    }
   ],
   "source": [
    "# 숫자만 찾아서 n으로 바꿈\n",
    "re.sub('[0-9]+', 'n', '1 2 Fizz 4 Buzz Fizz 7 8')    "
   ]
  },
  {
   "cell_type": "code",
   "execution_count": 69,
   "id": "ac970ca7",
   "metadata": {},
   "outputs": [
    {
     "data": {
      "text/plain": [
       "'* * Fizz * Buzz Fizz * *'"
      ]
     },
     "execution_count": 69,
     "metadata": {},
     "output_type": "execute_result"
    }
   ],
   "source": [
    "re.sub('\\d+', '*', '1 2 Fizz 4 Buzz Fizz 7 8') "
   ]
  },
  {
   "cell_type": "code",
   "execution_count": 68,
   "id": "babf1cbc",
   "metadata": {},
   "outputs": [
    {
     "data": {
      "text/plain": [
       "'* * Fizz * Buzz Fizz * *'"
      ]
     },
     "execution_count": 68,
     "metadata": {},
     "output_type": "execute_result"
    }
   ],
   "source": [
    "re.sub('\\d+', '*', '1 2 Fizz 4 Buzz Fizz 7 89') "
   ]
  },
  {
   "cell_type": "markdown",
   "id": "365cdcd4",
   "metadata": {},
   "source": [
    "### 연습문제\n",
    "* 이메일 주소 검사하기"
   ]
  },
  {
   "cell_type": "markdown",
   "id": "6daa1976",
   "metadata": {},
   "source": [
    "* 문제 : p = re.compile(__________________)"
   ]
  },
  {
   "cell_type": "code",
   "execution_count": 76,
   "id": "560f5660",
   "metadata": {},
   "outputs": [
    {
     "name": "stdout",
     "output_type": "stream",
     "text": [
      "True True True True True False False False "
     ]
    }
   ],
   "source": [
    "p = re.compile('[a-zA-Z0-9.+_-]+\\@[a-z-]+\\.[a-z.]+[a-z]')\n",
    "\n",
    "#\n",
    "emails = ['python@mail.example.com', 'python+kr@example.com',         # 올바른 형식\n",
    "          'python-dojang@example.co.kr', 'python_10@example.info',    # 올바른 형식\n",
    "          'python.dojang@e-xample.com',                               # 올바른 형식\n",
    "          '@example.com', 'python@example', 'python@example-com']     # 잘못된 형식\n",
    "\n",
    "for email in emails :\n",
    "    print(p.match(email) != None, end = ' ')"
   ]
  }
 ],
 "metadata": {
  "kernelspec": {
   "display_name": "Python 3 (ipykernel)",
   "language": "python",
   "name": "python3"
  },
  "language_info": {
   "codemirror_mode": {
    "name": "ipython",
    "version": 3
   },
   "file_extension": ".py",
   "mimetype": "text/x-python",
   "name": "python",
   "nbconvert_exporter": "python",
   "pygments_lexer": "ipython3",
   "version": "3.9.12"
  }
 },
 "nbformat": 4,
 "nbformat_minor": 5
}
