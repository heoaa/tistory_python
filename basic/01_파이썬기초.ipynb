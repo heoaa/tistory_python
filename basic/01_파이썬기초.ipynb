{
 "cells": [
  {
   "cell_type": "markdown",
   "id": "91677845",
   "metadata": {},
   "source": [
    "## 파이썬 기초"
   ]
  },
  {
   "cell_type": "markdown",
   "id": "238450b9",
   "metadata": {},
   "source": [
    "#### 딕셔너리 응용"
   ]
  },
  {
   "cell_type": "code",
   "execution_count": 2,
   "id": "954b06b8",
   "metadata": {},
   "outputs": [],
   "source": [
    "\"\"\"\n",
    "[문제]\n",
    "dict_val이라는 딕셔너리 변수에 아래 값을 넣기\n",
    "\n",
    "a키에는 리스트 'aa', 'bb', 'cc' 넣기\n",
    "b키에는 리스트 'a', 'b', 'c' 넣기\n",
    "\n",
    "dict_val에 들어있는 키값에 대한 리스트 출력하기\n",
    "\"\"\""
   ]
  },
  {
   "cell_type": "code",
   "execution_count": 18,
   "id": "9f29f030",
   "metadata": {},
   "outputs": [
    {
     "name": "stdout",
     "output_type": "stream",
     "text": [
      "['aa', 'bb', 'cc']\n",
      "['a', 'b', 'c']\n"
     ]
    }
   ],
   "source": [
    "dict_val = {'a':['aa','bb','cc'], 'b':['a','b','c']}\n",
    "\n",
    "print(dict_val['a'])\n",
    "print(dict_val['b'])"
   ]
  },
  {
   "cell_type": "code",
   "execution_count": 17,
   "id": "b6390e10",
   "metadata": {},
   "outputs": [
    {
     "name": "stdout",
     "output_type": "stream",
     "text": [
      "['aa', 'bb', 'cc']\n",
      "['a', 'b', 'c']\n"
     ]
    }
   ],
   "source": [
    "# for문을 이용해 키값에 대한 리스트 출력\n",
    "for k in dict_val :\n",
    "    print(dict_val[k])"
   ]
  },
  {
   "cell_type": "code",
   "execution_count": 32,
   "id": "718babb4",
   "metadata": {},
   "outputs": [
    {
     "name": "stdout",
     "output_type": "stream",
     "text": [
      "['aa', 'bb', 'cc']\n",
      "aa\n",
      "bb\n",
      "cc\n",
      "['a', 'b', 'c']\n",
      "a\n",
      "b\n",
      "c\n"
     ]
    }
   ],
   "source": [
    "for k in dict_val :\n",
    "    print(dict_val[k])\n",
    "    for i in range(0,3) :\n",
    "        print(dict_val[k][i])"
   ]
  },
  {
   "cell_type": "code",
   "execution_count": 36,
   "id": "79d33698",
   "metadata": {
    "collapsed": true
   },
   "outputs": [
    {
     "name": "stdout",
     "output_type": "stream",
     "text": [
      "['aa', 'bb', 'cc']\n",
      "aa\n",
      "bb\n",
      "cc\n",
      "aa\n",
      "bb\n",
      "cc\n",
      "aa\n",
      "bb\n",
      "cc\n",
      "aa\n",
      "bb\n",
      "cc\n",
      "['a', 'b', 'c']\n",
      "a\n",
      "b\n",
      "c\n",
      "a\n",
      "b\n",
      "c\n",
      "a\n",
      "b\n",
      "c\n",
      "a\n",
      "b\n",
      "c\n"
     ]
    }
   ],
   "source": [
    "## \n",
    "for k in dict_val :\n",
    "    # 키값 가져오기\n",
    "    print(dict_val[k])\n",
    "    list_val = dict_val[k]\n",
    "    \n",
    "    # 리스트의 값을 이용하는 방식\n",
    "    for val in dict_val[k] :\n",
    "        print(val)\n",
    "        \n",
    "    # 리스트의 인덱스 번호를 이용하는 방식\n",
    "    for i in range(0,len(dict_val[k])) :\n",
    "        print(dict_val[k][i])\n",
    "    \n",
    "    # 변수를 이용하는 방식\n",
    "    for val in list_val :\n",
    "        print(val)\n",
    "        \n",
    "    for i in range(0, len(list_val)) :\n",
    "        print(list_val[i])"
   ]
  },
  {
   "cell_type": "markdown",
   "id": "a7515279",
   "metadata": {},
   "source": [
    "#### 리스트 내 딕셔너리"
   ]
  },
  {
   "cell_type": "code",
   "execution_count": null,
   "id": "1f73e139",
   "metadata": {},
   "outputs": [],
   "source": [
    "\"\"\"\n",
    "[문제]\n",
    "list_val이라는 리스트 변수에 딕셔너리 값을 넣겠습니다.\n",
    "\n",
    "첫번째 리스트에는 a키, 값은 리스트 'aa', 'bb', 'cc' 넣기\n",
    "두번째 리스트에는 b키, 값은 리스트 'a', 'b', 'c' 넣기\n",
    "\"\"\""
   ]
  },
  {
   "cell_type": "code",
   "execution_count": 46,
   "id": "e0af9c8f",
   "metadata": {},
   "outputs": [
    {
     "data": {
      "text/plain": [
       "[{'a': ['aa', 'bb', 'cc']}, {'b': ['a', 'b', 'c']}]"
      ]
     },
     "execution_count": 46,
     "metadata": {},
     "output_type": "execute_result"
    }
   ],
   "source": [
    "# 리스트 안에 바로 만드는 방식\n",
    "list_val = [{'a':['aa','bb','cc']},{'b':['a','b','c']}]\n",
    "list_val"
   ]
  },
  {
   "cell_type": "code",
   "execution_count": 47,
   "id": "d67da42b",
   "metadata": {},
   "outputs": [
    {
     "data": {
      "text/plain": [
       "[{'a': ['aa', 'bb', 'cc']}, {'b': ['a', 'b', 'c']}]"
      ]
     },
     "execution_count": 47,
     "metadata": {},
     "output_type": "execute_result"
    }
   ],
   "source": [
    "# 변수처리 후 만드는 방식\n",
    "dict1 = {'a':['aa','bb','cc']}\n",
    "dict2 = {'b':['a','b','c']}\n",
    "list_val2 = [dict1,dict2]\n",
    "list_val2"
   ]
  },
  {
   "cell_type": "code",
   "execution_count": 61,
   "id": "017ab8be",
   "metadata": {},
   "outputs": [
    {
     "name": "stdout",
     "output_type": "stream",
     "text": [
      "{'a': ['aa', 'bb', 'cc']}\n",
      "['aa', 'bb', 'cc']\n",
      "aa\n",
      "bb\n",
      "cc\n",
      "{'b': ['a', 'b', 'c']}\n",
      "['a', 'b', 'c']\n",
      "a\n",
      "b\n",
      "c\n"
     ]
    }
   ],
   "source": [
    "# list_val에 들어있는 딕셔너리의 키에 대응하는 값들을 모두 출력해 주세요.\n",
    "\n",
    "for i in range(0, len(list_val)) :\n",
    "    list_ = list_val[i]\n",
    "    print(list_)\n",
    "    \n",
    "    for k in list_:\n",
    "        print(list_[k])\n",
    "        \n",
    "        for x in range(0, len(list_[k])):\n",
    "            print(list_[k][x])"
   ]
  },
  {
   "cell_type": "code",
   "execution_count": 63,
   "id": "4d6081bb",
   "metadata": {},
   "outputs": [
    {
     "name": "stdout",
     "output_type": "stream",
     "text": [
      "{'a': ['aa', 'bb', 'cc']}\n",
      "['aa', 'bb', 'cc']\n",
      "aa\n",
      "bb\n",
      "cc\n",
      "{'b': ['a', 'b', 'c']}\n",
      "['a', 'b', 'c']\n",
      "a\n",
      "b\n",
      "c\n"
     ]
    }
   ],
   "source": [
    "##\n",
    "for d in list_val:\n",
    "    print(d)\n",
    "    \n",
    "    for k in d :\n",
    "        print(d[k])\n",
    "        \n",
    "        for v in d[k]:\n",
    "            print(v)"
   ]
  },
  {
   "cell_type": "code",
   "execution_count": null,
   "id": "2dc0906d",
   "metadata": {},
   "outputs": [],
   "source": [
    "# 동일 \n",
    "for i in range(0, len(list_val)) :\n",
    "    list_val[i]\n",
    "\n",
    "# 변수를 넣으면 위의 작동이 자동으로 돌아감\n",
    "for d in list_val:\n",
    "    print(d)"
   ]
  },
  {
   "cell_type": "code",
   "execution_count": 84,
   "id": "40081ab7",
   "metadata": {},
   "outputs": [
    {
     "name": "stdout",
     "output_type": "stream",
     "text": [
      "{'a': ['aa', 'bb', 'cc']}\n",
      "['aa', 'bb', 'cc']\n",
      "bb\n",
      "{'b': ['a', 'b', 'c']}\n",
      "['a', 'b', 'c']\n",
      "b\n"
     ]
    },
    {
     "data": {
      "text/plain": [
       "['bb', 'b']"
      ]
     },
     "execution_count": 84,
     "metadata": {},
     "output_type": "execute_result"
    }
   ],
   "source": [
    "# 위에 list_val에 들어있는 딕셔너리의 키에 대응하는 값 중에 \n",
    "# 'b' 라는 단어가 들어 있으면 해당 키에 대응하는 값을\n",
    "# list_temp 라는 리스트변수에 담아 출력해주세요\n",
    "list_temp = []\n",
    "\n",
    "for a in list_val :\n",
    "    print(a)\n",
    "    \n",
    "    for k in a:\n",
    "        print(a[k])\n",
    "        \n",
    "        for b in a[k]:\n",
    "            if 'b' in b :\n",
    "                print(b)\n",
    "                list_temp.append(b)\n",
    "                \n",
    "list_temp"
   ]
  },
  {
   "cell_type": "code",
   "execution_count": null,
   "id": "01045275",
   "metadata": {},
   "outputs": [],
   "source": [
    "# v.find('b') : v에 b라는 값이 있으면 해당 문자열의 인덱스값 도출\n",
    "# -1 : 없는 경우, 그 외는 b가 위치한 인덱스갑 도출"
   ]
  },
  {
   "cell_type": "code",
   "execution_count": 91,
   "id": "902a83be",
   "metadata": {},
   "outputs": [
    {
     "name": "stdout",
     "output_type": "stream",
     "text": [
      "{'a': ['aa', 'bb', 'cc']}\n",
      "['aa', 'bb', 'cc']\n",
      "aa\n",
      "bb\n",
      "cc\n",
      "{'b': ['a', 'b', 'c']}\n",
      "['a', 'b', 'c']\n",
      "a\n",
      "b\n",
      "c\n"
     ]
    },
    {
     "data": {
      "text/plain": [
       "['bb', 'b']"
      ]
     },
     "execution_count": 91,
     "metadata": {},
     "output_type": "execute_result"
    }
   ],
   "source": [
    "##\n",
    "list_temp = []\n",
    "\n",
    "for d in list_val:\n",
    "    print(d)\n",
    "    \n",
    "    for k in d :\n",
    "        print(d[k])\n",
    "        \n",
    "        for v in d[k]:\n",
    "            print(v)\n",
    "\n",
    "#             if v[0] == 'b' :\n",
    "#                 list_temp.append(v)\n",
    "\n",
    "#             print(v.find('b') == 0)\n",
    "            if v.find('b') == 0 :\n",
    "                list_temp.append(v)\n",
    "    \n",
    "list_temp"
   ]
  }
 ],
 "metadata": {
  "kernelspec": {
   "display_name": "Python 3 (ipykernel)",
   "language": "python",
   "name": "python3"
  },
  "language_info": {
   "codemirror_mode": {
    "name": "ipython",
    "version": 3
   },
   "file_extension": ".py",
   "mimetype": "text/x-python",
   "name": "python",
   "nbconvert_exporter": "python",
   "pygments_lexer": "ipython3",
   "version": "3.9.12"
  }
 },
 "nbformat": 4,
 "nbformat_minor": 5
}
