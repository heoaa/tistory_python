{
 "cells": [
  {
   "cell_type": "markdown",
   "metadata": {},
   "source": [
    "## 예외처리, 디버깅"
   ]
  },
  {
   "cell_type": "markdown",
   "metadata": {},
   "source": [
    "- 예외발생"
   ]
  },
  {
   "cell_type": "code",
   "execution_count": null,
   "metadata": {},
   "outputs": [],
   "source": [
    "def multi(a, b) :\n",
    "    res = a * b\n",
    "    return res\n",
    "\n",
    "def divide(a, b) :\n",
    "    # if b == 0 : return 0\n",
    "    res = 0\n",
    "\n",
    "    try :\n",
    "        res = a / b\n",
    "    except Exception as e :\n",
    "        print(f'예외발생 {e}')\n",
    "    finally :                  # 예외발생 유무와 관계 없이 진행해야 하는 것들\n",
    "        return res\n",
    "\n",
    "\n",
    "if __name__ == '__main__' :\n",
    "    value = 7\n",
    "    print('곱셉/나눗셈')\n",
    "    print(divide(6,0))\n",
    "    print(multi(6,6))\n",
    "    print('죵료')"
   ]
  },
  {
   "cell_type": "code",
   "execution_count": null,
   "metadata": {},
   "outputs": [],
   "source": [
    "x, y = map(int, input('두 수를 입력하세요 > ').split(' '))\n",
    "z = 0\n",
    "print(f'x = {x}')\n",
    "print(f'y = {y}')\n",
    "\n",
    "\n",
    "try : \n",
    "    z = x / y\n",
    "    print(f'{x} / {y} = {z}')\n",
    "# except TypeError as e :\n",
    "#     print('형변환 하세요.')\n",
    "# except ZeroDivisionError as e :\n",
    "#     print('두번째수에 0은 넣지마세요.')\n",
    "except Exception as e :      # 모든 에러의 부모형\n",
    "    print(f'예외발생 {e}')\n",
    "\n",
    "# finally에는 각종 close 함수를 넣어 클로징 등 활용\n",
    "\n",
    "print('나누기 종료')"
   ]
  }
 ],
 "metadata": {
  "language_info": {
   "name": "python"
  },
  "orig_nbformat": 4
 },
 "nbformat": 4,
 "nbformat_minor": 2
}
