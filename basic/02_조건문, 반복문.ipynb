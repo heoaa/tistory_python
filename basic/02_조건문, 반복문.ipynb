{
 "cells": [
  {
   "cell_type": "markdown",
   "metadata": {},
   "source": [
    "## 조건문, 반복문 (흐름제어)\n",
    "※ 콜론(:), 들여쓰기 중요!!"
   ]
  },
  {
   "cell_type": "markdown",
   "metadata": {},
   "source": [
    "#### ▶ if문 (조건에 따른 실행)"
   ]
  },
  {
   "cell_type": "code",
   "execution_count": 6,
   "metadata": {},
   "outputs": [
    {
     "name": "stdout",
     "output_type": "stream",
     "text": [
      "홍길동 님 진료실로 들어갑니다.\n",
      "의사쌤한테 인사합니다.\n"
     ]
    }
   ],
   "source": [
    "name = '홍길동'\n",
    "gender = '남'\n",
    "\n",
    "if name == '홍길동' and gender == '남' :\n",
    "    print(name,'님 진료실로 들어갑니다.')\n",
    "    print('의사쌤한테 인사합니다.')\n",
    "\n",
    "else :\n",
    "    if gender == '여' :\n",
    "        print('성별이 다릅니다.')    \n",
    "    else :\n",
    "        print('부를때까지 기다리세요.')\n",
    "        print(name,'님이 궁시렁거립니다.')"
   ]
  },
  {
   "cell_type": "code",
   "execution_count": 7,
   "metadata": {},
   "outputs": [
    {
     "name": "stdout",
     "output_type": "stream",
     "text": [
      "9가 아닙니다.\n"
     ]
    }
   ],
   "source": [
    "num = 10\n",
    "\n",
    "if num != 9 :\n",
    "    print('9가 아닙니다.')\n",
    "else :\n",
    "    print('9입니다.')"
   ]
  },
  {
   "cell_type": "markdown",
   "metadata": {},
   "source": [
    "#### ▶ for문 ()"
   ]
  },
  {
   "cell_type": "markdown",
   "metadata": {},
   "source": [
    "- range로 인덱스 접근\n",
    "- 값을 이용해서 반복하는 방식"
   ]
  },
  {
   "cell_type": "code",
   "execution_count": 8,
   "metadata": {},
   "outputs": [
    {
     "name": "stdout",
     "output_type": "stream",
     "text": [
      "배열의 합은 5050\n"
     ]
    }
   ],
   "source": [
    "#arr = [1, 2, 3, 4, 5, 6, 7, 8, 9, 10]\n",
    "result = 0\n",
    "\n",
    "for x in range(1, 101) : \n",
    "    result = result + x\n",
    "\n",
    "print('배열의 합은', result)"
   ]
  },
  {
   "cell_type": "code",
   "execution_count": 9,
   "metadata": {},
   "outputs": [
    {
     "name": "stdout",
     "output_type": "stream",
     "text": [
      "meme\n",
      "mymy\n",
      "friendfriend\n",
      "janejane\n"
     ]
    }
   ],
   "source": [
    "arr2 = ('me', 'my', 'friend', 'jane')\n",
    "\n",
    "for item in arr2 :\n",
    "    #print(f'{item:>10}')     # 전체길이를 10자리 맞추어 출력\n",
    "    print(f'{item * 2}')"
   ]
  },
  {
   "cell_type": "code",
   "execution_count": 10,
   "metadata": {},
   "outputs": [
    {
     "name": "stdout",
     "output_type": "stream",
     "text": [
      "2는 짝수입니다.\n",
      "4는 짝수입니다.\n",
      "6는 짝수입니다.\n",
      "8는 짝수입니다.\n",
      "10는 짝수입니다.\n"
     ]
    }
   ],
   "source": [
    "for num in range(2, 11, 2) :\n",
    "    print(f'{num}는 짝수입니다.')"
   ]
  },
  {
   "cell_type": "code",
   "execution_count": 11,
   "metadata": {},
   "outputs": [
    {
     "name": "stdout",
     "output_type": "stream",
     "text": [
      "1는 홀수입니다.\n",
      "3는 홀수입니다.\n",
      "5는 홀수입니다.\n",
      "7는 홀수입니다.\n",
      "9는 홀수입니다.\n"
     ]
    }
   ],
   "source": [
    "for num in range(1,11, 2) :\n",
    "    if num % 2 == 0 :\n",
    "        print(f'{num}는 짝수입니다.')\n",
    "    else :\n",
    "        print(f'{num}는 홀수입니다.')"
   ]
  },
  {
   "cell_type": "code",
   "execution_count": 12,
   "metadata": {},
   "outputs": [
    {
     "name": "stdout",
     "output_type": "stream",
     "text": [
      "1번 수는 1입니다.\n",
      "3번 수는 5입니다.\n",
      "5번 수는 9입니다.\n",
      "7번 수는 13입니다.\n",
      "9번 수는 17입니다.\n"
     ]
    }
   ],
   "source": [
    "values = [1, 3, 5, 7, 9, 11, 13, 15, 17 ,19]\n",
    "num=0\n",
    "\n",
    "for item in values :\n",
    "    num += 1     # num = num + 1 과 동일\n",
    "    if (num % 2) == 0 :\n",
    "        #break    # 반복문 탈출\n",
    "        continue  # if 조건만 패스하고 다음 값 진행\n",
    "    else :\n",
    "        print(f'{num}번 수는 {item}입니다.')"
   ]
  },
  {
   "cell_type": "markdown",
   "metadata": {},
   "source": [
    "##### ▷ 대표 예제"
   ]
  },
  {
   "cell_type": "markdown",
   "metadata": {},
   "source": [
    "- 구구단"
   ]
  },
  {
   "cell_type": "code",
   "execution_count": 3,
   "metadata": {},
   "outputs": [
    {
     "name": "stdout",
     "output_type": "stream",
     "text": [
      "---구구단 프로그램---\n",
      "\n",
      "\n",
      "< 2단 >\n",
      "2x1= 2  2x2= 4  2x3= 6  2x4= 8  2x5=10  2x6=12  2x7=14  2x8=16  2x9=18  \n",
      "\n",
      "< 3단 >\n",
      "3x1= 3  3x2= 6  3x3= 9  3x4=12  3x5=15  3x6=18  3x7=21  3x8=24  3x9=27  \n",
      "\n",
      "< 4단 >\n",
      "4x1= 4  4x2= 8  4x3=12  4x4=16  4x5=20  4x6=24  4x7=28  4x8=32  4x9=36  \n",
      "\n",
      "< 5단 >\n",
      "5x1= 5  5x2=10  5x3=15  5x4=20  5x5=25  5x6=30  5x7=35  5x8=40  5x9=45  \n",
      "\n",
      "< 6단 >\n",
      "6x1= 6  6x2=12  6x3=18  6x4=24  6x5=30  6x6=36  6x7=42  6x8=48  6x9=54  \n",
      "\n",
      "< 7단 >\n",
      "7x1= 7  7x2=14  7x3=21  7x4=28  7x5=35  7x6=42  7x7=49  7x8=56  7x9=63  \n",
      "\n",
      "< 8단 >\n",
      "8x1= 8  8x2=16  8x3=24  8x4=32  8x5=40  8x6=48  8x7=56  8x8=64  8x9=72  \n",
      "\n",
      "< 9단 >\n",
      "9x1= 9  9x2=18  9x3=27  9x4=36  9x5=45  9x6=54  9x7=63  9x8=72  9x9=81  \n"
     ]
    }
   ],
   "source": [
    "# 구구단\n",
    "print('---구구단 프로그램---\\n')\n",
    "for x in range(2, 10) :\n",
    "    print(f'\\n< {x}단 >')\n",
    "    for y in range(1, 10) :\n",
    "        print(f'{x}x{y}={x*y:2d}', end = '  ')\n",
    "        # 2d : 정수(숫자를 2자리로 동일하게 맞춤), 0.2f : 소수(소수점 2자리로 맞춤), s : 문자\n",
    "    print()     # 단마다 줄맞춤"
   ]
  },
  {
   "cell_type": "code",
   "execution_count": 4,
   "metadata": {},
   "outputs": [
    {
     "name": "stdout",
     "output_type": "stream",
     "text": [
      "--2단--\n",
      "2  4  6  8  10  12  14  16  18  \n"
     ]
    }
   ],
   "source": [
    "x = int(input('구구단을 수행할 단번호를 입력하시오 : '))\n",
    "print(f'--{x}단--')\n",
    "\n",
    "for y in range(1, 10) :\n",
    "    print(f'{x*y}', end='  ')\n",
    "print()"
   ]
  },
  {
   "cell_type": "markdown",
   "metadata": {},
   "source": [
    "- 별찍기(star print)"
   ]
  },
  {
   "cell_type": "code",
   "execution_count": 1,
   "metadata": {},
   "outputs": [
    {
     "name": "stdout",
     "output_type": "stream",
     "text": [
      "*****\n",
      "*****\n",
      "*****\n",
      "*****\n",
      "*****\n"
     ]
    }
   ],
   "source": [
    "# 별찍기(star print)\n",
    "for x in range(1, 6) :\n",
    "    for y in range(1, 6) : \n",
    "        print('*', end='')\n",
    "    print('')"
   ]
  },
  {
   "cell_type": "code",
   "execution_count": 14,
   "metadata": {},
   "outputs": [
    {
     "name": "stdout",
     "output_type": "stream",
     "text": [
      "    \n",
      "   *\n",
      "  **\n",
      " ***\n",
      "****\n"
     ]
    }
   ],
   "source": [
    "for x in range(1, 6) :\n",
    "    for y in range(x, 5) : \n",
    "        print(' ', end='')\n",
    "\n",
    "    for y in range(1, x) :\n",
    "        print('*', end='')\n",
    "    print('')"
   ]
  },
  {
   "cell_type": "markdown",
   "metadata": {},
   "source": [
    "#### ▶ while문 (조건문이 True인 동안 계속해서 수행문 반복)"
   ]
  },
  {
   "cell_type": "code",
   "execution_count": 1,
   "metadata": {},
   "outputs": [
    {
     "name": "stdout",
     "output_type": "stream",
     "text": [
      "나무를 1번 찍었습니다.\n",
      "나무가 아직 안넘어갔네요.\n",
      "\n",
      "나무를 2번 찍었습니다.\n",
      "나무가 아직 안넘어갔네요.\n",
      "\n",
      "나무를 3번 찍었습니다.\n",
      "나무가 아직 안넘어갔네요.\n",
      "\n",
      "나무를 4번 찍었습니다.\n",
      "나무가 아직 안넘어갔네요.\n",
      "\n",
      "나무를 5번 찍었습니다.\n",
      "나무가 아직 안넘어갔네요.\n",
      "\n",
      "나무를 6번 찍었습니다.\n",
      "나무가 아직 안넘어갔네요.\n",
      "\n",
      "나무를 7번 찍었습니다.\n",
      "나무가 아직 안넘어갔네요.\n",
      "\n",
      "나무를 8번 찍었습니다.\n",
      "나무가 아직 안넘어갔네요.\n",
      "\n",
      "나무를 9번 찍었습니다.\n",
      "나무가 아직 안넘어갔네요.\n",
      "\n",
      "나무를 10번 찍었습니다.\n",
      "나무가 넘어갑니다!!\n",
      "나무찍기 완료!!\n"
     ]
    }
   ],
   "source": [
    "# while문\n",
    "hit = 0\n",
    "\n",
    "while (hit < 100) :\n",
    "    hit += 1      # hit = hit + 1 과 동일\n",
    "\n",
    "    print(f'나무를 {hit}번 찍었습니다.')\n",
    "    if hit == 10 : \n",
    "        print('나무가 넘어갑니다!!')\n",
    "        break\n",
    "    else :\n",
    "        print('나무가 아직 안넘어갔네요.\\n')\n",
    "\n",
    "print('나무찍기 완료!!')"
   ]
  },
  {
   "cell_type": "code",
   "execution_count": 1,
   "metadata": {},
   "outputs": [
    {
     "name": "stdout",
     "output_type": "stream",
     "text": [
      "\n",
      "처리번호를 입력하세요.\n",
      "1. 회원입력\n",
      "2. 회원검색\n",
      "3. 회원수정\n",
      "4. 회원삭제\n",
      "5. 종료\n",
      "번호 입력 : \n",
      "회원정보입력\n",
      "\n",
      "처리번호를 입력하세요.\n",
      "1. 회원입력\n",
      "2. 회원검색\n",
      "3. 회원수정\n",
      "4. 회원삭제\n",
      "5. 종료\n",
      "번호 입력 : \n",
      "회원검색\n",
      "\n",
      "처리번호를 입력하세요.\n",
      "1. 회원입력\n",
      "2. 회원검색\n",
      "3. 회원수정\n",
      "4. 회원삭제\n",
      "5. 종료\n",
      "번호 입력 : \n",
      "회원수정\n",
      "\n",
      "처리번호를 입력하세요.\n",
      "1. 회원입력\n",
      "2. 회원검색\n",
      "3. 회원수정\n",
      "4. 회원삭제\n",
      "5. 종료\n",
      "번호 입력 : \n",
      "회원삭제\n",
      "\n",
      "처리번호를 입력하세요.\n",
      "1. 회원입력\n",
      "2. 회원검색\n",
      "3. 회원수정\n",
      "4. 회원삭제\n",
      "5. 종료\n",
      "번호 입력 : \n",
      "프로그램 종료\n"
     ]
    }
   ],
   "source": [
    "# 무한루프\n",
    "num = 0\n",
    "\n",
    "while True : \n",
    "    print('''\\n처리번호를 입력하세요.\n",
    "1. 회원입력\n",
    "2. 회원검색\n",
    "3. 회원수정\n",
    "4. 회원삭제\n",
    "5. 종료\n",
    "번호 입력 : ''')\n",
    "    num = int(input())    # 키보드로 입력받은 수 num에 할당\n",
    "\n",
    "    if num == 1 :\n",
    "        print('회원정보입력')\n",
    "    elif num == 2 :       # 1은 아니고 2면\n",
    "        print('회원검색')\n",
    "    elif num == 3 :       # 1, 2도 아니고 3이면\n",
    "        print('회원수정')\n",
    "    elif num == 4 :       # 1, 2, 3도 아니고 4면\n",
    "        print('회원삭제')\n",
    "    elif num == 5 :       # 1, 2, 3, 4도 아니고 5라면\n",
    "        print('프로그램 종료')\n",
    "        break\n",
    "    else :\n",
    "        print('잘못 입력했습니다.')\n",
    "        continue"
   ]
  }
 ],
 "metadata": {
  "interpreter": {
   "hash": "38ae1ba9371524da054e8e3fbefd778d16b5a8ac7937a3f395010f627bb73919"
  },
  "kernelspec": {
   "display_name": "Python 3.9.12 64-bit",
   "language": "python",
   "name": "python3"
  },
  "language_info": {
   "codemirror_mode": {
    "name": "ipython",
    "version": 3
   },
   "file_extension": ".py",
   "mimetype": "text/x-python",
   "name": "python",
   "nbconvert_exporter": "python",
   "pygments_lexer": "ipython3",
   "version": "3.9.12"
  },
  "orig_nbformat": 4
 },
 "nbformat": 4,
 "nbformat_minor": 2
}
