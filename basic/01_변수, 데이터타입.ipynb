{
 "cells": [
  {
   "cell_type": "markdown",
   "metadata": {},
   "source": [
    "## 변수, 데이터타입"
   ]
  },
  {
   "cell_type": "markdown",
   "metadata": {},
   "source": [
    "#### ▶ 전역변수, 지역변수"
   ]
  },
  {
   "cell_type": "code",
   "execution_count": 1,
   "metadata": {},
   "outputs": [
    {
     "name": "stdout",
     "output_type": "stream",
     "text": [
      "1\n",
      "1\n",
      "11\n"
     ]
    }
   ],
   "source": [
    "a = 1       # 전역(global)변수\n",
    "print(a)\n",
    "\n",
    "def vartest(x) :    # 지역변수 (x 를 a로 사용해도 무관)\n",
    "    print(x)\n",
    "    x = x + 10\n",
    "    return x\n",
    "\n",
    "# def vartest(a) :    \n",
    "#     print(a)\n",
    "#     a = a + 10\n",
    "#     return a\n",
    "\n",
    "def vartest() : \n",
    "    global a\n",
    "    print(a)\n",
    "    a = a + 10\n",
    "    return a\n",
    "\n",
    "\n",
    "a=vartest()\n",
    "print(a)"
   ]
  },
  {
   "cell_type": "markdown",
   "metadata": {},
   "source": [
    "#### ▶ 데이터타입"
   ]
  },
  {
   "cell_type": "code",
   "execution_count": 1,
   "metadata": {},
   "outputs": [
    {
     "name": "stdout",
     "output_type": "stream",
     "text": [
      "<class 'int'>\n",
      "<class 'float'>\n",
      "<class 'bool'>\n"
     ]
    }
   ],
   "source": [
    "#  데이터타입 확인\n",
    "print(type(1))\n",
    "\n",
    "print(type(3.14))\n",
    "\n",
    "z=False\n",
    "print(type(z))"
   ]
  },
  {
   "cell_type": "markdown",
   "metadata": {},
   "source": [
    "##### ▷ 문자열"
   ]
  },
  {
   "cell_type": "code",
   "execution_count": null,
   "metadata": {},
   "outputs": [],
   "source": [
    "# \\n : 줄바꿈(탈출문자)\n",
    "# \\t : tab\n",
    "from distutils.spawn import spawn\n",
    "\n",
    "\n",
    "bruce_eckel = ' Life is short. \\n You need \\tPython.'\n",
    "print(bruce_eckel)\n",
    "\n",
    "# 여러줄 문자열\n",
    "multi_line = '''Life is short.\n",
    "You need Python.\n",
    "And I need C#, too.\n",
    "'''\n",
    "print(multi_line)"
   ]
  },
  {
   "cell_type": "markdown",
   "metadata": {},
   "source": [
    "##### ▷ 불(bool)형"
   ]
  },
  {
   "cell_type": "code",
   "execution_count": null,
   "metadata": {},
   "outputs": [],
   "source": [
    "print(1 + 1 == 1)\n",
    "print(bool(1))\n",
    "print(bool(0))"
   ]
  },
  {
   "cell_type": "markdown",
   "metadata": {},
   "source": [
    "##### ▷ 리스트(배열)"
   ]
  },
  {
   "cell_type": "code",
   "execution_count": null,
   "metadata": {},
   "outputs": [],
   "source": [
    "b = [1, 2, 3, 4]\n",
    "print(b)\n",
    "\n",
    "# append(값) : 리스트 마지막에 해당 값을 추가\n",
    "b.append(5)\n",
    "print(b)\n",
    "\n",
    "# insert(위치, 값) : 원하는 위치(인덱스)에 값 추가\n",
    "b.insert(3, 10)\n",
    "print(b)\n",
    "\n",
    "b.sort()     # 오름차순 정렬\n",
    "print(b)\n",
    "\n",
    "b.reverse()  # 내림차순 정렬\n",
    "print(b)\n",
    "\n",
    "b.remove(10) # 원소 삭제\n",
    "print(b)\n",
    "\n",
    "print(type(b))\n",
    "\n",
    "print(b[2])"
   ]
  },
  {
   "cell_type": "markdown",
   "metadata": {},
   "source": [
    "##### ▷ 튜플(tuple)"
   ]
  },
  {
   "cell_type": "code",
   "execution_count": null,
   "metadata": {},
   "outputs": [],
   "source": [
    "# c.append(5) : 튜플은 추가, 수정, 삭제가 불가능하므로 에러 발생\n",
    "c = (1, 2, 3, 4)\n",
    "print(c)\n",
    "\n",
    "print(c[2])"
   ]
  },
  {
   "cell_type": "markdown",
   "metadata": {},
   "source": [
    "##### ▷ 딕셔너리 "
   ]
  },
  {
   "cell_type": "code",
   "execution_count": 9,
   "metadata": {},
   "outputs": [
    {
     "name": "stdout",
     "output_type": "stream",
     "text": [
      "{'name': '피터 파커', 'age': 18, 'weapon': '웹슈터', 'memberOfAvengers': True}\n",
      "피터 파커\n"
     ]
    }
   ],
   "source": [
    "# key:value의 쌍\n",
    "spiderman ={'name' : '피터 파커',\n",
    "            'age' : 18,\n",
    "            'weapon' : '웹슈터',\n",
    "            'memberOfAvengers' : True }\n",
    "\n",
    "print(spiderman)\n",
    "print(spiderman['name'])"
   ]
  },
  {
   "cell_type": "markdown",
   "metadata": {},
   "source": [
    "##### 딕셔너리 응용 예제"
   ]
  },
  {
   "cell_type": "code",
   "execution_count": null,
   "metadata": {},
   "outputs": [],
   "source": [
    "\"\"\"\n",
    "[문제]\n",
    "dict_val이라는 딕셔너리 변수에 아래 값을 넣기\n",
    "\n",
    "a키에는 리스트 'aa', 'bb', 'cc' 넣기\n",
    "b키에는 리스트 'a', 'b', 'c' 넣기\n",
    "\n",
    "dict_val에 들어있는 키값에 대한 리스트 출력하기\n",
    "\"\"\""
   ]
  },
  {
   "cell_type": "code",
   "execution_count": null,
   "metadata": {},
   "outputs": [],
   "source": [
    "dict_val = {'a':['aa','bb','cc'], 'b':['a','b','c']}\n",
    "\n",
    "print(dict_val['a'])\n",
    "print(dict_val['b'])"
   ]
  },
  {
   "cell_type": "code",
   "execution_count": null,
   "metadata": {},
   "outputs": [],
   "source": [
    "# for문을 이용해 키값에 대한 리스트 출력\n",
    "for k in dict_val :\n",
    "    print(dict_val[k])"
   ]
  },
  {
   "cell_type": "code",
   "execution_count": null,
   "metadata": {},
   "outputs": [],
   "source": [
    "for k in dict_val :\n",
    "    print(dict_val[k])\n",
    "    for i in range(0,3) :\n",
    "        print(dict_val[k][i])"
   ]
  },
  {
   "cell_type": "code",
   "execution_count": null,
   "metadata": {},
   "outputs": [],
   "source": [
    "## \n",
    "for k in dict_val :\n",
    "    # 키값 가져오기\n",
    "    print(dict_val[k])\n",
    "    list_val = dict_val[k]\n",
    "    \n",
    "    # 리스트의 값을 이용하는 방식\n",
    "    for val in dict_val[k] :\n",
    "        print(val)\n",
    "        \n",
    "    # 리스트의 인덱스 번호를 이용하는 방식\n",
    "    for i in range(0,len(dict_val[k])) :\n",
    "        print(dict_val[k][i])\n",
    "    \n",
    "    # 변수를 이용하는 방식\n",
    "    for val in list_val :\n",
    "        print(val)\n",
    "        \n",
    "    for i in range(0, len(list_val)) :\n",
    "        print(list_val[i])"
   ]
  },
  {
   "cell_type": "markdown",
   "metadata": {},
   "source": [
    "##### 리스트 내 딕셔너리"
   ]
  },
  {
   "cell_type": "code",
   "execution_count": null,
   "metadata": {},
   "outputs": [],
   "source": [
    "\"\"\"\n",
    "[문제]\n",
    "list_val이라는 리스트 변수에 딕셔너리 값을 넣겠습니다.\n",
    "\n",
    "첫번째 리스트에는 a키, 값은 리스트 'aa', 'bb', 'cc' 넣기\n",
    "두번째 리스트에는 b키, 값은 리스트 'a', 'b', 'c' 넣기\n",
    "\"\"\""
   ]
  },
  {
   "cell_type": "code",
   "execution_count": null,
   "metadata": {},
   "outputs": [],
   "source": [
    "# 리스트 안에 바로 만드는 방식\n",
    "list_val = [{'a':['aa','bb','cc']},{'b':['a','b','c']}]\n",
    "list_val\n",
    "\n",
    "# 변수처리 후 만드는 방식\n",
    "dict1 = {'a':['aa','bb','cc']}\n",
    "dict2 = {'b':['a','b','c']}\n",
    "list_val2 = [dict1,dict2]\n",
    "list_val2"
   ]
  },
  {
   "cell_type": "code",
   "execution_count": null,
   "metadata": {},
   "outputs": [],
   "source": [
    "# list_val에 들어있는 딕셔너리의 키에 대응하는 값들을 모두 출력해 주세요.\n",
    "\n",
    "for i in range(0, len(list_val)) :\n",
    "    list_ = list_val[i]\n",
    "    print(list_)\n",
    "    for k in list_:\n",
    "        print(list_[k])\n",
    "        for x in range(0, len(list_[k])):\n",
    "            print(list_[k][x])"
   ]
  },
  {
   "cell_type": "code",
   "execution_count": null,
   "metadata": {},
   "outputs": [],
   "source": [
    "##\n",
    "for d in list_val:\n",
    "    print(d)\n",
    "    \n",
    "    for k in d :\n",
    "        print(d[k])\n",
    "        \n",
    "        for v in d[k]:\n",
    "            print(v)"
   ]
  },
  {
   "cell_type": "code",
   "execution_count": null,
   "metadata": {},
   "outputs": [],
   "source": [
    "# 위에 list_val에 들어있는 딕셔너리의 키에 대응하는 값 중에 \n",
    "# 'b' 라는 단어가 들어 있으면 해당 키에 대응하는 값을\n",
    "# list_temp 라는 리스트변수에 담아 출력해주세요\n",
    "list_temp = []\n",
    "\n",
    "for a in list_val :\n",
    "    print(a)\n",
    "    \n",
    "    for k in a:\n",
    "        print(a[k])\n",
    "        \n",
    "        for b in a[k]:\n",
    "            if 'b' in b :\n",
    "                print(b)\n",
    "                list_temp.append(b)\n",
    "                \n",
    "list_temp"
   ]
  },
  {
   "cell_type": "code",
   "execution_count": null,
   "metadata": {},
   "outputs": [],
   "source": [
    "##\n",
    "list_temp = []\n",
    "\n",
    "for d in list_val:\n",
    "    print(d)\n",
    "    \n",
    "    for k in d :\n",
    "        print(d[k])\n",
    "        \n",
    "        for v in d[k]:\n",
    "            print(v)\n",
    "\n",
    "#             if v[0] == 'b' :\n",
    "#                 list_temp.append(v)\n",
    "\n",
    "#             print(v.find('b') == 0)\n",
    "            if v.find('b') == 0 :\n",
    "                list_temp.append(v)\n",
    "    \n",
    "list_temp"
   ]
  },
  {
   "cell_type": "markdown",
   "metadata": {},
   "source": [
    "- v.find('b') : v에 b라는 값이 있으면 해당 문자열의 인덱스값 도출\n",
    "- -1 : 없는 경우, 그 외는 b가 위치한 인덱스갑 도출"
   ]
  },
  {
   "cell_type": "code",
   "execution_count": null,
   "metadata": {},
   "outputs": [],
   "source": []
  },
  {
   "cell_type": "code",
   "execution_count": null,
   "metadata": {},
   "outputs": [],
   "source": []
  },
  {
   "cell_type": "markdown",
   "metadata": {},
   "source": [
    "##### ▷ 집합"
   ]
  },
  {
   "cell_type": "code",
   "execution_count": 2,
   "metadata": {},
   "outputs": [],
   "source": [
    "# set : 자료 중복 제거로도 활용"
   ]
  }
 ],
 "metadata": {
  "interpreter": {
   "hash": "38ae1ba9371524da054e8e3fbefd778d16b5a8ac7937a3f395010f627bb73919"
  },
  "kernelspec": {
   "display_name": "Python 3.9.12 64-bit",
   "language": "python",
   "name": "python3"
  },
  "language_info": {
   "codemirror_mode": {
    "name": "ipython",
    "version": 3
   },
   "file_extension": ".py",
   "mimetype": "text/x-python",
   "name": "python",
   "nbconvert_exporter": "python",
   "pygments_lexer": "ipython3",
   "version": "3.9.12"
  },
  "orig_nbformat": 4
 },
 "nbformat": 4,
 "nbformat_minor": 2
}
