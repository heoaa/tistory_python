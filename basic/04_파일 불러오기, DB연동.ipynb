{
 "cells": [
  {
   "cell_type": "markdown",
   "metadata": {},
   "source": [
    "## 파일 불러오기, DB 연동"
   ]
  },
  {
   "cell_type": "markdown",
   "metadata": {},
   "source": [
    "#### ▶ 파일 입출력"
   ]
  },
  {
   "cell_type": "markdown",
   "metadata": {},
   "source": [
    "- 쓰기"
   ]
  },
  {
   "cell_type": "code",
   "execution_count": 5,
   "metadata": {},
   "outputs": [
    {
     "name": "stdout",
     "output_type": "stream",
     "text": [
      "파일 생성 완료\n"
     ]
    }
   ],
   "source": [
    "# w : 없으면 생성, 있으면 삭제 후 재생성(새로쓰기)\n",
    "# a : 기존 파일을 열어 추가(추가쓰기)\n",
    "\n",
    "f = open('C:/STUDY/StudyPython_sung/temp.txt', mode='w', encoding='utf-8')\n",
    "\n",
    "f.write('안녕하세요.\\n')\n",
    "f.write('저는 허아현입니다.\\n')\n",
    "f.write('한국사람이죠.\\n')\n",
    "\n",
    "# 필수 (파일, 데이터베이스, 네트워크는 연결 후 반드시 클로징 필요)\n",
    "f.close()     \n",
    "\n",
    "print('파일 생성 완료')"
   ]
  },
  {
   "cell_type": "markdown",
   "metadata": {},
   "source": [
    "- 읽기"
   ]
  },
  {
   "cell_type": "code",
   "execution_count": 4,
   "metadata": {},
   "outputs": [
    {
     "name": "stdout",
     "output_type": "stream",
     "text": [
      "안녕하세요.\n",
      "저는 허아현입니다.\n",
      "한국사람이죠.\n",
      "\n",
      "파일 읽기 완료\n"
     ]
    }
   ],
   "source": [
    "f=open('C:/STUDY/StudyPython_sung/temp.txt', mode='r', encoding='utf-8')\n",
    "\n",
    "# t = f.read()     # 보통 한번에 잘 안불러옴\n",
    "\n",
    "while True :                # 무한루프\n",
    "    line = f.readline()     # 한 줄씩 읽기\n",
    "    if not line : break\n",
    "\n",
    "    print(line, end = '')\n",
    "\n",
    "# print(t)\n",
    "\n",
    "f.close()    # 필수\n",
    "print('\\n파일 읽기 완료')"
   ]
  },
  {
   "cell_type": "markdown",
   "metadata": {},
   "source": [
    "- CSV 파일 읽기"
   ]
  },
  {
   "cell_type": "code",
   "execution_count": null,
   "metadata": {},
   "outputs": [],
   "source": [
    "import csv\n",
    "\n",
    "file_name = 'C:/STUDY/StudyPython_sung/busanbus_220504.csv'\n",
    "\n",
    "# 보통 노트패드에서 utf-8로 변경 후 작업\n",
    "f = open(file_name, mode='r', encoding='utf-8')\n",
    "\n",
    "reader = csv.reader(f, delimiter = ',')     # 구분자가 ,인 경우\n",
    "next(reader)   # 첫 행이 제목줄(헤더)인 경우 읽지않음\n",
    "\n",
    "for line in reader :\n",
    "    print(line)\n",
    "\n",
    "f.close()     ## 필수"
   ]
  },
  {
   "cell_type": "markdown",
   "metadata": {},
   "source": [
    "#### ▶ DB 연동"
   ]
  },
  {
   "cell_type": "markdown",
   "metadata": {},
   "source": [
    "- Oracle"
   ]
  },
  {
   "cell_type": "code",
   "execution_count": null,
   "metadata": {},
   "outputs": [],
   "source": [
    "# 오라클DB 연동\n",
    "import cx_Oracle as ora\n",
    "\n",
    "# 데이터소스 네임 객체 생성(접속주소, 포트번호, 서비스명)\n",
    "dsn = ora.makedsn('localhost', 1521, service_name = 'orcl')\n",
    "# DB연결객체\n",
    "conn = ora.connect(user = 'scott', password = 'tiger', dsn = dsn, encoding = 'UTF-8')\n",
    "\n",
    "# 커서 생성\n",
    "cur = conn.cursor()\n",
    "# 쿼리문 생성 및 작성\n",
    "query = 'SELECT * FROM membertbl'\n",
    "\n",
    "for row in cur.execute(query) :\n",
    "    print(row)\n",
    "\n",
    "# DB 클로징 필수 (네트워크, DB, 파일 연결 후 클로징 필수)\n",
    "cur.close()\n",
    "conn.close()"
   ]
  },
  {
   "cell_type": "markdown",
   "metadata": {},
   "source": [
    "##### ▷ 대표 예제"
   ]
  },
  {
   "cell_type": "code",
   "execution_count": null,
   "metadata": {},
   "outputs": [],
   "source": [
    "# 오라클DB 연동\n",
    "import cx_Oracle as ora\n",
    "\n",
    "# DB 접속함수\n",
    "def myconn() :\n",
    "    # 데이터소스 네임 객체 생성(접속주소, 포트번호, 서비스명)\n",
    "    dsn = ora.makedsn('localhost', 1521, service_name = 'orcl')\n",
    "    # DB연결객체\n",
    "    conn = ora.connect(user = 'scott', password = 'tiger', dsn = dsn, encoding = 'UTF-8')\n",
    "    return conn\n",
    "\n",
    "# 기본 조회(for)\n",
    "def test01(conn) :\n",
    "    cur = conn.cursor()\n",
    "    query = 'SELECT * FROM emp'\n",
    "\n",
    "    for row in cur.execute(query) :\n",
    "        print(row)\n",
    "\n",
    "    cur.close()\n",
    "    conn.close()\n",
    "\n",
    "# 조회(while, fetchone)\n",
    "def test02(conn) :\n",
    "    cur = conn.cursor()\n",
    "    query = 'SELECT * FROM emp'\n",
    "    cur.execute(query)\n",
    "\n",
    "    while True :\n",
    "        row = cur.fetchone()\n",
    "        if row is None : break\n",
    "        print(row)\n",
    "\n",
    "    cur.close()\n",
    "    conn.close()\n",
    "\n",
    "\n",
    "if __name__ == '__main__' :\n",
    "    print('--- SQL 조회 기본 실행 ---')\n",
    "    test01(myconn())\n",
    "    print('--- SQL 조회 fetchone 사용 ---')\n",
    "    test02(myconn())\n"
   ]
  },
  {
   "cell_type": "code",
   "execution_count": null,
   "metadata": {},
   "outputs": [],
   "source": [
    "# DB연동 - INSERT\n",
    "import cx_Oracle as ora\n",
    "\n",
    "def myconn() :\n",
    "    dsn = ora.makedsn('localhost', 1521, service_name = 'orcl')\n",
    "    conn = ora.connect(user = 'scott', password = 'tiger', dsn = dsn, encoding = 'utf-8')\n",
    "    return conn\n",
    "\n",
    "def get_list(conn) :\n",
    "    cur = conn.cursor()\n",
    "    for row in cur.execute('SELECT * FROM divtbl') :\n",
    "        print(row)\n",
    "\n",
    "    cur.close()\n",
    "    conn.close()\n",
    "\n",
    "def set_list(conn, tup) :\n",
    "    cur = conn.cursor()\n",
    "    # query = f\"INSERT INTO divtbl VALUES ('{tup[0]}', '{tup[1]}')\"  # 보안취약\n",
    "    query = f\"INSERT INTO divtbl VALUES (:1, :2)\"  # SQL Inject 보안문제+사용효율성\n",
    "    cur.execute(query)\n",
    "    conn.commit()    # 완전 저장\n",
    "    cur.close()\n",
    "    conn.close()\n",
    "\n",
    "\n",
    "\n",
    "if __name__ == '__main__' :\n",
    "    print('DIVTBL 데이터 조회')\n",
    "    get_list(myconn())\n",
    "    print('DIVTBL 신규 입력')\n",
    "    division, names = input('(divsion, names) 입력 (구분자 \\' \\') > ').split(' ')      # \\' : 작은따옴표를 그대로 표현\n",
    "    tup = (division, names)\n",
    "    set_list(myconn(), tup)\n",
    "\n",
    "print('입력후 DIVTBL 데이터 조회 ')\n",
    "get_list(myconn())\n"
   ]
  }
 ],
 "metadata": {
  "interpreter": {
   "hash": "38ae1ba9371524da054e8e3fbefd778d16b5a8ac7937a3f395010f627bb73919"
  },
  "kernelspec": {
   "display_name": "Python 3.9.12 64-bit",
   "language": "python",
   "name": "python3"
  },
  "language_info": {
   "codemirror_mode": {
    "name": "ipython",
    "version": 3
   },
   "file_extension": ".py",
   "mimetype": "text/x-python",
   "name": "python",
   "nbconvert_exporter": "python",
   "pygments_lexer": "ipython3",
   "version": "3.9.12"
  },
  "orig_nbformat": 4
 },
 "nbformat": 4,
 "nbformat_minor": 2
}
