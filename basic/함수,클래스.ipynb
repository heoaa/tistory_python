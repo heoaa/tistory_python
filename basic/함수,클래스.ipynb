{
 "cells": [
  {
   "cell_type": "code",
   "execution_count": 2,
   "metadata": {},
   "outputs": [
    {
     "name": "stdout",
     "output_type": "stream",
     "text": [
      "안녕하세요\n",
      "안녕하세요\n",
      "안녕하세요\n"
     ]
    }
   ],
   "source": [
    "def print_3_hi() :\n",
    "    print('안녕하세요')\n",
    "    print('안녕하세요')\n",
    "    print('안녕하세요')\n",
    "\n",
    "print_3_hi()"
   ]
  },
  {
   "cell_type": "code",
   "execution_count": 3,
   "metadata": {},
   "outputs": [
    {
     "name": "stdout",
     "output_type": "stream",
     "text": [
      "안녕하세요\n",
      "안녕하세요\n",
      "안녕하세요\n"
     ]
    }
   ],
   "source": [
    "def print_n_hi(value, n) :\n",
    "    for i in range(n) :\n",
    "        print(value)\n",
    "\n",
    "print_n_hi('안녕하세요', 3)"
   ]
  },
  {
   "cell_type": "code",
   "execution_count": 5,
   "metadata": {},
   "outputs": [
    {
     "name": "stdout",
     "output_type": "stream",
     "text": [
      "안녕하세요\n",
      "오늘도\n",
      "파이썬\n",
      "내일도\n",
      "파이썬\n",
      "\n",
      "안녕하세요\n",
      "오늘도\n",
      "파이썬\n",
      "내일도\n",
      "파이썬\n",
      "\n"
     ]
    }
   ],
   "source": [
    "def print_n_value(n, *values) :\n",
    "    for i in range(n) :\n",
    "        for v in values :\n",
    "            print(v)\n",
    "        print()\n",
    "\n",
    "print_n_value(2, '안녕하세요', '오늘도', '파이썬', '내일도', '파이썬')"
   ]
  },
  {
   "cell_type": "code",
   "execution_count": 7,
   "metadata": {},
   "outputs": [],
   "source": [
    "students = [\n",
    "    {'name' : '홍길동', '국어': 87, '수학': 98, '영어': 88, '과학': 95},\n",
    "    {'name' : '김미영', '국어': 92, '수학': 98, '영어': 96, '과학': 98},\n",
    "    {'name' : '김미애', '국어': 76, '수학': 96, '영어': 90, '과학': 91},\n",
    "    {'name' : '이봉철', '국어': 95, '수학': 94, '영어': 92, '과학': 90},\n",
    "    {'name' : '박지연', '국어': 64, '수학': 88, '영어': 92, '과학': 92}\n",
    "]"
   ]
  },
  {
   "cell_type": "code",
   "execution_count": 8,
   "metadata": {},
   "outputs": [
    {
     "name": "stdout",
     "output_type": "stream",
     "text": [
      "홍길동\t368\t92.0\n",
      "김미영\t384\t96.0\n",
      "김미애\t353\t88.25\n",
      "이봉철\t371\t92.75\n",
      "박지연\t336\t84.0\n"
     ]
    }
   ],
   "source": [
    "for st in students :\n",
    "    score_sum = st['국어'] + st['수학'] + st['영어'] + st['과학']\n",
    "    score_avg = score_sum / 4\n",
    "    print(st['name'], score_sum, score_avg, sep='\\t')"
   ]
  },
  {
   "cell_type": "code",
   "execution_count": 9,
   "metadata": {},
   "outputs": [],
   "source": [
    "# 클래스 선언\n",
    "class Student() :\n",
    "    pass\n",
    "\n",
    "# 학생 선언\n",
    "student = Student()\n",
    "\n",
    "# 학생 리스트 선언\n",
    "students = [\n",
    "    Student(),\n",
    "    Student(),\n",
    "    Student(),\n",
    "    Student(),\n",
    "    Student()\n",
    "]"
   ]
  },
  {
   "cell_type": "code",
   "execution_count": 15,
   "metadata": {},
   "outputs": [
    {
     "data": {
      "text/plain": [
       "95"
      ]
     },
     "execution_count": 15,
     "metadata": {},
     "output_type": "execute_result"
    }
   ],
   "source": [
    "# 클래스 선언\n",
    "class Student :\n",
    "    def __init__(self, name, korean, math, english, science) :\n",
    "        self.name = name\n",
    "        self.korean = korean\n",
    "        self.math = math\n",
    "        self.english = english\n",
    "        self.science = science\n",
    "\n",
    "# 학생 리스트 선언\n",
    "students = [\n",
    "    Student('홍길동', 87, 98, 88, 95),\n",
    "    Student('김미영', 92, 98, 96, 98),\n",
    "    Student('김미애', 76, 96, 90, 91),\n",
    "    Student('이봉철', 95, 94, 92, 90),\n",
    "    Student('박지연', 64, 88, 92, 92)\n",
    "]\n",
    "\n",
    "# Student 인스턴스 속성 접근 방법\n",
    "students[0].name\n",
    "students[0].korean\n",
    "students[0].math\n",
    "students[0].english\n",
    "students[0].science"
   ]
  },
  {
   "cell_type": "code",
   "execution_count": 16,
   "metadata": {},
   "outputs": [
    {
     "name": "stdout",
     "output_type": "stream",
     "text": [
      "이름\t총점\t평균\n",
      "홍길동\t368\t92.0\n",
      "김미영\t384\t96.0\n",
      "김미애\t353\t88.25\n",
      "이봉철\t371\t92.75\n",
      "박지연\t336\t84.0\n"
     ]
    }
   ],
   "source": [
    "# 클래스 선언\n",
    "class Student :\n",
    "    def __init__(self, name, korean, math, english, science) :\n",
    "        self.name = name\n",
    "        self.korean = korean\n",
    "        self.math = math\n",
    "        self.english = english\n",
    "        self.science = science\n",
    "\n",
    "    # 메소드 작성\n",
    "    def get_sum(self) :\n",
    "        return self.korean + self.math + self.english + self.science\n",
    "\n",
    "    def get_avg(self) :\n",
    "        return self.get_sum() / 4\n",
    "\n",
    "    def to_string(self) :\n",
    "        return f'{self.name}\\t{self.get_sum()}\\t{self.get_avg()}'\n",
    "\n",
    "# 학생 리스트 선언\n",
    "students = [\n",
    "    Student('홍길동', 87, 98, 88, 95),\n",
    "    Student('김미영', 92, 98, 96, 98),\n",
    "    Student('김미애', 76, 96, 90, 91),\n",
    "    Student('이봉철', 95, 94, 92, 90),\n",
    "    Student('박지연', 64, 88, 92, 92)\n",
    "]\n",
    "\n",
    "print('이름', '총점', '평균', sep = '\\t')\n",
    "for student in students :\n",
    "    print(student.to_string())"
   ]
  }
 ],
 "metadata": {
  "kernelspec": {
   "display_name": "Python 3.10.2 64-bit",
   "language": "python",
   "name": "python3"
  },
  "language_info": {
   "codemirror_mode": {
    "name": "ipython",
    "version": 3
   },
   "file_extension": ".py",
   "mimetype": "text/x-python",
   "name": "python",
   "nbconvert_exporter": "python",
   "pygments_lexer": "ipython3",
   "version": "3.10.2"
  },
  "orig_nbformat": 4,
  "vscode": {
   "interpreter": {
    "hash": "b1eeba3c64f185063800ea5feba97349c10e7593aaecda3065f08845d77a921c"
   }
  }
 },
 "nbformat": 4,
 "nbformat_minor": 2
}
