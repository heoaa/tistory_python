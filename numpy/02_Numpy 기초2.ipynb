{
 "cells": [
  {
   "cell_type": "markdown",
   "id": "b23ca9da",
   "metadata": {},
   "source": [
    "### 배열 인덱싱(리스트 유사)\n",
    "* ndarray[col]\n",
    "* ndarray[row][col]\n",
    "* ndarray[rank][row][col]"
   ]
  },
  {
   "cell_type": "code",
   "execution_count": 8,
   "id": "45ae60da",
   "metadata": {},
   "outputs": [
    {
     "name": "stdout",
     "output_type": "stream",
     "text": [
      "[[[1, 2], [3, 4]], [[5, 6], [7, 8]]]\n",
      "1\n",
      "4\n",
      "7\n"
     ]
    }
   ],
   "source": [
    "list_ = [[[1,2],[3,4]], [[5,6],[7,8]]]\n",
    "print(list_)\n",
    "print(list_[0][0][0])   # 1 가져오기\n",
    "print(list_[0][1][1])   # 4 가져오기\n",
    "print(list_[1][1][0])   # 7 가져오기"
   ]
  },
  {
   "cell_type": "code",
   "execution_count": 9,
   "id": "f589fc39",
   "metadata": {},
   "outputs": [
    {
     "name": "stdout",
     "output_type": "stream",
     "text": [
      "[[[1 2]\n",
      "  [3 4]]\n",
      "\n",
      " [[5 6]\n",
      "  [7 8]]]\n",
      "1\n",
      "4\n",
      "7\n"
     ]
    }
   ],
   "source": [
    "import numpy as np \n",
    "\n",
    "arr_ = np.array([[[1,2],[3,4]], [[5,6],[7,8]]])\n",
    "print(arr_)\n",
    "print(arr_[0][0][0])   # 1 가져오기\n",
    "print(arr_[0][1][1])   # 4 가져오기\n",
    "print(arr_[1][1][0])   # 7 가져오기"
   ]
  },
  {
   "cell_type": "markdown",
   "id": "9904cbed",
   "metadata": {},
   "source": [
    "### 배열 인덱싱(ndarray만 가능)\n",
    "* array[row,col]\n",
    "* array[rank,row,col]"
   ]
  },
  {
   "cell_type": "code",
   "execution_count": 11,
   "id": "50fe142f",
   "metadata": {},
   "outputs": [
    {
     "name": "stdout",
     "output_type": "stream",
     "text": [
      "[[[1 2]\n",
      "  [3 4]]\n",
      "\n",
      " [[5 6]\n",
      "  [7 8]]]\n",
      "1\n",
      "4\n",
      "7\n"
     ]
    }
   ],
   "source": [
    "arr_1 = np.array([[[1,2],[3,4]], [[5,6],[7,8]]])\n",
    "print(arr_1)\n",
    "print(arr_1[0,0,0])   # 1 가져오기\n",
    "print(arr_1[0,1,1])   # 4 가져오기\n",
    "print(arr_1[1,1,0])   # 7 가져오기"
   ]
  },
  {
   "cell_type": "code",
   "execution_count": 15,
   "id": "83341168",
   "metadata": {},
   "outputs": [
    {
     "name": "stdout",
     "output_type": "stream",
     "text": [
      "[[1 2]]\n",
      "[[1 2]\n",
      " [5 6]]\n",
      "[1 4 5]\n",
      "[2 2]\n"
     ]
    }
   ],
   "source": [
    "arr_2 = np.array([[1,2],       # 2*3 형태 (2차원 배열)\n",
    "                  [3,4],\n",
    "                  [5,6]])\n",
    "\n",
    "print(arr_2[[0]])              # 0행 가져와 2차원 배열(대괄호 두개로 가져옴) 만들기   # print(arr_2[[0], :])\n",
    "print(arr_2[[0,2]])            # 0,2행 가져와 2차원 배열 만들기\n",
    "print(arr_2[[0,1,2],[0,1,0]])  # \n",
    "print(arr_2[[0,0],[1,1]])      # 같은 위치 데이터 여러번 사용 가능"
   ]
  },
  {
   "cell_type": "code",
   "execution_count": 16,
   "id": "28ee0b50",
   "metadata": {},
   "outputs": [
    {
     "name": "stdout",
     "output_type": "stream",
     "text": [
      "[ 1  6  7 11]\n"
     ]
    }
   ],
   "source": [
    "arr_3 = np.array([[1,2,3],       # 4*3 형태 (2차원 배열)\n",
    "                  [4,5,6],\n",
    "                  [7,8,9],\n",
    "                  [10,11,12]])\n",
    "\n",
    "# 두개의 1차원 배열 생성\n",
    "b = np.array([0,1,2,3])\n",
    "c = np.array([0,2,0,1])         # row,col / b[],c[] / 0,0 / 1,2 / 2,0 / 3,1\n",
    "\n",
    "print(arr_3[b,c])"
   ]
  },
  {
   "cell_type": "markdown",
   "id": "64517442",
   "metadata": {},
   "source": [
    "### 배열 인덱싱(Boolean 인덱싱)"
   ]
  },
  {
   "cell_type": "code",
   "execution_count": 20,
   "id": "ad5a527d",
   "metadata": {},
   "outputs": [
    {
     "name": "stdout",
     "output_type": "stream",
     "text": [
      "[1 3 4]\n",
      "[3 4 5]\n"
     ]
    }
   ],
   "source": [
    "# 기본 데이터\n",
    "arr = np.array([1,2,3,4,5])\n",
    " \n",
    "print(arr[[True, False, True, True, False]])   # True, False\n",
    "print(arr[arr >= 3])    # 조건"
   ]
  },
  {
   "cell_type": "markdown",
   "id": "7e0a7882",
   "metadata": {},
   "source": [
    "### 연습\n",
    "* 2*6 형태의 2차원 배열 생성 후 각각 0행과 1행에서 90 이상인 숫자를 추출하라"
   ]
  },
  {
   "cell_type": "code",
   "execution_count": 25,
   "id": "8016ab9d",
   "metadata": {},
   "outputs": [
    {
     "name": "stdout",
     "output_type": "stream",
     "text": [
      "[91 93]\n",
      "[96 91]\n"
     ]
    }
   ],
   "source": [
    "score = np.array([[78,91,84,89,93,65],\n",
    "                  [82,87,96,79,91,73]])\n",
    "\n",
    "print(score[0][score[0] >= 90])\n",
    "print(score[1][score[1] >= 90])"
   ]
  }
 ],
 "metadata": {
  "kernelspec": {
   "display_name": "Python 3 (ipykernel)",
   "language": "python",
   "name": "python3"
  },
  "language_info": {
   "codemirror_mode": {
    "name": "ipython",
    "version": 3
   },
   "file_extension": ".py",
   "mimetype": "text/x-python",
   "name": "python",
   "nbconvert_exporter": "python",
   "pygments_lexer": "ipython3",
   "version": "3.9.12"
  }
 },
 "nbformat": 4,
 "nbformat_minor": 5
}
