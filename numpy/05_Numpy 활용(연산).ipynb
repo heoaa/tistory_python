{
 "cells": [
  {
   "cell_type": "markdown",
   "id": "fb12179a",
   "metadata": {},
   "source": [
    "### Sum(합)\n",
    "* ndarray.sum()"
   ]
  },
  {
   "cell_type": "code",
   "execution_count": 1,
   "id": "92967e6f",
   "metadata": {},
   "outputs": [],
   "source": [
    "import numpy as np"
   ]
  },
  {
   "cell_type": "code",
   "execution_count": 2,
   "id": "643dcfe8",
   "metadata": {},
   "outputs": [
    {
     "name": "stdout",
     "output_type": "stream",
     "text": [
      "[[1 2 3]\n",
      " [4 5 6]] \n",
      "\n",
      "21\n"
     ]
    }
   ],
   "source": [
    "matrix = np.arange(1,7).reshape(2,3)\n",
    "print(matrix, '\\n')\n",
    "\n",
    "print(matrix.sum())"
   ]
  },
  {
   "cell_type": "code",
   "execution_count": 4,
   "id": "e4022dc9",
   "metadata": {},
   "outputs": [
    {
     "name": "stdout",
     "output_type": "stream",
     "text": [
      "[[1 2 3]\n",
      " [4 5 6]] \n",
      "\n",
      "[5 7 9]\n",
      "[ 6 15]\n"
     ]
    }
   ],
   "source": [
    "# ndarray.sum(axis = 0 또는 1)\n",
    "print(matrix, '\\n')\n",
    "\n",
    "print(matrix.sum(axis=0))   # 행끼리 더하기(위 아래)\n",
    "print(matrix.sum(axis=1))   # 열끼리 더하기(좌 우)"
   ]
  },
  {
   "cell_type": "code",
   "execution_count": 7,
   "id": "1ef92269",
   "metadata": {
    "scrolled": false
   },
   "outputs": [
    {
     "name": "stdout",
     "output_type": "stream",
     "text": [
      "[[[ 1  2  3]\n",
      "  [ 4  5  6]]\n",
      "\n",
      " [[ 7  8  9]\n",
      "  [10 11 12]]\n",
      "\n",
      " [[13 14 15]\n",
      "  [16 17 18]]] \n",
      "\n",
      "171 \n",
      "\n",
      "[[21 24 27]\n",
      " [30 33 36]] \n",
      "\n",
      "[[ 5  7  9]\n",
      " [17 19 21]\n",
      " [29 31 33]] \n",
      "\n",
      "[[ 6 15]\n",
      " [24 33]\n",
      " [42 51]] \n",
      "\n"
     ]
    }
   ],
   "source": [
    "tensor = np.arange(1,19).reshape(3,2,3)\n",
    "print(tensor,'\\n')\n",
    "\n",
    "print(tensor.sum(),'\\n')        # 3차원 배열 합\n",
    "print(tensor.sum(axis=0),'\\n')  # 차원끼리 더하기\n",
    "print(tensor.sum(axis=1),'\\n')  # 행끼리 더하기(위 아래)\n",
    "print(tensor.sum(axis=2),'\\n')  # 열끼리 더하기(좌 우)"
   ]
  },
  {
   "cell_type": "code",
   "execution_count": 12,
   "id": "20f297e1",
   "metadata": {},
   "outputs": [
    {
     "name": "stdout",
     "output_type": "stream",
     "text": [
      "[[21 24 27]\n",
      " [30 33 36]]\n",
      "[[21 24 27]\n",
      " [30 33 36]]\n"
     ]
    }
   ],
   "source": [
    "# sum()과 배열함수 sum()\n",
    "print(tensor.sum(axis=0))\n",
    "print(np.sum(tensor, axis=0))"
   ]
  },
  {
   "cell_type": "markdown",
   "id": "647e553c",
   "metadata": {},
   "source": [
    "### Mean(평균)\n",
    "* ndarray.mean()"
   ]
  },
  {
   "cell_type": "code",
   "execution_count": 8,
   "id": "58766bc3",
   "metadata": {},
   "outputs": [
    {
     "name": "stdout",
     "output_type": "stream",
     "text": [
      "[[1 2 3]\n",
      " [4 5 6]] \n",
      "\n",
      "3.5\n"
     ]
    }
   ],
   "source": [
    "matrix = np.arange(1,7).reshape(2,3)\n",
    "print(matrix, '\\n')\n",
    "\n",
    "print(matrix.mean())"
   ]
  },
  {
   "cell_type": "code",
   "execution_count": 9,
   "id": "d1de5a9f",
   "metadata": {},
   "outputs": [
    {
     "name": "stdout",
     "output_type": "stream",
     "text": [
      "[[1 2 3]\n",
      " [4 5 6]] \n",
      "\n",
      "[2.5 3.5 4.5]\n",
      "[2. 5.]\n"
     ]
    }
   ],
   "source": [
    "print(matrix, '\\n')\n",
    "\n",
    "print(matrix.mean(axis=0))   # 행끼리 평균(위 아래)\n",
    "print(matrix.mean(axis=1))   # 열끼리 평균(좌 우)"
   ]
  },
  {
   "cell_type": "code",
   "execution_count": 10,
   "id": "9dfc7e22",
   "metadata": {},
   "outputs": [
    {
     "name": "stdout",
     "output_type": "stream",
     "text": [
      "[[[ 1  2  3]\n",
      "  [ 4  5  6]]\n",
      "\n",
      " [[ 7  8  9]\n",
      "  [10 11 12]]\n",
      "\n",
      " [[13 14 15]\n",
      "  [16 17 18]]] \n",
      "\n",
      "9.5 \n",
      "\n",
      "[[ 7.  8.  9.]\n",
      " [10. 11. 12.]] \n",
      "\n",
      "[[ 2.5  3.5  4.5]\n",
      " [ 8.5  9.5 10.5]\n",
      " [14.5 15.5 16.5]] \n",
      "\n",
      "[[ 2.  5.]\n",
      " [ 8. 11.]\n",
      " [14. 17.]] \n",
      "\n"
     ]
    }
   ],
   "source": [
    "tensor = np.arange(1,19).reshape(3,2,3)\n",
    "print(tensor,'\\n')\n",
    "\n",
    "print(tensor.mean(),'\\n')        # 3차원 배열 합\n",
    "print(tensor.mean(axis=0),'\\n')  # 차원끼리 평균\n",
    "print(tensor.mean(axis=1),'\\n')  # 행끼리 평균(위 아래)\n",
    "print(tensor.mean(axis=2),'\\n')  # 열끼리 평균(좌 우)"
   ]
  },
  {
   "cell_type": "markdown",
   "id": "dac5d1c1",
   "metadata": {},
   "source": [
    "### Std(표준편차)\n",
    "* ndarray.std()"
   ]
  },
  {
   "cell_type": "code",
   "execution_count": 13,
   "id": "8b652a32",
   "metadata": {},
   "outputs": [
    {
     "name": "stdout",
     "output_type": "stream",
     "text": [
      "[[1 2 3]\n",
      " [4 5 6]] \n",
      "\n",
      "1.707825127659933\n"
     ]
    }
   ],
   "source": [
    "matrix = np.arange(1,7).reshape(2,3)\n",
    "print(matrix, '\\n')\n",
    "\n",
    "print(matrix.std())"
   ]
  },
  {
   "cell_type": "code",
   "execution_count": 14,
   "id": "971975ff",
   "metadata": {},
   "outputs": [
    {
     "name": "stdout",
     "output_type": "stream",
     "text": [
      "[[1 2 3]\n",
      " [4 5 6]] \n",
      "\n",
      "[1.5 1.5 1.5]\n",
      "[0.81649658 0.81649658]\n"
     ]
    }
   ],
   "source": [
    "print(matrix, '\\n')\n",
    "\n",
    "print(matrix.std(axis=0))   # 행끼리 표준편차(위 아래)\n",
    "print(matrix.std(axis=1))   # 열끼리 표준편차(좌 우)"
   ]
  },
  {
   "cell_type": "code",
   "execution_count": 15,
   "id": "83a2d205",
   "metadata": {},
   "outputs": [],
   "source": [
    "# 3차원의 경우 위와 동일"
   ]
  },
  {
   "cell_type": "markdown",
   "id": "5315c8c7",
   "metadata": {},
   "source": [
    "* Exp(지수) : ndarray.exp(array)\n",
    "* Log(로그) : ndarray.log(array)\n",
    "* Sqrt(제곱근) : ndarray.sqrt(array)"
   ]
  },
  {
   "cell_type": "markdown",
   "id": "36ac6149",
   "metadata": {},
   "source": [
    "### Sort(정렬)\n",
    "* 1차원"
   ]
  },
  {
   "cell_type": "code",
   "execution_count": 18,
   "id": "58bdc64b",
   "metadata": {},
   "outputs": [
    {
     "name": "stdout",
     "output_type": "stream",
     "text": [
      "[ 3 52 63 60 50]\n"
     ]
    }
   ],
   "source": [
    "# randint을 사용하여 1~100 숫자 중 5개를 뽑아 배열 생성(1차원)\n",
    "vector = np.array([np.random.randint(1,100) \n",
    "                   for n in range(5)])       # 아래 참고!! 확인\n",
    "\n",
    "print(vector)"
   ]
  },
  {
   "cell_type": "code",
   "execution_count": 19,
   "id": "7fdc58d6",
   "metadata": {
    "scrolled": true
   },
   "outputs": [
    {
     "name": "stdout",
     "output_type": "stream",
     "text": [
      "[ 3 50 52 60 63]\n",
      "[63 60 52 50  3]\n"
     ]
    }
   ],
   "source": [
    "print(np.sort(vector))        # 오름차순 정렬\n",
    "print(np.sort(vector)[::-1])  # 내림차순 정렬"
   ]
  },
  {
   "cell_type": "markdown",
   "id": "f07e711b",
   "metadata": {},
   "source": [
    "#### 참고!! list 내 for문"
   ]
  },
  {
   "cell_type": "code",
   "execution_count": 26,
   "id": "f4b192ae",
   "metadata": {},
   "outputs": [
    {
     "data": {
      "text/plain": [
       "[0, 1, 2, 3, 4]"
      ]
     },
     "execution_count": 26,
     "metadata": {},
     "output_type": "execute_result"
    }
   ],
   "source": [
    "# 리스트 안의 for문\n",
    "[i for i in range(5)]  # 리스트 안에 i를 넣으려고 하는데 for문에 해당하는 값을 넣음"
   ]
  },
  {
   "cell_type": "code",
   "execution_count": 21,
   "id": "50bd97ed",
   "metadata": {},
   "outputs": [
    {
     "name": "stdout",
     "output_type": "stream",
     "text": [
      "[0, 1, 2, 3, 4]\n"
     ]
    }
   ],
   "source": [
    "a=[]\n",
    "for i in range(5) :\n",
    "    a.append(i)\n",
    "print(a)"
   ]
  },
  {
   "cell_type": "code",
   "execution_count": 23,
   "id": "8367bdd7",
   "metadata": {},
   "outputs": [
    {
     "data": {
      "text/plain": [
       "[3]"
      ]
     },
     "execution_count": 23,
     "metadata": {},
     "output_type": "execute_result"
    }
   ],
   "source": [
    "x=3\n",
    "[x for i in range(5) if x==i]"
   ]
  },
  {
   "cell_type": "code",
   "execution_count": 24,
   "id": "470bba35",
   "metadata": {
    "scrolled": true
   },
   "outputs": [
    {
     "name": "stdout",
     "output_type": "stream",
     "text": [
      "[3, 9, 15, 21, 27]\n"
     ]
    }
   ],
   "source": [
    "list_=[1,2,3,4,5,6,7,8,9,10]\n",
    "list2_=[num * 3                # 리스트에 넣고자 하는 값\n",
    "        for num in list_       # \n",
    "        if num % 2 == 1]       # if 조건에 만족하면 for문\n",
    "\n",
    "print(list2_)"
   ]
  },
  {
   "cell_type": "markdown",
   "id": "d0443232",
   "metadata": {},
   "source": [
    "* 2차원"
   ]
  },
  {
   "cell_type": "code",
   "execution_count": 27,
   "id": "7dd32298",
   "metadata": {},
   "outputs": [
    {
     "name": "stdout",
     "output_type": "stream",
     "text": [
      "[[88 27 55 15 57]\n",
      " [38 30 90 56 52]\n",
      " [26 64 48 52 69]\n",
      " [81 54 97  8 22]]\n"
     ]
    }
   ],
   "source": [
    "# randint을 사용하여 1~100 숫자 중 5개를 뽑아 배열 생성(2차원)\n",
    "matrix = np.array([np.random.randint(1,100) \n",
    "                   for n in range(20)]).reshape(4,5)\n",
    "\n",
    "print(matrix)"
   ]
  },
  {
   "cell_type": "code",
   "execution_count": 30,
   "id": "8a00874c",
   "metadata": {
    "scrolled": false
   },
   "outputs": [
    {
     "name": "stdout",
     "output_type": "stream",
     "text": [
      "[[15 27 55 57 88]\n",
      " [30 38 52 56 90]\n",
      " [26 48 52 64 69]\n",
      " [ 8 22 54 81 97]]\n",
      "[[26 27 48  8 22]\n",
      " [38 30 55 15 52]\n",
      " [81 54 90 52 57]\n",
      " [88 64 97 56 69]]\n"
     ]
    }
   ],
   "source": [
    "print(np.sort(matrix))          # 오름차순(열기준) 정렬\n",
    "print(np.sort(matrix, axis=0))  # 내림차순(행기준) 정렬"
   ]
  },
  {
   "cell_type": "markdown",
   "id": "15c8200c",
   "metadata": {},
   "source": [
    "### Vstack(배열 합치기)\n",
    "* 2개 이상 배열을 수직으로 합체\n",
    "\n",
    "\n",
    "* np.vstack([arr1, arr2])"
   ]
  },
  {
   "cell_type": "code",
   "execution_count": 31,
   "id": "643a9b9f",
   "metadata": {},
   "outputs": [
    {
     "name": "stdout",
     "output_type": "stream",
     "text": [
      "[[1 2 3]\n",
      " [4 5 6]]\n"
     ]
    }
   ],
   "source": [
    "vector1 = np.array([1,2,3])\n",
    "vector2 = np.array([4,5,6])\n",
    "\n",
    "print(np.vstack([vector1, vector2]))"
   ]
  },
  {
   "cell_type": "markdown",
   "id": "818fea6b",
   "metadata": {},
   "source": [
    "### Hstack(배열 합치기)\n",
    "* 2개 이상 배열을 수평으로 합체\n",
    "\n",
    "\n",
    "* np.hstack([arr1, arr2])"
   ]
  },
  {
   "cell_type": "code",
   "execution_count": 33,
   "id": "57c7bb25",
   "metadata": {},
   "outputs": [
    {
     "name": "stdout",
     "output_type": "stream",
     "text": [
      "[1 2 3 4 5 6]\n"
     ]
    }
   ],
   "source": [
    "# 1차원\n",
    "vector1 = np.array([1,2,3])\n",
    "vector2 = np.array([4,5,6])\n",
    "\n",
    "print(np.hstack([vector1, vector2]))"
   ]
  },
  {
   "cell_type": "code",
   "execution_count": 32,
   "id": "cfb08141",
   "metadata": {},
   "outputs": [
    {
     "name": "stdout",
     "output_type": "stream",
     "text": [
      "[[1 4]\n",
      " [2 5]\n",
      " [3 6]]\n"
     ]
    }
   ],
   "source": [
    "# 2차원\n",
    "vector1 = np.array([1,2,3]).reshape(3,1)\n",
    "vector2 = np.array([4,5,6]).reshape(3,1)\n",
    "\n",
    "print(np.hstack([vector1, vector2]))"
   ]
  },
  {
   "cell_type": "markdown",
   "id": "72484127",
   "metadata": {},
   "source": [
    "### Concatenate(배열 합치기)\n",
    "* 2개 이상의 배열을 수직, 수평으로 합체\n",
    "\n",
    "\n",
    "* np.concatenate(arr1, arr2, axis)"
   ]
  },
  {
   "cell_type": "code",
   "execution_count": 41,
   "id": "89d5019d",
   "metadata": {},
   "outputs": [
    {
     "name": "stdout",
     "output_type": "stream",
     "text": [
      "[1 2 3 4 5 6]\n"
     ]
    }
   ],
   "source": [
    "vector1 = np.array([1,2,3])\n",
    "vector2 = np.array([4,5,6])\n",
    "\n",
    "print(np.concatenate([vector1, vector2], axis=0))   # 1차원 벡터는 축이 1개임"
   ]
  },
  {
   "cell_type": "code",
   "execution_count": 47,
   "id": "f8819996",
   "metadata": {},
   "outputs": [
    {
     "name": "stdout",
     "output_type": "stream",
     "text": [
      "[[1 2 3]\n",
      " [4 5 6]]\n",
      "[[1 2 3 4 5 6]]\n"
     ]
    }
   ],
   "source": [
    "matrix1 = np.array([[1,2,3]])\n",
    "matrix2 = np.array([[4,5,6]])\n",
    "\n",
    "print(np.concatenate([matrix1, matrix2], axis=0))\n",
    "print(np.concatenate([matrix1, matrix2], axis=1))   # 2차원"
   ]
  },
  {
   "cell_type": "code",
   "execution_count": 45,
   "id": "d7340638",
   "metadata": {},
   "outputs": [
    {
     "name": "stdout",
     "output_type": "stream",
     "text": [
      "[[1 4]\n",
      " [2 5]\n",
      " [3 6]]\n"
     ]
    }
   ],
   "source": [
    "vector1 = np.array([1,2,3]).reshape(3,1)\n",
    "vector2 = np.array([4,5,6]).reshape(3,1)\n",
    "\n",
    "print(np.concatenate([vector1, vector2], axis=1))"
   ]
  },
  {
   "cell_type": "code",
   "execution_count": 57,
   "id": "0ed550ad",
   "metadata": {
    "scrolled": false
   },
   "outputs": [
    {
     "name": "stdout",
     "output_type": "stream",
     "text": [
      "[[1 2]\n",
      " [3 1]\n",
      " [2 3]]\n",
      "[[4]\n",
      " [5]\n",
      " [6]] \n",
      "\n",
      "[[1 2 4]\n",
      " [3 1 5]\n",
      " [2 3 6]]\n"
     ]
    }
   ],
   "source": [
    "matrix1 = np.array([[1,2,3],[1,2,3]]).reshape(3,2)\n",
    "vector2 = np.array([4,5,6]).reshape(3,1)\n",
    "print(matrix1)\n",
    "print(vector2,'\\n')\n",
    "\n",
    "# print(np.concatenate([matrix1, vector2], axis=0))  # 에러\n",
    "print(np.concatenate([matrix1, vector2], axis=1))"
   ]
  },
  {
   "cell_type": "code",
   "execution_count": 56,
   "id": "7580a9a0",
   "metadata": {},
   "outputs": [
    {
     "name": "stdout",
     "output_type": "stream",
     "text": [
      "[[1 2]\n",
      " [3 4]]\n",
      "[[5 6]\n",
      " [7 8]] \n",
      "\n",
      "[[1 2]\n",
      " [3 4]\n",
      " [5 6]\n",
      " [7 8]]\n",
      "[[1 2 5 6]\n",
      " [3 4 7 8]]\n"
     ]
    }
   ],
   "source": [
    "matrix1 = np.arange(1,5).reshape(2,2)\n",
    "matrix2 = np.arange(5,9).reshape(2,2)\n",
    "print(matrix1)\n",
    "print(matrix2,'\\n')\n",
    "\n",
    "print(np.concatenate([matrix1, matrix2], axis=0))\n",
    "print(np.concatenate([matrix1, matrix2], axis=1))"
   ]
  },
  {
   "cell_type": "markdown",
   "id": "03f81793",
   "metadata": {},
   "source": [
    "### Transpose(행, 열 바꾸기)\n",
    "* ndarray.transpose()\n",
    "* ndarray.T"
   ]
  },
  {
   "cell_type": "code",
   "execution_count": 63,
   "id": "149cbda2",
   "metadata": {},
   "outputs": [
    {
     "name": "stdout",
     "output_type": "stream",
     "text": [
      "[[5 6]] \n",
      "\n",
      "[[5]\n",
      " [6]]\n",
      "[[5]\n",
      " [6]]\n",
      "\n",
      " (1, 2) (2, 1)\n"
     ]
    }
   ],
   "source": [
    "matrix3=np.array([[5,6]])\n",
    "print(matrix3, '\\n')\n",
    "\n",
    "print(matrix3.transpose())\n",
    "print(matrix3.T)\n",
    "\n",
    "print('\\n', matrix3.shape, matrix3.transpose().shape)   # 행, 열 변환 확인"
   ]
  },
  {
   "cell_type": "markdown",
   "id": "b8e48b3a",
   "metadata": {},
   "source": [
    "### Transpose + Concatenate\n",
    "* 형태를 바꿔 서로 결합할 수 없는 배열을 합침"
   ]
  },
  {
   "cell_type": "markdown",
   "id": "7b6e0f69",
   "metadata": {},
   "source": [
    "### 인덱스 반환 함수\n",
    "* 최대값, 최소값의 인덱스"
   ]
  },
  {
   "cell_type": "code",
   "execution_count": 66,
   "id": "93258c45",
   "metadata": {},
   "outputs": [
    {
     "name": "stdout",
     "output_type": "stream",
     "text": [
      "[[ 1  2  3  4  5]\n",
      " [ 6  7  8  9 10]]\n",
      "9 0\n",
      "[1 1 1 1 1]\n"
     ]
    }
   ],
   "source": [
    "a = np.arange(1,11).reshape(2,5)\n",
    "print(a)\n",
    "\n",
    "print(np.argmax(a), np.argmin(a))\n",
    "print(np.argmax(a, axis=0))"
   ]
  },
  {
   "cell_type": "markdown",
   "id": "049bdcce",
   "metadata": {},
   "source": [
    "### Fancy index (배열 인덱싱)\n",
    "* 인덱싱 값을 가지는 배열로 인덱싱"
   ]
  },
  {
   "cell_type": "code",
   "execution_count": null,
   "id": "170704a3",
   "metadata": {},
   "outputs": [],
   "source": []
  },
  {
   "cell_type": "markdown",
   "id": "0ee361f7",
   "metadata": {},
   "source": [
    "#### 인덱스 반환 함수 + Fancy index"
   ]
  },
  {
   "cell_type": "code",
   "execution_count": 69,
   "id": "76149ba7",
   "metadata": {},
   "outputs": [
    {
     "name": "stdout",
     "output_type": "stream",
     "text": [
      "[10 11 12 13 14 15 16 17 18 19]\n",
      "9\n",
      "19\n"
     ]
    }
   ],
   "source": [
    "a=np.arange(10,20)\n",
    "b=np.argmax(a)\n",
    "print(a)\n",
    "print(b)\n",
    "\n",
    "print(a[b])"
   ]
  }
 ],
 "metadata": {
  "kernelspec": {
   "display_name": "Python 3 (ipykernel)",
   "language": "python",
   "name": "python3"
  },
  "language_info": {
   "codemirror_mode": {
    "name": "ipython",
    "version": 3
   },
   "file_extension": ".py",
   "mimetype": "text/x-python",
   "name": "python",
   "nbconvert_exporter": "python",
   "pygments_lexer": "ipython3",
   "version": "3.9.12"
  }
 },
 "nbformat": 4,
 "nbformat_minor": 5
}
