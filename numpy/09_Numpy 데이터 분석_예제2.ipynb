{
 "cells": [
  {
   "cell_type": "markdown",
   "id": "9741b48b",
   "metadata": {},
   "source": [
    "### 예제 2"
   ]
  },
  {
   "cell_type": "code",
   "execution_count": 1,
   "id": "04a777f9",
   "metadata": {},
   "outputs": [],
   "source": [
    "import numpy as np"
   ]
  },
  {
   "cell_type": "code",
   "execution_count": 39,
   "id": "e4060a68",
   "metadata": {},
   "outputs": [
    {
     "name": "stdout",
     "output_type": "stream",
     "text": [
      "[[ 2.014e+03  1.000e+00  2.180e+02  4.800e+00 -9.000e+00 -4.000e+00]\n",
      " [ 2.014e+03  2.000e+00  8.720e+02  1.900e+01 -4.500e+01 -4.900e+00]\n",
      " [ 2.014e+03  3.000e+00  4.010e+02  8.700e+00 -4.500e+01 -1.010e+01]\n",
      " [ 2.014e+03  4.000e+00  4.640e+02  1.010e+01 -4.100e+01 -8.100e+00]\n",
      " [ 2.014e+03  5.000e+00  9.900e+01  2.200e+00 -5.000e+00 -4.800e+00]\n",
      " [ 2.014e+03  6.000e+00  1.820e+02  4.000e+00  1.900e+01  1.170e+01]\n",
      " [ 2.014e+03  7.000e+00  9.900e+01  2.200e+00  8.000e+00  8.800e+00]\n",
      " [ 2.014e+03  8.000e+00  1.630e+02  3.600e+00 -4.700e+01 -2.240e+01]\n",
      " [ 2.014e+03  9.000e+00  3.860e+02  8.400e+00  1.400e+01  3.800e+00]\n",
      " [ 2.014e+03  1.000e+01  2.000e+01  4.000e-01  0.000e+00  0.000e+00]\n",
      " [ 2.014e+03  1.100e+01  1.030e+02  2.200e+00 -1.600e+01 -1.340e+01]\n",
      " [ 2.014e+03  1.200e+01  1.440e+02  3.100e+00 -6.000e+00 -4.000e+00]\n",
      " [ 2.014e+03  1.300e+01  4.000e+02  8.700e+00 -3.500e+01 -8.000e+00]\n",
      " [ 2.014e+03  1.400e+01  3.170e+02  6.900e+00 -3.500e+01 -9.900e+00]\n",
      " [ 2.014e+03  1.500e+01  8.600e+01  1.900e+00 -1.400e+01 -1.400e+01]\n",
      " [ 2.014e+03  1.600e+01  3.870e+02  8.400e+00 -5.000e+00 -1.300e+00]\n",
      " [ 2.014e+03  1.700e+01  2.420e+02  5.300e+00 -3.100e+01 -1.140e+01]]\n"
     ]
    }
   ],
   "source": [
    "data2 = np.loadtxt('C:\\STUDY\\StudyPython_kim/day3/ex2_전년대비_시도별_교통사망사고.csv', delimiter = ',', dtype = float)\n",
    "print(data2)\n",
    "# 발생년도, 구분, 발생건수, 구성비(%), 증감수, 증감률"
   ]
  },
  {
   "cell_type": "markdown",
   "id": "b25b85dc",
   "metadata": {},
   "source": [
    "* [문제1] 위 파일을 읽어보고 상위 3개의 (발생년도, 발생건수, 구성비)의 데이터를 추출해 봅시다."
   ]
  },
  {
   "cell_type": "code",
   "execution_count": 40,
   "id": "8cb79a93",
   "metadata": {},
   "outputs": [
    {
     "name": "stdout",
     "output_type": "stream",
     "text": [
      "[[2014.   218.     4.8]\n",
      " [2014.   872.    19. ]\n",
      " [2014.   401.     8.7]]\n"
     ]
    }
   ],
   "source": [
    "print(data2[:3,(0,2,3)])   # (0,2,3) 또는 [0,2,3] 둘 다 가능"
   ]
  },
  {
   "cell_type": "markdown",
   "id": "049f4394",
   "metadata": {},
   "source": [
    "* [문제2] 위 데이터에서 부산에서 발생한 교통사망사고 모든 현황을 추출해 봅시다."
   ]
  },
  {
   "cell_type": "code",
   "execution_count": 41,
   "id": "34d30f4e",
   "metadata": {},
   "outputs": [
    {
     "name": "stdout",
     "output_type": "stream",
     "text": [
      "[2014.     8.   163.     3.6  -47.   -22.4]\n"
     ]
    }
   ],
   "source": [
    "# 8 : 부산\n",
    "print(data2[7,:])"
   ]
  },
  {
   "cell_type": "code",
   "execution_count": 48,
   "id": "c24fd3b5",
   "metadata": {},
   "outputs": [
    {
     "name": "stdout",
     "output_type": "stream",
     "text": [
      "[[2014.     8.   163.     3.6  -47.   -22.4]]\n"
     ]
    }
   ],
   "source": [
    "print(data2[data2[:,1] == 8])"
   ]
  },
  {
   "cell_type": "markdown",
   "id": "a844e577",
   "metadata": {},
   "source": [
    "* [문제3] 위 데이터에서 전국 사고 발생건수의 합계와 전국 평균을 계산해 봅시다."
   ]
  },
  {
   "cell_type": "code",
   "execution_count": 42,
   "id": "48e9ed18",
   "metadata": {},
   "outputs": [
    {
     "name": "stdout",
     "output_type": "stream",
     "text": [
      "전국 사고 발생건수 합계 :  4583.0\n",
      "전국 사고 발생건수 평균 :  269.59\n"
     ]
    }
   ],
   "source": [
    "print('전국 사고 발생건수 합계 : ', np.sum(data2[:,2]))\n",
    "print('전국 사고 발생건수 평균 : ', round(np.mean(data2[:,2]),2))"
   ]
  },
  {
   "cell_type": "markdown",
   "id": "8f06c471",
   "metadata": {},
   "source": [
    "* [문제4] 위 데이터에서 교통사고 증감수가 가장 큰 지역의 모든 현황을 추출해 봅시다."
   ]
  },
  {
   "cell_type": "code",
   "execution_count": 43,
   "id": "d125da56",
   "metadata": {},
   "outputs": [
    {
     "name": "stdout",
     "output_type": "stream",
     "text": [
      "[2014.     6.   182.     4.    19.    11.7]\n"
     ]
    }
   ],
   "source": [
    "print(data2[np.argmax(data2[:,4]),:])"
   ]
  },
  {
   "cell_type": "code",
   "execution_count": 50,
   "id": "b78e61fd",
   "metadata": {},
   "outputs": [
    {
     "name": "stdout",
     "output_type": "stream",
     "text": [
      "[[2014.     6.   182.     4.    19.    11.7]]\n"
     ]
    }
   ],
   "source": [
    "print(data2[data2[:,4] == max(data2[:,4])])"
   ]
  },
  {
   "cell_type": "markdown",
   "id": "355026c1",
   "metadata": {},
   "source": [
    "* [문제5] 위 데이터에서 교통사고 증감률이 가장 작은 지역의 모든 현황을 추출해 봅시다."
   ]
  },
  {
   "cell_type": "code",
   "execution_count": 44,
   "id": "4fcadd4b",
   "metadata": {},
   "outputs": [
    {
     "name": "stdout",
     "output_type": "stream",
     "text": [
      "[2014.     8.   163.     3.6  -47.   -22.4]\n"
     ]
    }
   ],
   "source": [
    "print(data2[np.argmin(data2[:,5]),:])"
   ]
  },
  {
   "cell_type": "code",
   "execution_count": 51,
   "id": "f6823fab",
   "metadata": {},
   "outputs": [
    {
     "name": "stdout",
     "output_type": "stream",
     "text": [
      "[[2014.     8.   163.     3.6  -47.   -22.4]]\n"
     ]
    }
   ],
   "source": [
    "print(data2[data2[:,5] == min(data2[:,5])])"
   ]
  },
  {
   "cell_type": "markdown",
   "id": "ef1c6516",
   "metadata": {},
   "source": [
    "* [문제6] 위 데이터에서 사고 발생 건수가 400건 이상인 곳의 지역과 교통사고 발생건수, 증감수, 증감률을 추출해 봅시다."
   ]
  },
  {
   "cell_type": "code",
   "execution_count": 45,
   "id": "48e8ba79",
   "metadata": {
    "scrolled": true
   },
   "outputs": [
    {
     "name": "stdout",
     "output_type": "stream",
     "text": [
      "[[  2.  872.  -45.   -4.9]\n",
      " [  3.  401.  -45.  -10.1]\n",
      " [  4.  464.  -41.   -8.1]\n",
      " [ 13.  400.  -35.   -8. ]]\n"
     ]
    }
   ],
   "source": [
    "print(data2[data2[:,2] >= 400,:][:,(1,2,4,5)])"
   ]
  }
 ],
 "metadata": {
  "kernelspec": {
   "display_name": "Python 3 (ipykernel)",
   "language": "python",
   "name": "python3"
  },
  "language_info": {
   "codemirror_mode": {
    "name": "ipython",
    "version": 3
   },
   "file_extension": ".py",
   "mimetype": "text/x-python",
   "name": "python",
   "nbconvert_exporter": "python",
   "pygments_lexer": "ipython3",
   "version": "3.9.12"
  }
 },
 "nbformat": 4,
 "nbformat_minor": 5
}
