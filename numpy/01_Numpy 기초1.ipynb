{
 "cells": [
  {
   "cell_type": "markdown",
   "id": "0055a515",
   "metadata": {},
   "source": [
    "# 01_Numpy 기초"
   ]
  },
  {
   "cell_type": "markdown",
   "id": "64de66d4",
   "metadata": {},
   "source": [
    "###  Numpy란?\n",
    "* Array(배열) 구조로 고성능 다차원 배열 객체와 연산 등의 기능 제공"
   ]
  },
  {
   "cell_type": "code",
   "execution_count": 2,
   "id": "030f84e5",
   "metadata": {},
   "outputs": [],
   "source": [
    "import numpy as np"
   ]
  },
  {
   "cell_type": "code",
   "execution_count": 5,
   "id": "a76e6eb6",
   "metadata": {},
   "outputs": [
    {
     "data": {
      "text/plain": [
       "array(1)"
      ]
     },
     "execution_count": 5,
     "metadata": {},
     "output_type": "execute_result"
    }
   ],
   "source": [
    "a = np.array(1)\n",
    "a"
   ]
  },
  {
   "cell_type": "markdown",
   "id": "8bed50fc",
   "metadata": {},
   "source": [
    "### 배열 생성\n",
    "* 한가지 자료형으로만 생성 가능"
   ]
  },
  {
   "cell_type": "code",
   "execution_count": 7,
   "id": "ae0702a0",
   "metadata": {},
   "outputs": [
    {
     "name": "stdout",
     "output_type": "stream",
     "text": [
      "[1 2 3]\n"
     ]
    }
   ],
   "source": [
    "ndarr_1 = np.array([1,2,3])    # list와 달리 ',' 아닌 공백 구분자\n",
    "print(ndarr_1)"
   ]
  },
  {
   "cell_type": "code",
   "execution_count": 8,
   "id": "d3b02d2f",
   "metadata": {},
   "outputs": [
    {
     "name": "stdout",
     "output_type": "stream",
     "text": [
      "[1. 2. 3.]\n"
     ]
    }
   ],
   "source": [
    "ndarr_2 = np.array([1,2.0,3])   # float 형식\n",
    "print(ndarr_2)"
   ]
  },
  {
   "cell_type": "code",
   "execution_count": 9,
   "id": "e9dd9c33",
   "metadata": {
    "scrolled": false
   },
   "outputs": [
    {
     "name": "stdout",
     "output_type": "stream",
     "text": [
      "['1' '2.0' '3']\n"
     ]
    }
   ],
   "source": [
    "ndarr_3 = np.array([1,2.0,'3'])   # 문자 형식\n",
    "print(ndarr_3)"
   ]
  },
  {
   "cell_type": "markdown",
   "id": "25ceb28b",
   "metadata": {},
   "source": [
    "### 배열의 자료형 확인\n",
    "* 자료형 확인 속성 : ndarray.dtype"
   ]
  },
  {
   "cell_type": "code",
   "execution_count": 10,
   "id": "20139777",
   "metadata": {
    "scrolled": true
   },
   "outputs": [
    {
     "name": "stdout",
     "output_type": "stream",
     "text": [
      "int32\n",
      "float64\n",
      "<U32\n"
     ]
    }
   ],
   "source": [
    "print(ndarr_1.dtype)\n",
    "print(ndarr_2.dtype)\n",
    "print(ndarr_3.dtype)"
   ]
  },
  {
   "cell_type": "code",
   "execution_count": 12,
   "id": "4819c5e2",
   "metadata": {},
   "outputs": [
    {
     "name": "stdout",
     "output_type": "stream",
     "text": [
      "complex128\n",
      "object\n"
     ]
    }
   ],
   "source": [
    "print(np.array(1+2j).dtype)  # 허수 > complex 복소수\n",
    "print(np.array(print).dtype)"
   ]
  },
  {
   "cell_type": "markdown",
   "id": "81f36260",
   "metadata": {},
   "source": [
    "* 자료형 지정"
   ]
  },
  {
   "cell_type": "code",
   "execution_count": 14,
   "id": "86d2ef2e",
   "metadata": {
    "scrolled": true
   },
   "outputs": [
    {
     "name": "stdout",
     "output_type": "stream",
     "text": [
      "int8\n"
     ]
    }
   ],
   "source": [
    "dtype1 = np.array([1,2,3], dtype = np.int8)   # 8byte int형\n",
    "print(dtype1.dtype)  # 자료형 확인"
   ]
  },
  {
   "cell_type": "code",
   "execution_count": 15,
   "id": "085424a7",
   "metadata": {},
   "outputs": [
    {
     "name": "stdout",
     "output_type": "stream",
     "text": [
      "float64\n"
     ]
    }
   ],
   "source": [
    "dtype2 = np.array([1,2,3], dtype = float)\n",
    "print(dtype2.dtype)"
   ]
  },
  {
   "cell_type": "code",
   "execution_count": 16,
   "id": "deee7ebc",
   "metadata": {},
   "outputs": [
    {
     "name": "stdout",
     "output_type": "stream",
     "text": [
      "<U1\n"
     ]
    }
   ],
   "source": [
    "dtype3 = np.array([1,2,3], dtype = str)\n",
    "print(dtype3.dtype)"
   ]
  },
  {
   "cell_type": "markdown",
   "id": "987f8d1d",
   "metadata": {},
   "source": [
    "* 주의해야 할 점"
   ]
  },
  {
   "cell_type": "code",
   "execution_count": 20,
   "id": "393e13a5",
   "metadata": {
    "scrolled": true
   },
   "outputs": [
    {
     "name": "stdout",
     "output_type": "stream",
     "text": [
      "[1 2 3]\n",
      "int32\n"
     ]
    }
   ],
   "source": [
    "dtype4 = np.array([1,2.1,'3'], dtype = int)     # 형식을 바꿔줄 수 있는 형태의 경우 변경 가능\n",
    "print(dtype4)\n",
    "print(dtype4.dtype)"
   ]
  },
  {
   "cell_type": "code",
   "execution_count": 22,
   "id": "84030648",
   "metadata": {},
   "outputs": [
    {
     "ename": "ValueError",
     "evalue": "could not convert string to float: 'data'",
     "output_type": "error",
     "traceback": [
      "\u001b[1;31m---------------------------------------------------------------------------\u001b[0m",
      "\u001b[1;31mValueError\u001b[0m                                Traceback (most recent call last)",
      "Input \u001b[1;32mIn [22]\u001b[0m, in \u001b[0;36m<cell line: 1>\u001b[1;34m()\u001b[0m\n\u001b[1;32m----> 1\u001b[0m dtype5 \u001b[38;5;241m=\u001b[39m \u001b[43mnp\u001b[49m\u001b[38;5;241;43m.\u001b[39;49m\u001b[43marray\u001b[49m\u001b[43m(\u001b[49m\u001b[43m[\u001b[49m\u001b[38;5;241;43m1\u001b[39;49m\u001b[43m,\u001b[49m\u001b[38;5;124;43m'\u001b[39;49m\u001b[38;5;124;43mdata\u001b[39;49m\u001b[38;5;124;43m'\u001b[39;49m\u001b[43m,\u001b[49m\u001b[38;5;28;43mprint\u001b[39;49m\u001b[43m]\u001b[49m\u001b[43m,\u001b[49m\u001b[43m \u001b[49m\u001b[43mdtype\u001b[49m\u001b[43m \u001b[49m\u001b[38;5;241;43m=\u001b[39;49m\u001b[43m \u001b[49m\u001b[38;5;28;43mfloat\u001b[39;49m\u001b[43m)\u001b[49m\n\u001b[0;32m      2\u001b[0m \u001b[38;5;28mprint\u001b[39m(dtype5\u001b[38;5;241m.\u001b[39mdtype)\n",
      "\u001b[1;31mValueError\u001b[0m: could not convert string to float: 'data'"
     ]
    }
   ],
   "source": [
    "dtype5 = np.array([1,'data',print], dtype = float)    # 숫자문자가 아닌 문자열이 있는 경우 형태 변환 불가능(Error)\n",
    "print(dtype5.dtype)"
   ]
  },
  {
   "cell_type": "markdown",
   "id": "5218ec9b",
   "metadata": {},
   "source": [
    "### 배열의 정보 확인\n",
    "* 배열 크기 확인 : ndarray.shape"
   ]
  },
  {
   "cell_type": "code",
   "execution_count": 23,
   "id": "e6237c28",
   "metadata": {},
   "outputs": [
    {
     "name": "stdout",
     "output_type": "stream",
     "text": [
      "(3,)\n"
     ]
    }
   ],
   "source": [
    "print(ndarr_1.shape)"
   ]
  },
  {
   "cell_type": "markdown",
   "id": "e0b000ba",
   "metadata": {},
   "source": [
    "* 배열 차원 확인 : ndarray.ndim"
   ]
  },
  {
   "cell_type": "code",
   "execution_count": 24,
   "id": "9681d91d",
   "metadata": {},
   "outputs": [
    {
     "name": "stdout",
     "output_type": "stream",
     "text": [
      "1\n"
     ]
    }
   ],
   "source": [
    "print(ndarr_1.ndim)"
   ]
  },
  {
   "cell_type": "markdown",
   "id": "8746988f",
   "metadata": {},
   "source": [
    "### N차원 배열\n",
    "- Scalar : 숫자\n",
    "- Vector : 스칼라의 배열(1차원)\n",
    "- Matrix : 벡터의 배열(2차원)\n",
    "- Tensor : 매트릭스의 배열(3차원 이상)"
   ]
  },
  {
   "cell_type": "markdown",
   "id": "9ed0be28",
   "metadata": {},
   "source": [
    "### 1차원 배열"
   ]
  },
  {
   "cell_type": "code",
   "execution_count": 26,
   "id": "a501c2fe",
   "metadata": {},
   "outputs": [
    {
     "name": "stdout",
     "output_type": "stream",
     "text": [
      "[1 2 3]\n",
      "(3,)\n",
      "1\n",
      "int32\n"
     ]
    }
   ],
   "source": [
    "# 배열 생성\n",
    "vector = np.array([1,2,3])\n",
    "print(vector)\n",
    "print(vector.shape)  # 크기\n",
    "print(vector.ndim)   # 차원\n",
    "print(vector.dtype)  # 자료형"
   ]
  },
  {
   "cell_type": "markdown",
   "id": "88d58801",
   "metadata": {},
   "source": [
    "### 2차원 배열"
   ]
  },
  {
   "cell_type": "code",
   "execution_count": 30,
   "id": "9c58d794",
   "metadata": {},
   "outputs": [
    {
     "name": "stdout",
     "output_type": "stream",
     "text": [
      "[[1 2 3]\n",
      " [4 5 6]]\n",
      "(2, 3)\n",
      "2\n",
      "int32\n"
     ]
    }
   ],
   "source": [
    "# 배열 생성\n",
    "matrix = np.array([ [1,2,3],[4,5,6] ])\n",
    "print(matrix)\n",
    "print(matrix.shape)\n",
    "print(matrix.ndim)\n",
    "print(matrix.dtype)"
   ]
  },
  {
   "cell_type": "markdown",
   "id": "d74c5a34",
   "metadata": {},
   "source": [
    "### 3차원 배열"
   ]
  },
  {
   "cell_type": "code",
   "execution_count": 29,
   "id": "caadc84c",
   "metadata": {},
   "outputs": [
    {
     "name": "stdout",
     "output_type": "stream",
     "text": [
      "[[[ 1  2  3]\n",
      "  [ 4  5  6]]\n",
      "\n",
      " [[ 7  8  9]\n",
      "  [10 11 12]]]\n",
      "(2, 2, 3)\n",
      "3\n",
      "int32\n"
     ]
    }
   ],
   "source": [
    "# 배열 생성\n",
    "tensor = np.array([ [ [1,2,3],[4,5,6] ],[ [7,8,9],[10,11,12] ] ])\n",
    "print(tensor)\n",
    "print(tensor.shape)\n",
    "print(tensor.ndim)\n",
    "print(tensor.dtype)"
   ]
  },
  {
   "cell_type": "markdown",
   "id": "0214e65c",
   "metadata": {},
   "source": [
    "* 배열 요소의 개수(크기) 확인 : ndarray.size"
   ]
  },
  {
   "cell_type": "code",
   "execution_count": 31,
   "id": "b4f179ea",
   "metadata": {},
   "outputs": [
    {
     "name": "stdout",
     "output_type": "stream",
     "text": [
      "3\n",
      "6\n",
      "12\n"
     ]
    }
   ],
   "source": [
    "print(vector.size)\n",
    "print(matrix.size)\n",
    "print(tensor.size)"
   ]
  },
  {
   "cell_type": "markdown",
   "id": "9eb224be",
   "metadata": {},
   "source": [
    "### 연습"
   ]
  },
  {
   "cell_type": "code",
   "execution_count": 36,
   "id": "c2790d2d",
   "metadata": {},
   "outputs": [
    {
     "name": "stdout",
     "output_type": "stream",
     "text": [
      "[[1 2 3]\n",
      " [2 4 6]\n",
      " [3 6 9]]\n",
      "2\n",
      "9\n",
      "(3, 3)\n"
     ]
    }
   ],
   "source": [
    "a = np.array([[1,2,3],[2,4,6],[3,6,9]])\n",
    "print(a)\n",
    "print(a.ndim)\n",
    "print(a.size)\n",
    "print(a.shape)"
   ]
  },
  {
   "cell_type": "markdown",
   "id": "94b6d374",
   "metadata": {},
   "source": [
    "### 자료형 변환(리스트)"
   ]
  },
  {
   "cell_type": "code",
   "execution_count": 37,
   "id": "c60852d0",
   "metadata": {},
   "outputs": [
    {
     "name": "stdout",
     "output_type": "stream",
     "text": [
      "[1 2 3]\n"
     ]
    }
   ],
   "source": [
    "list1=[1,2,3]\n",
    "arr1 = np.array(list1)\n",
    "print(arr1)"
   ]
  },
  {
   "cell_type": "code",
   "execution_count": 38,
   "id": "81e99585",
   "metadata": {},
   "outputs": [
    {
     "name": "stdout",
     "output_type": "stream",
     "text": [
      "[1, 2, 3] <class 'list'>\n"
     ]
    }
   ],
   "source": [
    "arr2 = np.array([1,2,3])\n",
    "list2 = list(arr2)\n",
    "print(list2, type(list2))"
   ]
  },
  {
   "cell_type": "markdown",
   "id": "17da8a68",
   "metadata": {},
   "source": [
    "* 2차원 리스트 변환(리스트에서 mdarray로)"
   ]
  },
  {
   "cell_type": "code",
   "execution_count": 40,
   "id": "4d73ca7a",
   "metadata": {},
   "outputs": [
    {
     "name": "stdout",
     "output_type": "stream",
     "text": [
      "[[1 2 3]\n",
      " [4 5 6]]\n"
     ]
    }
   ],
   "source": [
    "list3=[ [1,2,3],[4,5,6]]\n",
    "arr3 = np.array(list3)\n",
    "print(arr3)"
   ]
  },
  {
   "cell_type": "markdown",
   "id": "f40352c2",
   "metadata": {},
   "source": [
    "* shape이 다른 리스트인 경우"
   ]
  },
  {
   "cell_type": "code",
   "execution_count": 42,
   "id": "78693dd1",
   "metadata": {},
   "outputs": [
    {
     "name": "stdout",
     "output_type": "stream",
     "text": [
      "[list([1, 2, 3, 4]) list([5, 6, 7])]\n"
     ]
    },
    {
     "name": "stderr",
     "output_type": "stream",
     "text": [
      "C:\\Users\\admin\\AppData\\Local\\Temp\\ipykernel_11364\\310765174.py:2: VisibleDeprecationWarning: Creating an ndarray from ragged nested sequences (which is a list-or-tuple of lists-or-tuples-or ndarrays with different lengths or shapes) is deprecated. If you meant to do this, you must specify 'dtype=object' when creating the ndarray.\n",
      "  arr4 =np.array(list4)\n"
     ]
    }
   ],
   "source": [
    "list4 = [[1,2,3,4],[5,6,7]]  # 자료 길이\n",
    "arr4 = np.array(list4)\n",
    "print(arr4)"
   ]
  },
  {
   "cell_type": "markdown",
   "id": "1898e4a7",
   "metadata": {},
   "source": [
    "### 자료형 변환(튜플)"
   ]
  },
  {
   "cell_type": "markdown",
   "id": "ae09ff99",
   "metadata": {},
   "source": [
    "* ndarray > 튜플 변환"
   ]
  },
  {
   "cell_type": "code",
   "execution_count": 43,
   "id": "29d892bf",
   "metadata": {},
   "outputs": [
    {
     "name": "stdout",
     "output_type": "stream",
     "text": [
      "[1 2 3]\n"
     ]
    }
   ],
   "source": [
    "tuple1 = (1,2,3)\n",
    "arr = np.array(tuple1)\n",
    "print(arr)"
   ]
  },
  {
   "cell_type": "markdown",
   "id": "63f3fecb",
   "metadata": {},
   "source": [
    "### 자료형 변환(세트, 딕셔너리)"
   ]
  },
  {
   "cell_type": "markdown",
   "id": "427883f5",
   "metadata": {},
   "source": [
    "* 집합, 세트"
   ]
  },
  {
   "cell_type": "code",
   "execution_count": 48,
   "id": "963de12a",
   "metadata": {},
   "outputs": [
    {
     "name": "stdout",
     "output_type": "stream",
     "text": [
      "{1, 2, 3} 1 ()\n"
     ]
    }
   ],
   "source": [
    "set1 = {1,2,3}\n",
    "arr = np.array(set1)\n",
    "print(arr, arr.size, arr.shape)"
   ]
  },
  {
   "cell_type": "markdown",
   "id": "ded96558",
   "metadata": {},
   "source": [
    "* 딕셔너리"
   ]
  },
  {
   "cell_type": "code",
   "execution_count": 46,
   "id": "4dcec1d1",
   "metadata": {},
   "outputs": [
    {
     "name": "stdout",
     "output_type": "stream",
     "text": [
      "{'a': 1, 'b': 2, 'c': 3} 1 ()\n"
     ]
    }
   ],
   "source": [
    "dict1 = {'a' :1, 'b' : 2, 'c' : 3}\n",
    "arr = np.array(dict1)\n",
    "print(arr, arr.size, arr.shape)"
   ]
  }
 ],
 "metadata": {
  "kernelspec": {
   "display_name": "Python 3 (ipykernel)",
   "language": "python",
   "name": "python3"
  },
  "language_info": {
   "codemirror_mode": {
    "name": "ipython",
    "version": 3
   },
   "file_extension": ".py",
   "mimetype": "text/x-python",
   "name": "python",
   "nbconvert_exporter": "python",
   "pygments_lexer": "ipython3",
   "version": "3.9.12"
  }
 },
 "nbformat": 4,
 "nbformat_minor": 5
}
