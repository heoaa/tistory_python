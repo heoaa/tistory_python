{
 "cells": [
  {
   "cell_type": "markdown",
   "id": "58ac4e56",
   "metadata": {},
   "source": [
    "### Reshape\n",
    "* 배열의 shape 변형 함수\n",
    "* 배열 요소 개수를 유지하며 형태만 변경\n",
    "* 주의! 변형 전 size와 변형 후 size가 동일해야 함(이때 사이즈는 데이터 사이즈)  \n",
    "\n",
    "\n",
    "* array.reshape(변환할 size)"
   ]
  },
  {
   "cell_type": "code",
   "execution_count": 1,
   "id": "e5fd5bb6",
   "metadata": {},
   "outputs": [],
   "source": [
    "import numpy as np"
   ]
  },
  {
   "cell_type": "code",
   "execution_count": 3,
   "id": "922f9591",
   "metadata": {},
   "outputs": [
    {
     "data": {
      "text/plain": [
       "array([[1, 2],\n",
       "       [3, 4],\n",
       "       [5, 6]])"
      ]
     },
     "execution_count": 3,
     "metadata": {},
     "output_type": "execute_result"
    }
   ],
   "source": [
    "arr=np.array([[1,2,3],\n",
    "              [4,5,6]])   # 2*3 형태 배열\n",
    "\n",
    "arr.reshape(3,2)   # 3*2 형태로 변환"
   ]
  },
  {
   "cell_type": "code",
   "execution_count": 4,
   "id": "118b0367",
   "metadata": {},
   "outputs": [
    {
     "name": "stdout",
     "output_type": "stream",
     "text": [
      "[[1 2 3 4 5 6]]\n",
      "[[1]\n",
      " [2]\n",
      " [3]\n",
      " [4]\n",
      " [5]\n",
      " [6]]\n"
     ]
    }
   ],
   "source": [
    "print(arr.reshape(1,6))\n",
    "print(arr.reshape(6,1))"
   ]
  },
  {
   "cell_type": "code",
   "execution_count": 10,
   "id": "11720cb6",
   "metadata": {},
   "outputs": [
    {
     "name": "stdout",
     "output_type": "stream",
     "text": [
      "(6,)\n",
      "[1 2 3 4 5 6]\n"
     ]
    }
   ],
   "source": [
    "arr1 = np.array([1,2,3,4,5,6])\n",
    "print(arr1.shape)       # 1차원 배열 형태 확인\n",
    "\n",
    "print(arr.reshape(6,))   # 2차원 배열의 1차원 변환도 가능"
   ]
  },
  {
   "cell_type": "code",
   "execution_count": 5,
   "id": "e6e2f495",
   "metadata": {},
   "outputs": [
    {
     "name": "stdout",
     "output_type": "stream",
     "text": [
      "[[[1 2]]\n",
      "\n",
      " [[3 4]]\n",
      "\n",
      " [[5 6]]]\n"
     ]
    }
   ],
   "source": [
    "print(arr.reshape(3,1,2))"
   ]
  },
  {
   "cell_type": "code",
   "execution_count": 6,
   "id": "0be562b6",
   "metadata": {},
   "outputs": [
    {
     "name": "stdout",
     "output_type": "stream",
     "text": [
      "[[1 2]\n",
      " [3 4]\n",
      " [5 6]]\n"
     ]
    }
   ],
   "source": [
    "print(arr.reshape(-1,2))   # 2열 지정 후 알맞게 행 자동 지정( -1 활용)"
   ]
  },
  {
   "cell_type": "markdown",
   "id": "d8a812ca",
   "metadata": {},
   "source": [
    "#### 연습문제\n",
    "* range() 함수를 사용하여 1부터 36까지의 배열 생성"
   ]
  },
  {
   "cell_type": "code",
   "execution_count": 47,
   "id": "db5a6b28",
   "metadata": {
    "scrolled": true
   },
   "outputs": [
    {
     "data": {
      "text/plain": [
       "array([ 1,  2,  3,  4,  5,  6,  7,  8,  9, 10, 11, 12, 13, 14, 15, 16, 17,\n",
       "       18, 19, 20, 21, 22, 23, 24, 25, 26, 27, 28, 29, 30, 31, 32, 33, 34,\n",
       "       35, 36])"
      ]
     },
     "execution_count": 47,
     "metadata": {},
     "output_type": "execute_result"
    }
   ],
   "source": [
    "tensor = np.array(range(1,37))\n",
    "tensor"
   ]
  },
  {
   "cell_type": "markdown",
   "id": "20078669",
   "metadata": {},
   "source": [
    "* 3x3x4 형태의 3차원 배열로 변형"
   ]
  },
  {
   "cell_type": "code",
   "execution_count": 48,
   "id": "89e53418",
   "metadata": {},
   "outputs": [
    {
     "name": "stdout",
     "output_type": "stream",
     "text": [
      "[[[ 1  2  3  4]\n",
      "  [ 5  6  7  8]\n",
      "  [ 9 10 11 12]]\n",
      "\n",
      " [[13 14 15 16]\n",
      "  [17 18 19 20]\n",
      "  [21 22 23 24]]\n",
      "\n",
      " [[25 26 27 28]\n",
      "  [29 30 31 32]\n",
      "  [33 34 35 36]]]\n"
     ]
    }
   ],
   "source": [
    "print(tensor.reshape(3,3,4))"
   ]
  },
  {
   "cell_type": "code",
   "execution_count": 14,
   "id": "b9ee18bf",
   "metadata": {},
   "outputs": [
    {
     "name": "stdout",
     "output_type": "stream",
     "text": [
      "[[ 1  2  3  4  5  6  7  8  9]\n",
      " [10 11 12 13 14 15 16 17 18]\n",
      " [19 20 21 22 23 24 25 26 27]\n",
      " [28 29 30 31 32 33 34 35 36]]\n"
     ]
    }
   ],
   "source": [
    "# 위에서 생성한 배열을 2차원 배열로 변형(이때 열의 개수는 9개로 지정)\n",
    "print(tensor.reshape(-1,9))"
   ]
  },
  {
   "cell_type": "markdown",
   "id": "aae0f33a",
   "metadata": {},
   "source": [
    "### Flatten\n",
    "* 다차원 배열을 1차원 배열로 변형"
   ]
  },
  {
   "cell_type": "code",
   "execution_count": 21,
   "id": "410fbafe",
   "metadata": {},
   "outputs": [
    {
     "name": "stdout",
     "output_type": "stream",
     "text": [
      "[[1 2 3]\n",
      " [4 5 6]]\n",
      "[1 2 3 4 5 6]\n"
     ]
    }
   ],
   "source": [
    "arr=np.array([[1,2,3],\n",
    "              [4,5,6]])   # 2*3 형태 배열\n",
    "print(arr)\n",
    "\n",
    "print(arr.flatten())      # shape(2,3) -> shape(6,)"
   ]
  },
  {
   "cell_type": "code",
   "execution_count": 25,
   "id": "c3fac6b3",
   "metadata": {
    "scrolled": true
   },
   "outputs": [
    {
     "name": "stdout",
     "output_type": "stream",
     "text": [
      "[[[ 1  2  3  4]\n",
      "  [ 5  6  7  8]\n",
      "  [ 9 10 11 12]]\n",
      "\n",
      " [[13 14 15 16]\n",
      "  [17 18 19 20]\n",
      "  [21 22 23 24]]\n",
      "\n",
      " [[25 26 27 28]\n",
      "  [29 30 31 32]\n",
      "  [33 34 35 36]]]\n",
      "[ 1  2  3  4  5  6  7  8  9 10 11 12 13 14 15 16 17 18 19 20 21 22 23 24\n",
      " 25 26 27 28 29 30 31 32 33 34 35 36]\n"
     ]
    }
   ],
   "source": [
    "tensor = np.array(range(1,37))\n",
    "print(tensor.reshape(3,3,4))\n",
    "\n",
    "print(tensor.reshape(3,3,4).flatten())"
   ]
  },
  {
   "cell_type": "markdown",
   "id": "81452cad",
   "metadata": {},
   "source": [
    "### Arange(range 유사)\n",
    "* 값의 범위를 지정하여 채워져 있는 배열 생성\n",
    "* 특정 규칙에 따라 증가하는 값을 넣을 수 있음  \n",
    "\n",
    "\n",
    "* np.arange(size)\n",
    "* 간격 지정 : np.arrange(star, end, step)"
   ]
  },
  {
   "cell_type": "code",
   "execution_count": 27,
   "id": "93f3f91c",
   "metadata": {
    "scrolled": true
   },
   "outputs": [
    {
     "name": "stdout",
     "output_type": "stream",
     "text": [
      "[ 0  1  2  3  4  5  6  7  8  9 10 11 12 13 14 15 16 17 18 19 20 21 22 23\n",
      " 24 25 26 27 28 29]\n"
     ]
    }
   ],
   "source": [
    "print(np.arange(30))   # np.array(range(30))과 동일"
   ]
  },
  {
   "cell_type": "code",
   "execution_count": 32,
   "id": "e8387a0c",
   "metadata": {},
   "outputs": [
    {
     "name": "stdout",
     "output_type": "stream",
     "text": [
      "[0 2 4 6 8]\n",
      "[0.  0.2 0.4 0.6 0.8 1.  1.2 1.4 1.6 1.8]\n",
      "[-2.  -1.5 -1.  -0.5  0.   0.5  1.   1.5]\n",
      "[10  9  8  7  6  5  4  3  2  1]\n"
     ]
    }
   ],
   "source": [
    "# 간격 지정 : np.arrange(star, end, step)\n",
    "print(np.arange(0,10,2))\n",
    "print(np.arange(0,2,0.2))\n",
    "print(np.arange(-2,2,0.5))\n",
    "print(np.arange(10,0,-1))"
   ]
  },
  {
   "cell_type": "markdown",
   "id": "4e37421c",
   "metadata": {},
   "source": [
    "### Arange + Reshape\n",
    "* 배열 요소를 순서대로 가지는 다차원 배열 생성 가능  \n",
    "* 주의! 변형 전 size와 변형 후 size가 동일해야 함(이때 사이즈는 데이터 사이즈)  "
   ]
  },
  {
   "cell_type": "code",
   "execution_count": 33,
   "id": "9064b123",
   "metadata": {},
   "outputs": [
    {
     "name": "stdout",
     "output_type": "stream",
     "text": [
      "[[ 1  2  3  4  5]\n",
      " [ 6  7  8  9 10]\n",
      " [11 12 13 14 15]\n",
      " [16 17 18 19 20]\n",
      " [21 22 23 24 25]]\n"
     ]
    }
   ],
   "source": [
    "print(np.arange(1,26).reshape(5,5))   # 1~25의 숫자로 배열 생성 후 5*5 배열로 변형"
   ]
  },
  {
   "cell_type": "code",
   "execution_count": 34,
   "id": "e8ffabb8",
   "metadata": {},
   "outputs": [
    {
     "name": "stdout",
     "output_type": "stream",
     "text": [
      "[[[0.  0.2 0.4 0.6 0.8]\n",
      "  [1.  1.2 1.4 1.6 1.8]]\n",
      "\n",
      " [[2.  2.2 2.4 2.6 2.8]\n",
      "  [3.  3.2 3.4 3.6 3.8]]\n",
      "\n",
      " [[4.  4.2 4.4 4.6 4.8]\n",
      "  [5.  5.2 5.4 5.6 5.8]]]\n"
     ]
    }
   ],
   "source": [
    "print(np.arange(0,6,0.2).reshape(3,2,5))"
   ]
  },
  {
   "cell_type": "markdown",
   "id": "cd50785a",
   "metadata": {},
   "source": [
    "#### 연습문제\n",
    "* 100~190의 숫자가 10 간격으로 나열된 배열 생성 후 (2,5) 형태의 2차원 배열로 변형"
   ]
  },
  {
   "cell_type": "code",
   "execution_count": 46,
   "id": "ff82382f",
   "metadata": {
    "scrolled": true
   },
   "outputs": [
    {
     "name": "stdout",
     "output_type": "stream",
     "text": [
      "[[100 110 120 130 140]\n",
      " [150 160 170 180 190]]\n"
     ]
    }
   ],
   "source": [
    "print(np.arange(100,191,10).reshape(2,5))"
   ]
  },
  {
   "cell_type": "markdown",
   "id": "c5c107c1",
   "metadata": {},
   "source": [
    "* -2부터 2까지의 숫자가 0.5 간격으로 나열된 배열 생성 후 3차원 배열로 변형(형태는 자유롭게 지정)"
   ]
  },
  {
   "cell_type": "code",
   "execution_count": 50,
   "id": "9ad8210f",
   "metadata": {},
   "outputs": [
    {
     "name": "stdout",
     "output_type": "stream",
     "text": [
      "[-2.  -1.5 -1.  -0.5  0.   0.5  1.   1.5  2. ]\n",
      "[[[-2.  -1.5 -1. ]\n",
      "  [-0.5  0.   0.5]\n",
      "  [ 1.   1.5  2. ]]]\n"
     ]
    }
   ],
   "source": [
    "print(np.arange(-2,2.5,0.5))                    # size 확인\n",
    "print(np.arange(-2,2.5,0.5).reshape(1,3,3))"
   ]
  },
  {
   "cell_type": "markdown",
   "id": "6d135e57",
   "metadata": {},
   "source": [
    "### Zeros\n",
    "* 0으로 채워진 배열 생성\n",
    "* shape 지정 가능  \n",
    "\n",
    "\n",
    "* np.zeros(shape, dtype)"
   ]
  },
  {
   "cell_type": "code",
   "execution_count": 52,
   "id": "f47bd7ba",
   "metadata": {},
   "outputs": [
    {
     "name": "stdout",
     "output_type": "stream",
     "text": [
      "[0 0 0 0 0]\n",
      "[0 0 0 0 0]\n"
     ]
    }
   ],
   "source": [
    "print(np.zeros(shape=(5,), dtype=np.int8))\n",
    "print(np.zeros((5,), int))"
   ]
  },
  {
   "cell_type": "code",
   "execution_count": 59,
   "id": "996175f1",
   "metadata": {},
   "outputs": [
    {
     "name": "stdout",
     "output_type": "stream",
     "text": [
      "[[0. 0. 0.]\n",
      " [0. 0. 0.]]\n",
      "float64\n"
     ]
    }
   ],
   "source": [
    "print(np.zeros((2,3)))        # dtype 생략하면 기본 자료형 float으로 생성\n",
    "print(np.zeros((2,3)).dtype)  # dtype 확인"
   ]
  },
  {
   "cell_type": "markdown",
   "id": "0912b7b3",
   "metadata": {},
   "source": [
    "### Ones\n",
    "* 1로 채워진 배열 생성\n",
    "* shape 지정 가능  \n",
    "\n",
    "\n",
    "* np.ones(shape, dtype)"
   ]
  },
  {
   "cell_type": "code",
   "execution_count": 60,
   "id": "be7ad528",
   "metadata": {},
   "outputs": [
    {
     "name": "stdout",
     "output_type": "stream",
     "text": [
      "[1 1 1 1 1]\n",
      "[1 1 1 1 1]\n"
     ]
    }
   ],
   "source": [
    "print(np.ones(shape=(5,), dtype=np.int8))\n",
    "print(np.ones((5,), int))"
   ]
  },
  {
   "cell_type": "code",
   "execution_count": 61,
   "id": "7058fcb0",
   "metadata": {},
   "outputs": [
    {
     "name": "stdout",
     "output_type": "stream",
     "text": [
      "[[1. 1. 1.]\n",
      " [1. 1. 1.]]\n",
      "float64\n"
     ]
    }
   ],
   "source": [
    "print(np.ones((2,3)))        # dtype 생략하면 기본 자료형 float으로 생성\n",
    "print(np.ones((2,3)).dtype)  # dtype 확인"
   ]
  },
  {
   "cell_type": "markdown",
   "id": "8ea4a8b2",
   "metadata": {},
   "source": [
    "#### Empty\n",
    "* shape만 주어지고 비어있는 배열 생성\n",
    "* 배열만 생성하고 값을 주지 않아 메모리에 저장되어 있던 기존 값이 저장될 수 있음  \n",
    "\n",
    "\n",
    "* np.empty(shape, dtype)"
   ]
  },
  {
   "cell_type": "code",
   "execution_count": 66,
   "id": "a1aaf05e",
   "metadata": {},
   "outputs": [
    {
     "name": "stdout",
     "output_type": "stream",
     "text": [
      "[100 110 120 130 140 150 160 170 180 190]\n",
      "[[1 1 1 1 0]\n",
      " [1 1 1 1 1]]\n"
     ]
    }
   ],
   "source": [
    "print(np.empty(shape=(10,), dtype=np.int32))     # 메모리에 값이 없으면 0으로 채워지나 값이 있으면 메모리의 값으로 생성\n",
    "print(np.empty((2,5), np.int8))"
   ]
  },
  {
   "cell_type": "code",
   "execution_count": 67,
   "id": "e3f0c8ee",
   "metadata": {},
   "outputs": [
    {
     "name": "stdout",
     "output_type": "stream",
     "text": [
      "[[1 1 1 1 0]\n",
      " [1 1 1 1 1]]\n",
      "float64\n"
     ]
    }
   ],
   "source": [
    "print(np.empty((2,5), np.int8))   # dtype 생략하면 기본 자료형 float으로 생성\n",
    "print(np.zeros((2,5)).dtype)      # dtype 확인"
   ]
  },
  {
   "cell_type": "markdown",
   "id": "caf90af5",
   "metadata": {},
   "source": [
    "#### Zeros_like / Ones_like / Empty_like\n",
    "* 입력 받은 배열과 같은 shape, dtype의 배열 생성"
   ]
  },
  {
   "cell_type": "code",
   "execution_count": 92,
   "id": "0bbe1256",
   "metadata": {},
   "outputs": [
    {
     "name": "stdout",
     "output_type": "stream",
     "text": [
      "[[ 0  1  2  3  4  5]\n",
      " [ 6  7  8  9 10 11]\n",
      " [12 13 14 15 16 17]\n",
      " [18 19 20 21 22 23]] \n",
      "\n",
      "[[0 0 0 0 0 0]\n",
      " [0 0 0 0 0 0]\n",
      " [0 0 0 0 0 0]\n",
      " [0 0 0 0 0 0]]\n"
     ]
    }
   ],
   "source": [
    "matrix = np.arange(24).reshape(4,6)\n",
    "print(matrix, '\\n')\n",
    "print(np.zeros_like(matrix))"
   ]
  },
  {
   "cell_type": "code",
   "execution_count": 91,
   "id": "c80961ba",
   "metadata": {},
   "outputs": [
    {
     "name": "stdout",
     "output_type": "stream",
     "text": [
      "[[-2.0000000e+00 -1.8000000e+00 -1.6000000e+00 -1.4000000e+00\n",
      "  -1.2000000e+00 -1.0000000e+00 -8.0000000e-01 -6.0000000e-01\n",
      "  -4.0000000e-01 -2.0000000e-01]\n",
      " [-4.4408921e-16  2.0000000e-01  4.0000000e-01  6.0000000e-01\n",
      "   8.0000000e-01  1.0000000e+00  1.2000000e+00  1.4000000e+00\n",
      "   1.6000000e+00  1.8000000e+00]] \n",
      "\n",
      "[[1. 1. 1. 1. 1. 1. 1. 1. 1. 1.]\n",
      " [1. 1. 1. 1. 1. 1. 1. 1. 1. 1.]]\n"
     ]
    }
   ],
   "source": [
    "matrix = np.arange(-2,2,0.2).reshape(2,10)\n",
    "print(matrix, '\\n')\n",
    "print(np.ones_like(matrix))"
   ]
  },
  {
   "cell_type": "code",
   "execution_count": 90,
   "id": "55758e74",
   "metadata": {},
   "outputs": [
    {
     "name": "stdout",
     "output_type": "stream",
     "text": [
      "[[ 0  1  2  3  4]\n",
      " [ 5  6  7  8  9]\n",
      " [10 11 12 13 14]\n",
      " [15 16 17 18 19]\n",
      " [20 21 22 23 24]] \n",
      "\n",
      "[[ 0  1  2  3  4]\n",
      " [ 5  6  7  8  9]\n",
      " [10 11 12 13 14]\n",
      " [15 16 17 18 19]\n",
      " [20 21 22 23 24]]\n"
     ]
    }
   ],
   "source": [
    "matrix = np.arange(25).reshape(5,5)\n",
    "print(matrix, '\\n')\n",
    "print(np.empty_like(matrix))"
   ]
  },
  {
   "cell_type": "markdown",
   "id": "912075fa",
   "metadata": {},
   "source": [
    "### Identity\n",
    "* 단위행렬 : 주 대각선 값이 1이고 나머지는 0인 정사각 행렬  \n",
    "\n",
    "\n",
    "* np.identity(size, dtype)"
   ]
  },
  {
   "cell_type": "code",
   "execution_count": 76,
   "id": "fd1254cf",
   "metadata": {},
   "outputs": [
    {
     "name": "stdout",
     "output_type": "stream",
     "text": [
      "[[1 0 0 0 0]\n",
      " [0 1 0 0 0]\n",
      " [0 0 1 0 0]\n",
      " [0 0 0 1 0]\n",
      " [0 0 0 0 1]]\n"
     ]
    }
   ],
   "source": [
    "print(np.identity(5, dtype=np.int8))"
   ]
  },
  {
   "cell_type": "code",
   "execution_count": 74,
   "id": "8bafaedf",
   "metadata": {},
   "outputs": [
    {
     "name": "stdout",
     "output_type": "stream",
     "text": [
      "[[1. 0.]\n",
      " [0. 1.]]\n"
     ]
    }
   ],
   "source": [
    "print(np.identity(2))"
   ]
  },
  {
   "cell_type": "markdown",
   "id": "d5186c91",
   "metadata": {},
   "source": [
    "### Eye\n",
    "* 대각선이 1로 채워지는 행렬이나 대각선 시작 위치 지정 가능\n",
    "\n",
    "\n",
    "* np.eye(size, M, k, dtype)\n",
    "* M : 보여지는 열의 개수를 지정(정사각형뿐만 아니라 직사각형 가능)\n",
    "* k : 대각선 시작 위치(입력 받은 수 만큼 오른쪽으로 이동)"
   ]
  },
  {
   "cell_type": "code",
   "execution_count": 78,
   "id": "53e0d52f",
   "metadata": {},
   "outputs": [
    {
     "name": "stdout",
     "output_type": "stream",
     "text": [
      "[[1 0 0 0 0]\n",
      " [0 1 0 0 0]\n",
      " [0 0 1 0 0]\n",
      " [0 0 0 1 0]\n",
      " [0 0 0 0 1]]\n"
     ]
    }
   ],
   "source": [
    "print(np.eye(5, dtype=np.int8))   # M, k 생략시 단위행렬과 흡사"
   ]
  },
  {
   "cell_type": "code",
   "execution_count": 84,
   "id": "fb9d0258",
   "metadata": {
    "scrolled": true
   },
   "outputs": [
    {
     "name": "stdout",
     "output_type": "stream",
     "text": [
      "[[0. 0. 1. 0. 0.]\n",
      " [0. 0. 0. 1. 0.]\n",
      " [0. 0. 0. 0. 1.]\n",
      " [0. 0. 0. 0. 0.]\n",
      " [0. 0. 0. 0. 0.]] \n",
      "\n",
      "[[0. 0. 0. 0. 0.]\n",
      " [1. 0. 0. 0. 0.]\n",
      " [0. 1. 0. 0. 0.]\n",
      " [0. 0. 1. 0. 0.]\n",
      " [0. 0. 0. 1. 0.]]\n"
     ]
    }
   ],
   "source": [
    "print(np.eye(5, k=2),'\\n')\n",
    "print(np.eye(5, k=-1))"
   ]
  },
  {
   "cell_type": "code",
   "execution_count": 89,
   "id": "ae0042f3",
   "metadata": {},
   "outputs": [
    {
     "name": "stdout",
     "output_type": "stream",
     "text": [
      "[[0 0 0 0 1 0 0 0 0 0]\n",
      " [0 0 0 0 0 1 0 0 0 0]\n",
      " [0 0 0 0 0 0 1 0 0 0]\n",
      " [0 0 0 0 0 0 0 1 0 0]\n",
      " [0 0 0 0 0 0 0 0 1 0]] \n",
      "\n",
      "[[0 0 0 0 0 0 0 0 0 0]\n",
      " [0 0 0 0 0 0 0 0 0 0]\n",
      " [1 0 0 0 0 0 0 0 0 0]\n",
      " [0 1 0 0 0 0 0 0 0 0]\n",
      " [0 0 1 0 0 0 0 0 0 0]]\n"
     ]
    }
   ],
   "source": [
    "print(np.eye(5, M=10, k=4, dtype=np.int8), '\\n')\n",
    "print(np.eye(5, M=10, k=-2, dtype=np.int8))"
   ]
  },
  {
   "cell_type": "markdown",
   "id": "a87ad6bb",
   "metadata": {},
   "source": [
    "### Full\n",
    "* 입력 값으로 채워지는 행렬\n",
    "\n",
    "\n",
    "* np.full((shape), value)"
   ]
  },
  {
   "cell_type": "code",
   "execution_count": 96,
   "id": "95a304d6",
   "metadata": {},
   "outputs": [
    {
     "name": "stdout",
     "output_type": "stream",
     "text": [
      "[[3 3 3 3 3]\n",
      " [3 3 3 3 3]] \n",
      "\n",
      "[['a' 'a' 'a' 'a']\n",
      " ['a' 'a' 'a' 'a']\n",
      " ['a' 'a' 'a' 'a']\n",
      " ['a' 'a' 'a' 'a']\n",
      " ['a' 'a' 'a' 'a']]\n"
     ]
    }
   ],
   "source": [
    "print(np.full((2,5), 3), '\\n')   # 3으로 채워진 (2,5)행렬\n",
    "print(np.full((5,4), 'a'))   # a로 채워진 (5,4)행렬"
   ]
  },
  {
   "cell_type": "markdown",
   "id": "c1ca3508",
   "metadata": {},
   "source": [
    "### Random.randit\n",
    "* 주어진 범위 안의 랜덤한 값을 뽑는 함수\n",
    "\n",
    "\n",
    "* np.random.randit(range)"
   ]
  },
  {
   "cell_type": "code",
   "execution_count": 100,
   "id": "2816ca1b",
   "metadata": {
    "scrolled": true
   },
   "outputs": [
    {
     "name": "stdout",
     "output_type": "stream",
     "text": [
      "1\n",
      "16\n",
      "[6 5]\n"
     ]
    }
   ],
   "source": [
    "print(np.random.randint(6))      # 0~5까지의 정수 중 하나 뽑기\n",
    "print(np.random.randint(1,20))   # 1~19까지의 정수 중 하나 뽑기\n",
    "print(np.random.randint(1,20,2)) # 여기서 2는 간격이 아니라 뽑는 개수임"
   ]
  },
  {
   "cell_type": "markdown",
   "id": "5cb1f3db",
   "metadata": {},
   "source": [
    "### Random.rand(양수)\n",
    "* 랜덤한 값으로 채워지는 배열\n",
    "* 0~1 사이의 값을 가짐(표준정규분포 난수를 shape 형태의 배열로 생성)\n",
    "\n",
    "\n",
    "* np.random.rand(shape)"
   ]
  },
  {
   "cell_type": "code",
   "execution_count": 104,
   "id": "cc8fd939",
   "metadata": {},
   "outputs": [
    {
     "name": "stdout",
     "output_type": "stream",
     "text": [
      "[0.82671889 0.96507056 0.02334286] \n",
      "\n",
      "[[0.30366552 0.20884861]\n",
      " [0.37204437 0.09502743]\n",
      " [0.28333237 0.3750967 ]]\n"
     ]
    }
   ],
   "source": [
    "print(np.random.rand(3,), '\\n')   # 입력한 형태를 가진 랜덤(0~1) 배열 생성\n",
    "print(np.random.rand(3,2))"
   ]
  },
  {
   "cell_type": "markdown",
   "id": "929e96d7",
   "metadata": {},
   "source": [
    "### Random.randn(음수, 양수)\n",
    "* 랜덤한 값으로 채워지는 배열\n",
    "* 평균 0, 표준편차 1의 가우시안 표준정규분포 난수를 shape 형태의 배열로 생성\n",
    "\n",
    "\n",
    "* np.random.randn(shape)"
   ]
  },
  {
   "cell_type": "code",
   "execution_count": 112,
   "id": "27128799",
   "metadata": {},
   "outputs": [
    {
     "name": "stdout",
     "output_type": "stream",
     "text": [
      "[-0.39532735 -1.08399887  0.65938915] \n",
      "\n",
      "[[-1.71618966  0.67141739]\n",
      " [ 0.59537935 -1.74357435]\n",
      " [-1.31979644  0.27574128]]\n"
     ]
    }
   ],
   "source": [
    "print(np.random.randn(3,), '\\n') \n",
    "print(np.random.randn(3,2))"
   ]
  }
 ],
 "metadata": {
  "kernelspec": {
   "display_name": "Python 3 (ipykernel)",
   "language": "python",
   "name": "python3"
  },
  "language_info": {
   "codemirror_mode": {
    "name": "ipython",
    "version": 3
   },
   "file_extension": ".py",
   "mimetype": "text/x-python",
   "name": "python",
   "nbconvert_exporter": "python",
   "pygments_lexer": "ipython3",
   "version": "3.9.12"
  }
 },
 "nbformat": 4,
 "nbformat_minor": 5
}
