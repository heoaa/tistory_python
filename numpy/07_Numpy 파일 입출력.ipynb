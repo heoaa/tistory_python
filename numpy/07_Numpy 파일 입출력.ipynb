{
 "cells": [
  {
   "cell_type": "code",
   "execution_count": 17,
   "id": "2ea2b8e5",
   "metadata": {},
   "outputs": [],
   "source": [
    "import numpy as np"
   ]
  },
  {
   "cell_type": "markdown",
   "id": "a2ad79ae",
   "metadata": {},
   "source": [
    "### 파일 처리"
   ]
  },
  {
   "cell_type": "code",
   "execution_count": 7,
   "id": "aa4db3f2",
   "metadata": {},
   "outputs": [
    {
     "name": "stdout",
     "output_type": "stream",
     "text": [
      "[[ 1.06280276 -0.45325563 -1.75642458  0.87793083  1.27385786]\n",
      " [-1.21064817  1.98653335  0.06695576 -0.10245002 -0.59917824]\n",
      " [ 0.59926986  0.8224285  -0.72056861 -0.03360266 -0.9725805 ]]\n"
     ]
    }
   ],
   "source": [
    "# 파일 저장(tofile)\n",
    "n = np.random.randn(3,5)\n",
    "print(n)\n",
    "n.tofile('n.npy')"
   ]
  },
  {
   "cell_type": "code",
   "execution_count": 10,
   "id": "d0e22f0e",
   "metadata": {},
   "outputs": [
    {
     "name": "stdout",
     "output_type": "stream",
     "text": [
      "[ 1.06280276 -0.45325563 -1.75642458  0.87793083  1.27385786 -1.21064817\n",
      "  1.98653335  0.06695576 -0.10245002 -0.59917824  0.59926986  0.8224285\n",
      " -0.72056861 -0.03360266 -0.9725805 ]\n"
     ]
    }
   ],
   "source": [
    "# 파일 불러오기(fromfile)\n",
    "m = np.fromfile('C:\\STUDY\\StudyPython_kim\\day2/n.npy')\n",
    "print(m)"
   ]
  },
  {
   "cell_type": "code",
   "execution_count": 13,
   "id": "f25e3a2a",
   "metadata": {},
   "outputs": [
    {
     "name": "stdout",
     "output_type": "stream",
     "text": [
      "[[ 1.06280276 -0.45325563 -1.75642458  0.87793083  1.27385786]\n",
      " [-1.21064817  1.98653335  0.06695576 -0.10245002 -0.59917824]\n",
      " [ 0.59926986  0.8224285  -0.72056861 -0.03360266 -0.9725805 ]]\n"
     ]
    }
   ],
   "source": [
    "# 파일 저장, 불러오기(np.save, np.load)\n",
    "np.save('n1.npy',n)\n",
    "m1 = np.load('n1.npy')\n",
    "print(m1)"
   ]
  },
  {
   "cell_type": "markdown",
   "id": "a56af732",
   "metadata": {},
   "source": [
    "### txt 파일 저장"
   ]
  },
  {
   "cell_type": "code",
   "execution_count": 3,
   "id": "8a515d4c",
   "metadata": {},
   "outputs": [
    {
     "name": "stdout",
     "output_type": "stream",
     "text": [
      "[[-0.27798348 -1.15318376 -0.93995203  0.42070307  0.87951165]\n",
      " [-1.18678296 -0.53694242  0.32699627  1.09722822  0.90473471]\n",
      " [ 0.40067516  0.18209757  0.52434749  1.42181706 -0.55137886]]\n"
     ]
    }
   ],
   "source": [
    "# 파일 저장(np.savetxt)\n",
    "n = np.random.randn(3,5)\n",
    "print(n)\n",
    "np.savetxt('n.txt', n)"
   ]
  },
  {
   "cell_type": "code",
   "execution_count": 9,
   "id": "eba2d8a7",
   "metadata": {
    "scrolled": true
   },
   "outputs": [
    {
     "data": {
      "text/plain": [
       "array([[-0.27798348, -1.15318376, -0.93995203,  0.42070307,  0.87951165],\n",
       "       [-1.18678296, -0.53694242,  0.32699627,  1.09722822,  0.90473471],\n",
       "       [ 0.40067516,  0.18209757,  0.52434749,  1.42181706, -0.55137886]])"
      ]
     },
     "execution_count": 9,
     "metadata": {},
     "output_type": "execute_result"
    }
   ],
   "source": [
    "# 파일 불러오기(np.loadtxt)\n",
    "np.loadtxt('C:\\STUDY\\StudyPython_kim\\day2/n.txt')"
   ]
  },
  {
   "cell_type": "markdown",
   "id": "21e90665",
   "metadata": {},
   "source": [
    "### csv 파일 저장"
   ]
  },
  {
   "cell_type": "code",
   "execution_count": 12,
   "id": "1c52a992",
   "metadata": {},
   "outputs": [
    {
     "name": "stdout",
     "output_type": "stream",
     "text": [
      "[[-0.54927464 -1.18530586  1.30821208  1.86201368  1.51504916]\n",
      " [ 0.46099531  0.08413438  1.38231432 -0.17162843 -0.29518279]\n",
      " [ 0.05991439 -0.29790772  0.24439864 -0.75382072 -0.63258858]]\n"
     ]
    }
   ],
   "source": [
    "# 파일 저장(np.savetxt)\n",
    "n = np.random.randn(3,5)\n",
    "print(n)\n",
    "np.savetxt('n.csv', n, delimiter = ',')      # txt와 동일하며 확장자만 변경, 구분자 지정"
   ]
  },
  {
   "cell_type": "code",
   "execution_count": 14,
   "id": "35bedec4",
   "metadata": {
    "scrolled": true
   },
   "outputs": [
    {
     "data": {
      "text/plain": [
       "array([[-0.54927464, -1.18530586,  1.30821208,  1.86201368,  1.51504916],\n",
       "       [ 0.46099531,  0.08413438,  1.38231432, -0.17162843, -0.29518279],\n",
       "       [ 0.05991439, -0.29790772,  0.24439864, -0.75382072, -0.63258858]])"
      ]
     },
     "execution_count": 14,
     "metadata": {},
     "output_type": "execute_result"
    }
   ],
   "source": [
    "# 파일 불러오기(np.loadtxt)\n",
    "np.loadtxt('C:\\STUDY\\StudyPython_kim\\day2/n.csv', delimiter = ',')"
   ]
  },
  {
   "cell_type": "markdown",
   "id": "a07f47c9",
   "metadata": {},
   "source": [
    "#### 연습문제\n",
    "* 1~25 범위의 (5,5) 2차원 행렬을 생성하고 구분자를 ,로 지정해서 data.csv에 저장"
   ]
  },
  {
   "cell_type": "code",
   "execution_count": 37,
   "id": "d9d14815",
   "metadata": {},
   "outputs": [
    {
     "data": {
      "text/plain": [
       "array([[ 1,  2,  3,  4,  5],\n",
       "       [ 6,  7,  8,  9, 10],\n",
       "       [11, 12, 13, 14, 15],\n",
       "       [16, 17, 18, 19, 20],\n",
       "       [21, 22, 23, 24, 25]], dtype=int8)"
      ]
     },
     "execution_count": 37,
     "metadata": {},
     "output_type": "execute_result"
    }
   ],
   "source": [
    "a = np.arange(1,26).reshape(5,5)\n",
    "np.savetxt('C:\\STUDY\\StudyPython_kim\\day2/data.csv', a, delimiter=',')\n",
    "np.loadtxt('C:\\STUDY\\StudyPython_kim\\day2/data.csv', delimiter = ',', dtype=np.int8)"
   ]
  },
  {
   "cell_type": "markdown",
   "id": "9916a160",
   "metadata": {},
   "source": [
    "* 06_data1.txt 파일을 읽어와서 dtype=str로 변수 arr1에 저장하고 출력"
   ]
  },
  {
   "cell_type": "code",
   "execution_count": 40,
   "id": "80cb87c1",
   "metadata": {},
   "outputs": [
    {
     "name": "stdout",
     "output_type": "stream",
     "text": [
      "[['1' '15' '14' '4']\n",
      " ['12' '6' '7' '9']\n",
      " ['8' '10' '11' '5']\n",
      " ['13' '3' '2' '16']]\n"
     ]
    }
   ],
   "source": [
    "arr1 = np.loadtxt('C:\\STUDY\\StudyPython_kim\\day2/06_data1.txt', dtype=str)   # 또는 np.str_\n",
    "print(arr1)"
   ]
  },
  {
   "cell_type": "code",
   "execution_count": 41,
   "id": "d942c1c5",
   "metadata": {},
   "outputs": [
    {
     "name": "stdout",
     "output_type": "stream",
     "text": [
      "[['1' '15' '14' '4']\n",
      " ['12' '6' '7' '9']\n",
      " ['8' '10' '11' '5']\n",
      " ['13' '3' '2' '16']]\n"
     ]
    }
   ],
   "source": [
    "arr1_ = np.loadtxt('C:\\STUDY\\StudyPython_kim\\day2/06_data1.txt', delimiter= '\\t', dtype=str)  # \\t :탭\n",
    "print(arr1)"
   ]
  },
  {
   "cell_type": "markdown",
   "id": "7891c503",
   "metadata": {},
   "source": [
    "* 06_data2.txt 파일을 읽어와서 변수 arr2에 저장하고 출력"
   ]
  },
  {
   "cell_type": "code",
   "execution_count": 42,
   "id": "bd652d1b",
   "metadata": {
    "scrolled": true
   },
   "outputs": [
    {
     "name": "stdout",
     "output_type": "stream",
     "text": [
      "[[ 1 15 14  4]\n",
      " [12  6  7  9]\n",
      " [ 8 10 11  5]\n",
      " [13  3  2 16]]\n"
     ]
    }
   ],
   "source": [
    "arr2 = np.loadtxt('C:\\STUDY\\StudyPython_kim\\day2/06_data2.txt', delimiter=',', dtype = np.int8)\n",
    "print(arr2)"
   ]
  }
 ],
 "metadata": {
  "kernelspec": {
   "display_name": "Python 3 (ipykernel)",
   "language": "python",
   "name": "python3"
  },
  "language_info": {
   "codemirror_mode": {
    "name": "ipython",
    "version": 3
   },
   "file_extension": ".py",
   "mimetype": "text/x-python",
   "name": "python",
   "nbconvert_exporter": "python",
   "pygments_lexer": "ipython3",
   "version": "3.9.12"
  }
 },
 "nbformat": 4,
 "nbformat_minor": 5
}
