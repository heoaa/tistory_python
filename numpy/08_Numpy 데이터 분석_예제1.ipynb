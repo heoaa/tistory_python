{
 "cells": [
  {
   "cell_type": "markdown",
   "id": "b4d421c1",
   "metadata": {},
   "source": [
    "### 예제 1"
   ]
  },
  {
   "cell_type": "code",
   "execution_count": 2,
   "id": "1b5aab22",
   "metadata": {},
   "outputs": [],
   "source": [
    "import numpy as np"
   ]
  },
  {
   "cell_type": "markdown",
   "id": "73d2f46a",
   "metadata": {},
   "source": [
    "* 01) 파일 읽어오기"
   ]
  },
  {
   "cell_type": "code",
   "execution_count": 9,
   "id": "1f4d6c6d",
   "metadata": {
    "scrolled": true
   },
   "outputs": [],
   "source": [
    "data = np.loadtxt('C:\\STUDY\\StudyPython_kim/day3/ex1_지역별전기요금.csv', delimiter = ',', dtype = int)"
   ]
  },
  {
   "cell_type": "code",
   "execution_count": 7,
   "id": "2d216620",
   "metadata": {},
   "outputs": [
    {
     "name": "stdout",
     "output_type": "stream",
     "text": [
      "[[      1  565082     273   27177]\n",
      " [      2 2827233     444   45111]\n",
      " [      3 1144913     289   29043]\n",
      " [      4 1131034     230   22436]\n",
      " [      5  380425     391   38020]\n",
      " [      6  668623     364   35245]\n",
      " [      7  425659     344   32331]\n",
      " [      8  947300     366   36274]\n",
      " [      9 2737725     361   36569]\n",
      " [     10   49394     580   57091]\n",
      " [     11  323151     353   35470]\n",
      " [     12  734723     398   40049]\n",
      " [     13  726699     249   25120]\n",
      " [     14  634696     285   28556]\n",
      " [     15  258605     221   22180]\n",
      " [     16  742285     282   27901]\n",
      " [     17  584500     268   26899]]\n"
     ]
    }
   ],
   "source": [
    "print(data)"
   ]
  },
  {
   "cell_type": "code",
   "execution_count": 10,
   "id": "530e4c4f",
   "metadata": {},
   "outputs": [
    {
     "name": "stdout",
     "output_type": "stream",
     "text": [
      "[[      1  565082     273   27177]\n",
      " [      2 2827233     444   45111]\n",
      " [      3 1144913     289   29043]\n",
      " [      4 1131034     230   22436]\n",
      " [      5  380425     391   38020]]\n"
     ]
    }
   ],
   "source": [
    "print(data[:5,:])   # 상위 5개 데이터 출력"
   ]
  },
  {
   "cell_type": "markdown",
   "id": "cfa3a4b7",
   "metadata": {},
   "source": [
    "* 02) 데이터 확인"
   ]
  },
  {
   "cell_type": "code",
   "execution_count": 11,
   "id": "9d5087ee",
   "metadata": {
    "scrolled": false
   },
   "outputs": [
    {
     "name": "stdout",
     "output_type": "stream",
     "text": [
      "(17, 4)\n",
      "[ 1  2  3  4  5  6  7  8  9 10 11 12 13 14 15 16 17]\n"
     ]
    }
   ],
   "source": [
    "print(data.shape)             # 데이터 모양 확인\n",
    "print(np.unique(data[:,0]))   # 중복 지역 확인"
   ]
  },
  {
   "cell_type": "code",
   "execution_count": 14,
   "id": "34a5efd3",
   "metadata": {},
   "outputs": [
    {
     "name": "stdout",
     "output_type": "stream",
     "text": [
      "[  49394  258605  323151  380425  425659  565082  584500  634696  668623\n",
      "  726699  734723  742285  947300 1131034 1144913 2737725 2827233]\n"
     ]
    }
   ],
   "source": [
    "print(np.sort(data[:, 1]))    # 가구수 정렬"
   ]
  },
  {
   "cell_type": "code",
   "execution_count": 12,
   "id": "e1417389",
   "metadata": {},
   "outputs": [
    {
     "name": "stdout",
     "output_type": "stream",
     "text": [
      "[ 9 14 10  4  6  0 16 13  5 12 11 15  7  3  2  8  1]\n"
     ]
    }
   ],
   "source": [
    "# arg 함수는 정렬된 인덱스 추출\n",
    "# 데이터의 크기순으로 정렬(argsort)\n",
    "print(data[:,1].argsort())"
   ]
  },
  {
   "cell_type": "code",
   "execution_count": 16,
   "id": "c748cfa8",
   "metadata": {},
   "outputs": [
    {
     "name": "stdout",
     "output_type": "stream",
     "text": [
      "[[      2 2827233     444   45111]\n",
      " [      9 2737725     361   36569]\n",
      " [      3 1144913     289   29043]\n",
      " [      4 1131034     230   22436]\n",
      " [      8  947300     366   36274]\n",
      " [     16  742285     282   27901]\n",
      " [     12  734723     398   40049]\n",
      " [     13  726699     249   25120]\n",
      " [      6  668623     364   35245]\n",
      " [     14  634696     285   28556]\n",
      " [     17  584500     268   26899]\n",
      " [      1  565082     273   27177]\n",
      " [      7  425659     344   32331]\n",
      " [      5  380425     391   38020]\n",
      " [     11  323151     353   35470]\n",
      " [     15  258605     221   22180]\n",
      " [     10   49394     580   57091]]\n"
     ]
    }
   ],
   "source": [
    "print(data[ data[:,1].argsort()[::-1] ])  "
   ]
  },
  {
   "cell_type": "markdown",
   "id": "bf2a11fb",
   "metadata": {},
   "source": [
    "* 03_데이터 통계"
   ]
  },
  {
   "cell_type": "code",
   "execution_count": 18,
   "id": "5bc21f19",
   "metadata": {},
   "outputs": [
    {
     "name": "stdout",
     "output_type": "stream",
     "text": [
      "14882047\n",
      "335.18\n"
     ]
    }
   ],
   "source": [
    "print(np.sum(data[:,1]))            # 전국 대상 가구수의 합\n",
    "print(round(data[:,2].mean(), 2))   # 가구당 평균 전력 사용량의 전국 평균값"
   ]
  },
  {
   "cell_type": "code",
   "execution_count": 21,
   "id": "36a31f08",
   "metadata": {},
   "outputs": [
    {
     "name": "stdout",
     "output_type": "stream",
     "text": [
      "[ 565082 2827233 1144913 1131034  380425  668623  425659  947300 2737725\n",
      "   49394  323151  734723  726699  634696  258605  742285  584500]\n"
     ]
    },
    {
     "data": {
      "text/plain": [
       "14882047"
      ]
     },
     "execution_count": 21,
     "metadata": {},
     "output_type": "execute_result"
    }
   ],
   "source": [
    "# 전국 대상 가구수의 합\n",
    "print(data[:,1])\n",
    "data[:,1].sum()   # 또는 np.sum(data[:,1])"
   ]
  },
  {
   "cell_type": "code",
   "execution_count": 23,
   "id": "3b257a61",
   "metadata": {},
   "outputs": [
    {
     "name": "stdout",
     "output_type": "stream",
     "text": [
      "[273 444 289 230 391 364 344 366 361 580 353 398 249 285 221 282 268]\n"
     ]
    },
    {
     "data": {
      "text/plain": [
       "335.1764705882353"
      ]
     },
     "execution_count": 23,
     "metadata": {},
     "output_type": "execute_result"
    }
   ],
   "source": [
    "# 가구당 평균 전력 사용량의 전국 평균값\n",
    "print(data[:,2])\n",
    "data[:,2].mean()  # 또는 np.mean(data[:,2])   # round(data, 2) : 소수점 2자리까지"
   ]
  },
  {
   "cell_type": "code",
   "execution_count": 25,
   "id": "a3b6329e",
   "metadata": {},
   "outputs": [
    {
     "name": "stdout",
     "output_type": "stream",
     "text": [
      "5698\n",
      "17\n",
      "가구당 평균 전력 사용량의 전국 평균값 :  335.1764705882353\n"
     ]
    }
   ],
   "source": [
    "# 무식하게 평균 구하기\n",
    "e_sum = np.sum(data[:,2])\n",
    "print(e_sum)\n",
    "\n",
    "n_rows = data.shape[0]\n",
    "print(n_rows)\n",
    "\n",
    "print('가구당 평균 전력 사용량의 전국 평균값 : ', e_sum/n_rows)"
   ]
  },
  {
   "cell_type": "code",
   "execution_count": 26,
   "id": "8b2faf95",
   "metadata": {},
   "outputs": [
    {
     "name": "stdout",
     "output_type": "stream",
     "text": [
      "[[      2 2827233]\n",
      " [      5  380425]\n",
      " [      6  668623]\n",
      " [      7  425659]\n",
      " [      8  947300]\n",
      " [      9 2737725]\n",
      " [     10   49394]\n",
      " [     11  323151]\n",
      " [     12  734723]]\n"
     ]
    }
   ],
   "source": [
    "# 가구당 평균 전력 사용량이 전국 평균(avg_) 이상인 지역과 대상 가구수 추출\n",
    "avg_ = data[:,2].mean()\n",
    "print(data[data[:,2] > avg_, 0:2])"
   ]
  },
  {
   "cell_type": "code",
   "execution_count": 28,
   "id": "8f108327",
   "metadata": {},
   "outputs": [
    {
     "data": {
      "text/plain": [
       "array([False,  True, False, False,  True,  True,  True,  True,  True,\n",
       "        True,  True,  True, False, False, False, False, False])"
      ]
     },
     "execution_count": 28,
     "metadata": {},
     "output_type": "execute_result"
    }
   ],
   "source": [
    "data[:,2] > avg_   # 위 조건 확인"
   ]
  }
 ],
 "metadata": {
  "kernelspec": {
   "display_name": "Python 3 (ipykernel)",
   "language": "python",
   "name": "python3"
  },
  "language_info": {
   "codemirror_mode": {
    "name": "ipython",
    "version": 3
   },
   "file_extension": ".py",
   "mimetype": "text/x-python",
   "name": "python",
   "nbconvert_exporter": "python",
   "pygments_lexer": "ipython3",
   "version": "3.9.12"
  }
 },
 "nbformat": 4,
 "nbformat_minor": 5
}
