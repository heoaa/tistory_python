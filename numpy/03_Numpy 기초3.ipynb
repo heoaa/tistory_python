{
 "cells": [
  {
   "cell_type": "markdown",
   "id": "bf4bd73a",
   "metadata": {},
   "source": [
    "### 배열 슬라이싱"
   ]
  },
  {
   "cell_type": "code",
   "execution_count": 2,
   "id": "8f56eb11",
   "metadata": {},
   "outputs": [],
   "source": [
    "import numpy as np"
   ]
  },
  {
   "cell_type": "code",
   "execution_count": 7,
   "id": "ba865216",
   "metadata": {},
   "outputs": [
    {
     "name": "stdout",
     "output_type": "stream",
     "text": [
      "[ 1  6 11 16]\n",
      "[[ 1]\n",
      " [ 6]\n",
      " [11]\n",
      " [16]]\n",
      "[[ 1]\n",
      " [ 6]\n",
      " [11]\n",
      " [16]]\n"
     ]
    }
   ],
   "source": [
    "matrix = np.array([[1,2,3,4,5],\n",
    "                   [6,7,8,9,10],\n",
    "                   [11,12,13,14,15],\n",
    "                   [16,17,18,19,20]])\n",
    "\n",
    "print(matrix[:,0])    # 0열 전체 슬라이싱\n",
    "print(matrix[:,:1])   # 0열 전체 슬라이싱(2차원 유지)   # 또는 print(matrix[:,[0]])"
   ]
  },
  {
   "cell_type": "code",
   "execution_count": 10,
   "id": "bd32b092",
   "metadata": {},
   "outputs": [
    {
     "name": "stdout",
     "output_type": "stream",
     "text": [
      "[ 6  7  8  9 10]\n",
      "[ 6  7  8  9 10]\n",
      "[[ 6  7  8  9 10]]\n"
     ]
    }
   ],
   "source": [
    "print(matrix[1,:])    # 1행 전체 슬라이싱\n",
    "print(matrix[1])      # rank > row > col 순으로 :(콜론) 생략 가능\n",
    "print(matrix[1:2,:])  # 1행 전체 슬라이싱(2차원 유지)  # 또는 print(matrix[[1]])"
   ]
  },
  {
   "cell_type": "code",
   "execution_count": 11,
   "id": "ed2d7d1c",
   "metadata": {},
   "outputs": [
    {
     "name": "stdout",
     "output_type": "stream",
     "text": [
      "[[ 4  5]\n",
      " [ 9 10]\n",
      " [14 15]\n",
      " [19 20]]\n",
      "[2 3 4]\n"
     ]
    }
   ],
   "source": [
    "print(matrix[:,3:])    # 3~4열 전체 슬라이싱\n",
    "print(matrix[0,1:-1])  # 0행, 1~3열 슬라이싱  # 또는 print(matrix[0,1:4])"
   ]
  },
  {
   "cell_type": "code",
   "execution_count": 12,
   "id": "d867b20a",
   "metadata": {},
   "outputs": [
    {
     "name": "stdout",
     "output_type": "stream",
     "text": [
      "[[13 14 15]\n",
      " [18 19 20]]\n",
      "[[ 8]\n",
      " [13]]\n"
     ]
    }
   ],
   "source": [
    "print(matrix[-2:,-3:])   # 2~3행, 2~4열 슬라이싱\n",
    "print(matrix[1:-1,2:3])  # 1~2행, 1~2열 슬라이싱"
   ]
  },
  {
   "cell_type": "markdown",
   "id": "2a828847",
   "metadata": {},
   "source": [
    "### 배열 인덱싱, 슬라이싱 복합"
   ]
  },
  {
   "cell_type": "code",
   "execution_count": 15,
   "id": "2aadebd9",
   "metadata": {},
   "outputs": [
    {
     "name": "stdout",
     "output_type": "stream",
     "text": [
      "[[ 8  9 10]\n",
      " [18 19 20]]\n",
      "[[ 7  9]\n",
      " [12 14]]\n"
     ]
    }
   ],
   "source": [
    "matrix = np.array([[1,2,3,4,5],\n",
    "                   [6,7,8,9,10],\n",
    "                   [11,12,13,14,15],\n",
    "                   [16,17,18,19,20]])\n",
    "\n",
    "print(matrix[[1,3],2:])   # 1,3행, 2~4열 슬라이싱\n",
    "print(matrix[1:-1,[1,3]])  # 1~2행, 1,3열 슬라이싱"
   ]
  },
  {
   "cell_type": "markdown",
   "id": "5949963b",
   "metadata": {},
   "source": [
    "#### 연습문제"
   ]
  },
  {
   "cell_type": "code",
   "execution_count": 17,
   "id": "f91dfe3d",
   "metadata": {},
   "outputs": [],
   "source": [
    "tensor = np.array([[[1,2,3],\n",
    "                    [4,5,6]],\n",
    "                   [[7,8,9],\n",
    "                    [10,11,12]]])"
   ]
  },
  {
   "cell_type": "code",
   "execution_count": 20,
   "id": "bbcdab59",
   "metadata": {},
   "outputs": [
    {
     "name": "stdout",
     "output_type": "stream",
     "text": [
      "[10  2  6]\n"
     ]
    }
   ],
   "source": [
    "# [10  2  6] 배열 추출\n",
    "print(tensor[[1,0,0],[1,0,1],[0,1,2]])      # [[rank1, rank2 ...], [row1, row2 ...], [col1, col2 ...]]"
   ]
  },
  {
   "cell_type": "code",
   "execution_count": 37,
   "id": "1d54037d",
   "metadata": {},
   "outputs": [
    {
     "name": "stdout",
     "output_type": "stream",
     "text": [
      "[[1 2]\n",
      " [4 5]]\n"
     ]
    }
   ],
   "source": [
    "# [[1  2]\n",
    "#  [4  5]]  배열과 \n",
    "print(tensor[0,:,:2])"
   ]
  },
  {
   "cell_type": "code",
   "execution_count": 40,
   "id": "90470a55",
   "metadata": {},
   "outputs": [
    {
     "name": "stdout",
     "output_type": "stream",
     "text": [
      "[ 9 12]\n",
      "[ 9 12]\n",
      "[[ 9]\n",
      " [12]]\n"
     ]
    }
   ],
   "source": [
    "# [9  12] 배열 추출\n",
    "print(tensor[[1,1],[0,1],[2,2]])   # 1차원(인덱싱으로 pick해서 가져오기)\n",
    "print(tensor[1,:,2])               # 1차원 유지\n",
    "\n",
    "print(tensor[1,:,2:])              # 2차원 유지(슬라이싱 활용)"
   ]
  }
 ],
 "metadata": {
  "kernelspec": {
   "display_name": "Python 3 (ipykernel)",
   "language": "python",
   "name": "python3"
  },
  "language_info": {
   "codemirror_mode": {
    "name": "ipython",
    "version": 3
   },
   "file_extension": ".py",
   "mimetype": "text/x-python",
   "name": "python",
   "nbconvert_exporter": "python",
   "pygments_lexer": "ipython3",
   "version": "3.9.12"
  }
 },
 "nbformat": 4,
 "nbformat_minor": 5
}
