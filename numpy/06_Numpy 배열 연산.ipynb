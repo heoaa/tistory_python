{
 "cells": [
  {
   "cell_type": "code",
   "execution_count": 1,
   "id": "ceaf4d8e",
   "metadata": {},
   "outputs": [],
   "source": [
    "import numpy as np"
   ]
  },
  {
   "cell_type": "markdown",
   "id": "b2f56a46",
   "metadata": {},
   "source": [
    "### 산술연산"
   ]
  },
  {
   "cell_type": "code",
   "execution_count": 2,
   "id": "a816cc6d",
   "metadata": {},
   "outputs": [
    {
     "name": "stdout",
     "output_type": "stream",
     "text": [
      "[1, 2, 3, 4, 5, 6]\n"
     ]
    }
   ],
   "source": [
    "list1 = [1,2,3]\n",
    "list2 = [4,5,6]\n",
    "print(list1+list2)"
   ]
  },
  {
   "cell_type": "code",
   "execution_count": 3,
   "id": "34b4c3eb",
   "metadata": {},
   "outputs": [
    {
     "name": "stdout",
     "output_type": "stream",
     "text": [
      "[5 7 9]\n"
     ]
    }
   ],
   "source": [
    "arr1 = np.array([1,2,3])\n",
    "arr2 = np.array([4,5,6])\n",
    "print(arr1+arr2)"
   ]
  },
  {
   "cell_type": "code",
   "execution_count": 14,
   "id": "474db21b",
   "metadata": {},
   "outputs": [
    {
     "name": "stdout",
     "output_type": "stream",
     "text": [
      "[[12. 14. 16.]\n",
      " [18. 20. 22.]] \n",
      "\n",
      "[[-10. -10. -10.]\n",
      " [-10. -10. -10.]] \n",
      "\n",
      "[[11. 24. 39.]\n",
      " [56. 75. 96.]] \n",
      "\n",
      "[[0.09090909 0.16666667 0.23076923]\n",
      " [0.2857143  0.33333334 0.375     ]] \n",
      "\n",
      "[[1.0000000e+00 4.0960000e+03 1.5943230e+06]\n",
      " [2.6843546e+08 3.0517578e+10 2.8211098e+12]] \n",
      "\n",
      "[[0. 0. 0.]\n",
      " [0. 0. 0.]] \n",
      "\n",
      "[[1. 2. 3.]\n",
      " [4. 5. 6.]]\n"
     ]
    }
   ],
   "source": [
    "# shape이 같은 배열 연산 가능\n",
    "arr1 = np.arange(1,7,dtype=np.float32).reshape(2,3)\n",
    "arr2 = np.arange(11,17,dtype=np.float32).reshape(2,3)\n",
    "\n",
    "print(arr1+arr2,'\\n')\n",
    "print(arr1-arr2,'\\n')\n",
    "print(arr1*arr2,'\\n')\n",
    "print(arr1/arr2,'\\n')\n",
    "print(arr1**arr2,'\\n')    # 제곱\n",
    "print(arr1//arr2,'\\n')    # 몫\n",
    "print(arr1%arr2)     # 나머지"
   ]
  },
  {
   "cell_type": "markdown",
   "id": "24da3ef3",
   "metadata": {},
   "source": [
    "### Numpy 연산함수\n",
    "* np.add()       : +\n",
    "* np.subtract()  : -\n",
    "* np.multiply()  : *\n",
    "* np.devide()    : /"
   ]
  },
  {
   "cell_type": "code",
   "execution_count": 13,
   "id": "efdf3c11",
   "metadata": {
    "scrolled": true
   },
   "outputs": [
    {
     "name": "stdout",
     "output_type": "stream",
     "text": [
      "[[12. 14. 16.]\n",
      " [18. 20. 22.]] \n",
      "\n",
      "[[-10. -10. -10.]\n",
      " [-10. -10. -10.]] \n",
      "\n",
      "[[11. 24. 39.]\n",
      " [56. 75. 96.]] \n",
      "\n",
      "[[0.09090909 0.16666667 0.23076923]\n",
      " [0.2857143  0.33333334 0.375     ]]\n"
     ]
    }
   ],
   "source": [
    "print(np.add(arr1,arr2),'\\n')\n",
    "print(np.subtract(arr1,arr2),'\\n')\n",
    "print(np.multiply(arr1,arr2),'\\n')\n",
    "print(np.divide(arr1,arr2))"
   ]
  },
  {
   "cell_type": "markdown",
   "id": "88249ed2",
   "metadata": {},
   "source": [
    "### Broadcasting\n",
    "* 연산하고자 하는 배열의 모양이 다른 경우 연산이 가능하도록 지원\n",
    "* but! 행과 열 중 하나의 모양은 동일해야 함 > 자동 적용"
   ]
  },
  {
   "cell_type": "code",
   "execution_count": null,
   "id": "6026e88a",
   "metadata": {},
   "outputs": [],
   "source": [
    "# 일반적으로 에러 발생\n",
    "# arr3=np.arange(10).reshape(5,2)\n",
    "# arr4=np.arange(10).reshape(2,5)\n",
    "# print(arr3+arr4)"
   ]
  },
  {
   "cell_type": "markdown",
   "id": "a3d8b9c5",
   "metadata": {},
   "source": [
    "* 스칼라와 배열의 연산"
   ]
  },
  {
   "cell_type": "code",
   "execution_count": 16,
   "id": "cb415572",
   "metadata": {},
   "outputs": [
    {
     "name": "stdout",
     "output_type": "stream",
     "text": [
      "[11 12 13]\n"
     ]
    }
   ],
   "source": [
    "# 스칼라에서는 어느 차원이든 브로드캐스팅 지원\n",
    "scalar = 10\n",
    "vector = np.array([1,2,3])\n",
    "print(scalar + vector)      # -,*,/ 등 모두 적용 가능"
   ]
  },
  {
   "cell_type": "code",
   "execution_count": 17,
   "id": "2fdc218c",
   "metadata": {},
   "outputs": [
    {
     "name": "stdout",
     "output_type": "stream",
     "text": [
      "[[11 12 13]\n",
      " [14 15 16]]\n"
     ]
    }
   ],
   "source": [
    "scalar = 10\n",
    "matrix = np.array([[1,2,3],[4,5,6]])\n",
    "print(scalar + matrix)"
   ]
  },
  {
   "cell_type": "code",
   "execution_count": 20,
   "id": "910102d1",
   "metadata": {
    "scrolled": true
   },
   "outputs": [
    {
     "name": "stdout",
     "output_type": "stream",
     "text": [
      "[[[11 12 13]\n",
      "  [14 15 16]]\n",
      "\n",
      " [[17 18 19]\n",
      "  [20 21 22]]\n",
      "\n",
      " [[23 24 25]\n",
      "  [26 27 28]]]\n"
     ]
    }
   ],
   "source": [
    "scalar = 10\n",
    "tensor = np.arange(1,19).reshape(3,2,3)\n",
    "print(scalar + tensor)"
   ]
  },
  {
   "cell_type": "markdown",
   "id": "03b46279",
   "metadata": {},
   "source": [
    "* 백터와 백터의 브로드캐스팅 연산"
   ]
  },
  {
   "cell_type": "code",
   "execution_count": 26,
   "id": "c3de239b",
   "metadata": {},
   "outputs": [
    {
     "name": "stdout",
     "output_type": "stream",
     "text": [
      "[1 2 3] \n",
      "\n",
      "[[1]\n",
      " [2]\n",
      " [3]]\n"
     ]
    }
   ],
   "source": [
    "arr1 = np.array([1,2,3])\n",
    "arr2 = np.array([1,2,3]).reshape(3,1)\n",
    "print(arr1,'\\n')\n",
    "print(arr2)"
   ]
  },
  {
   "cell_type": "code",
   "execution_count": 27,
   "id": "01875a8a",
   "metadata": {},
   "outputs": [
    {
     "name": "stdout",
     "output_type": "stream",
     "text": [
      "[[2 3 4]\n",
      " [3 4 5]\n",
      " [4 5 6]]\n"
     ]
    }
   ],
   "source": [
    "print(arr1 + arr2)"
   ]
  },
  {
   "cell_type": "markdown",
   "id": "6d6ed980",
   "metadata": {},
   "source": [
    "* 백터와 매트릭스의 연산"
   ]
  },
  {
   "cell_type": "code",
   "execution_count": 23,
   "id": "28875566",
   "metadata": {},
   "outputs": [
    {
     "name": "stdout",
     "output_type": "stream",
     "text": [
      "[[12 14 16]\n",
      " [15 17 19]\n",
      " [18 20 22]]\n"
     ]
    }
   ],
   "source": [
    "matrix = np.arange(1,10).reshape(3,3)\n",
    "vector = np.arange(11,14).reshape(1,3)\n",
    "print(matrix + vector)"
   ]
  },
  {
   "cell_type": "code",
   "execution_count": 24,
   "id": "7ee7b468",
   "metadata": {},
   "outputs": [
    {
     "name": "stdout",
     "output_type": "stream",
     "text": [
      "[[12 13 14]\n",
      " [16 17 18]\n",
      " [20 21 22]]\n"
     ]
    }
   ],
   "source": [
    "matrix = np.arange(1,10).reshape(3,3)\n",
    "vector = np.arange(11,14).reshape(3,1)\n",
    "print(matrix + vector)"
   ]
  },
  {
   "cell_type": "markdown",
   "id": "3e519777",
   "metadata": {},
   "source": [
    "### 행렬 연산\n",
    "* np.dot(arr1,arr2)"
   ]
  },
  {
   "cell_type": "code",
   "execution_count": 29,
   "id": "0f97cba7",
   "metadata": {},
   "outputs": [
    {
     "name": "stdout",
     "output_type": "stream",
     "text": [
      "[1 4 9]\n"
     ]
    }
   ],
   "source": [
    "# 일반적인 행렬곱\n",
    "arr1 = np.array([1,2,3])\n",
    "arr2 = np.array([1,2,3])\n",
    "print(arr1*arr2)"
   ]
  },
  {
   "cell_type": "code",
   "execution_count": 31,
   "id": "179c6be9",
   "metadata": {},
   "outputs": [
    {
     "name": "stdout",
     "output_type": "stream",
     "text": [
      "14\n",
      "14\n",
      "14\n"
     ]
    }
   ],
   "source": [
    "# n.dot 행렬곱\n",
    "arr1 = np.array([1,2,3])\n",
    "arr2 = np.array([1,2,3]).T\n",
    "\n",
    "print(np.dot(arr1,arr2))\n",
    "print(arr1.dot(arr2))\n",
    "print(arr1@arr2)"
   ]
  },
  {
   "cell_type": "code",
   "execution_count": 32,
   "id": "6f25cf75",
   "metadata": {},
   "outputs": [
    {
     "name": "stdout",
     "output_type": "stream",
     "text": [
      "[[ 82  88]\n",
      " [199 214]]\n"
     ]
    }
   ],
   "source": [
    "arr3 = np.arange(1,7).reshape(2,3)\n",
    "arr4 = np.arange(11,17).reshape(3,2)\n",
    "print(np.dot(arr3,arr4))"
   ]
  }
 ],
 "metadata": {
  "kernelspec": {
   "display_name": "Python 3 (ipykernel)",
   "language": "python",
   "name": "python3"
  },
  "language_info": {
   "codemirror_mode": {
    "name": "ipython",
    "version": 3
   },
   "file_extension": ".py",
   "mimetype": "text/x-python",
   "name": "python",
   "nbconvert_exporter": "python",
   "pygments_lexer": "ipython3",
   "version": "3.9.12"
  }
 },
 "nbformat": 4,
 "nbformat_minor": 5
}
